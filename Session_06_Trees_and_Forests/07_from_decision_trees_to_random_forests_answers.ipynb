{
 "cells": [
  {
   "cell_type": "markdown",
   "metadata": {
    "slideshow": {
     "slide_type": "slide"
    }
   },
   "source": [
    "## Class 7 Agenda:\n",
    "  * **Decision Trees: Regression Trees**\n",
    "  * **What happens when a single tree is grown too deep?**\n",
    "  * **Decision Trees: Classification Trees**\n",
    "  * **Why Have Ensembles?**\n",
    "  * **Ensembles make excellent machine learning models**\n",
    "  * **Ensembles of Decision Trees: Random Forests**"
   ]
  },
  {
   "cell_type": "markdown",
   "metadata": {},
   "source": []
  },
  {
   "cell_type": "markdown",
   "metadata": {
    "slideshow": {
     "slide_type": "subslide"
    }
   },
   "source": [
    "In order to use several state-of-the-art machine learning methods, we need to be able to understand their core component: decision trees.\n",
    "\n",
    "Decision trees, like logistic and linear regression in lesson 5, have been used commonly for machine learning tasks for several decades. These models are fairly easy to understand and and are the basis of the state-of-the-art model that we will build up to today (Random Forests).\n",
    "\n",
    "Decision trees are especially interesting because they approach the machine learning problem in a way that is quite different from the linear methods we've used so far."
   ]
  },
  {
   "cell_type": "markdown",
   "metadata": {
    "slideshow": {
     "slide_type": "slide"
    }
   },
   "source": [
    "### Regression trees"
   ]
  },
  {
   "cell_type": "markdown",
   "metadata": {},
   "source": [
    "We are going to motivate this exploration of individual decision trees by looking at another dataset from the [UCI Machine Learning Repository](https://archive.ics.uci.edu/ml/datasets/Concrete+Slump+Test).\n",
    "\n",
    "This dataset is a collection of measurements of compositional properties of concrete and their effect on the concrete's durability.\n",
    "\n",
    "The dataset is composed of 7 input measurement features (kilograms per meter cubed of concrete):\n",
    "  * Cement\n",
    "  * Slag\t\n",
    "  * Fly ash\t\n",
    "  * Water\t\n",
    "  * SP\t\n",
    "  * Coarse Aggr.\t\n",
    "  * Fine Aggr.\n",
    "  \n",
    "And 3 output measurements:\n",
    "  * SLUMP (cm)\t\n",
    "  * FLOW (cm)\t\n",
    "  * 28-day Compressive Strength (Mpa)"
   ]
  },
  {
   "cell_type": "markdown",
   "metadata": {},
   "source": [
    "Lets get all of the imports out of the way for the packages we will be working with today:"
   ]
  },
  {
   "cell_type": "code",
   "execution_count": 61,
   "metadata": {
    "collapsed": true
   },
   "outputs": [],
   "source": [
    "#data handling/prediction\n",
    "import pandas as pd\n",
    "import numpy as np\n",
    "from sklearn.tree import DecisionTreeRegressor\n",
    "from sklearn.ensemble import BaggingRegressor, RandomForestRegressor\n",
    "from sklearn.linear_model import LinearRegression\n",
    "from sklearn.model_selection import train_test_split\n",
    "from sklearn.metrics import mean_squared_error, accuracy_score\n",
    "from sklearn.externals.six import StringIO\n",
    "\n",
    "#visualization\n",
    "%matplotlib inline\n",
    "import matplotlib.pyplot as plt\n",
    "import seaborn as sns\n",
    "from IPython.display import Image\n",
    "import pydotplus\n",
    "from sklearn.tree import export_graphviz"
   ]
  },
  {
   "cell_type": "markdown",
   "metadata": {},
   "source": [
    "Lets get the data directly off the web this time:"
   ]
  },
  {
   "cell_type": "code",
   "execution_count": 62,
   "metadata": {
    "collapsed": true
   },
   "outputs": [],
   "source": [
    "cement_data = pd.read_csv(\"https://archive.ics.uci.edu/ml/machine-learning-databases/concrete/slump/slump_test.data\",index_col=0)\n",
    "#replace spaces and periods in column names with underscores\n",
    "cement_data.columns = cement_data.columns.str.lower().str.replace(\" \",\"_\").str.replace(\".\",\"\").str.replace(\"(\",\"_\").str.replace(\")\",\"\")\n"
   ]
  },
  {
   "cell_type": "code",
   "execution_count": 63,
   "metadata": {},
   "outputs": [
    {
     "data": {
      "text/html": [
       "<div>\n",
       "<style>\n",
       "    .dataframe thead tr:only-child th {\n",
       "        text-align: right;\n",
       "    }\n",
       "\n",
       "    .dataframe thead th {\n",
       "        text-align: left;\n",
       "    }\n",
       "\n",
       "    .dataframe tbody tr th {\n",
       "        vertical-align: top;\n",
       "    }\n",
       "</style>\n",
       "<table border=\"1\" class=\"dataframe\">\n",
       "  <thead>\n",
       "    <tr style=\"text-align: right;\">\n",
       "      <th></th>\n",
       "      <th>cement</th>\n",
       "      <th>slag</th>\n",
       "      <th>fly_ash</th>\n",
       "      <th>water</th>\n",
       "      <th>sp</th>\n",
       "      <th>coarse_aggr</th>\n",
       "      <th>fine_aggr</th>\n",
       "      <th>slump_cm</th>\n",
       "      <th>flow_cm</th>\n",
       "      <th>compressive_strength__28-day_mpa</th>\n",
       "    </tr>\n",
       "    <tr>\n",
       "      <th>No</th>\n",
       "      <th></th>\n",
       "      <th></th>\n",
       "      <th></th>\n",
       "      <th></th>\n",
       "      <th></th>\n",
       "      <th></th>\n",
       "      <th></th>\n",
       "      <th></th>\n",
       "      <th></th>\n",
       "      <th></th>\n",
       "    </tr>\n",
       "  </thead>\n",
       "  <tbody>\n",
       "    <tr>\n",
       "      <th>1</th>\n",
       "      <td>273.0</td>\n",
       "      <td>82.0</td>\n",
       "      <td>105.0</td>\n",
       "      <td>210.0</td>\n",
       "      <td>9.0</td>\n",
       "      <td>904.0</td>\n",
       "      <td>680.0</td>\n",
       "      <td>23.0</td>\n",
       "      <td>62.0</td>\n",
       "      <td>34.99</td>\n",
       "    </tr>\n",
       "    <tr>\n",
       "      <th>2</th>\n",
       "      <td>163.0</td>\n",
       "      <td>149.0</td>\n",
       "      <td>191.0</td>\n",
       "      <td>180.0</td>\n",
       "      <td>12.0</td>\n",
       "      <td>843.0</td>\n",
       "      <td>746.0</td>\n",
       "      <td>0.0</td>\n",
       "      <td>20.0</td>\n",
       "      <td>41.14</td>\n",
       "    </tr>\n",
       "    <tr>\n",
       "      <th>3</th>\n",
       "      <td>162.0</td>\n",
       "      <td>148.0</td>\n",
       "      <td>191.0</td>\n",
       "      <td>179.0</td>\n",
       "      <td>16.0</td>\n",
       "      <td>840.0</td>\n",
       "      <td>743.0</td>\n",
       "      <td>1.0</td>\n",
       "      <td>20.0</td>\n",
       "      <td>41.81</td>\n",
       "    </tr>\n",
       "    <tr>\n",
       "      <th>4</th>\n",
       "      <td>162.0</td>\n",
       "      <td>148.0</td>\n",
       "      <td>190.0</td>\n",
       "      <td>179.0</td>\n",
       "      <td>19.0</td>\n",
       "      <td>838.0</td>\n",
       "      <td>741.0</td>\n",
       "      <td>3.0</td>\n",
       "      <td>21.5</td>\n",
       "      <td>42.08</td>\n",
       "    </tr>\n",
       "    <tr>\n",
       "      <th>5</th>\n",
       "      <td>154.0</td>\n",
       "      <td>112.0</td>\n",
       "      <td>144.0</td>\n",
       "      <td>220.0</td>\n",
       "      <td>10.0</td>\n",
       "      <td>923.0</td>\n",
       "      <td>658.0</td>\n",
       "      <td>20.0</td>\n",
       "      <td>64.0</td>\n",
       "      <td>26.82</td>\n",
       "    </tr>\n",
       "  </tbody>\n",
       "</table>\n",
       "</div>"
      ],
      "text/plain": [
       "    cement   slag  fly_ash  water    sp  coarse_aggr  fine_aggr  slump_cm  \\\n",
       "No                                                                          \n",
       "1    273.0   82.0    105.0  210.0   9.0        904.0      680.0      23.0   \n",
       "2    163.0  149.0    191.0  180.0  12.0        843.0      746.0       0.0   \n",
       "3    162.0  148.0    191.0  179.0  16.0        840.0      743.0       1.0   \n",
       "4    162.0  148.0    190.0  179.0  19.0        838.0      741.0       3.0   \n",
       "5    154.0  112.0    144.0  220.0  10.0        923.0      658.0      20.0   \n",
       "\n",
       "    flow_cm  compressive_strength__28-day_mpa  \n",
       "No                                             \n",
       "1      62.0                             34.99  \n",
       "2      20.0                             41.14  \n",
       "3      20.0                             41.81  \n",
       "4      21.5                             42.08  \n",
       "5      64.0                             26.82  "
      ]
     },
     "execution_count": 63,
     "metadata": {},
     "output_type": "execute_result"
    }
   ],
   "source": [
    "cement_data.head()"
   ]
  },
  {
   "cell_type": "markdown",
   "metadata": {},
   "source": [
    "We are going to construct a model that predicts the last column (`compressive_strength`) using the 7 input columns.\n",
    "\n",
    "We are also going to remap the `compressive_strength` column to a few bins so that we can map ranges of output values to colors:"
   ]
  },
  {
   "cell_type": "code",
   "execution_count": 64,
   "metadata": {
    "collapsed": true
   },
   "outputs": [],
   "source": [
    "X,y = cement_data.iloc[:,:7],cement_data.iloc[:,-1]\n",
    "feature_names_cem = X.columns.tolist()\n",
    "target_name = cement_data.columns.tolist()[-1]\n",
    "#create 5 equally-sized bins\n",
    "cement_data[\"compressive_strength_bins\"] = pd.cut(cement_data[\"compressive_strength__28-day_mpa\"],5, labels=[21,30,38,46,54])#labels=[21.3035,29.592,37.86,46.128,54.396] \n",
    "cement_data[\"compressive_strength_bins_range\"] = pd.cut(cement_data[\"compressive_strength__28-day_mpa\"],5)"
   ]
  },
  {
   "cell_type": "code",
   "execution_count": 65,
   "metadata": {},
   "outputs": [
    {
     "data": {
      "text/html": [
       "<div>\n",
       "<style>\n",
       "    .dataframe thead tr:only-child th {\n",
       "        text-align: right;\n",
       "    }\n",
       "\n",
       "    .dataframe thead th {\n",
       "        text-align: left;\n",
       "    }\n",
       "\n",
       "    .dataframe tbody tr th {\n",
       "        vertical-align: top;\n",
       "    }\n",
       "</style>\n",
       "<table border=\"1\" class=\"dataframe\">\n",
       "  <thead>\n",
       "    <tr style=\"text-align: right;\">\n",
       "      <th></th>\n",
       "      <th>cement</th>\n",
       "      <th>slag</th>\n",
       "      <th>fly_ash</th>\n",
       "      <th>water</th>\n",
       "      <th>sp</th>\n",
       "      <th>coarse_aggr</th>\n",
       "      <th>fine_aggr</th>\n",
       "      <th>slump_cm</th>\n",
       "      <th>flow_cm</th>\n",
       "      <th>compressive_strength__28-day_mpa</th>\n",
       "      <th>compressive_strength_bins</th>\n",
       "      <th>compressive_strength_bins_range</th>\n",
       "    </tr>\n",
       "    <tr>\n",
       "      <th>No</th>\n",
       "      <th></th>\n",
       "      <th></th>\n",
       "      <th></th>\n",
       "      <th></th>\n",
       "      <th></th>\n",
       "      <th></th>\n",
       "      <th></th>\n",
       "      <th></th>\n",
       "      <th></th>\n",
       "      <th></th>\n",
       "      <th></th>\n",
       "      <th></th>\n",
       "    </tr>\n",
       "  </thead>\n",
       "  <tbody>\n",
       "    <tr>\n",
       "      <th>1</th>\n",
       "      <td>273.0</td>\n",
       "      <td>82.0</td>\n",
       "      <td>105.0</td>\n",
       "      <td>210.0</td>\n",
       "      <td>9.0</td>\n",
       "      <td>904.0</td>\n",
       "      <td>680.0</td>\n",
       "      <td>23.00</td>\n",
       "      <td>62.0</td>\n",
       "      <td>34.99</td>\n",
       "      <td>38</td>\n",
       "      <td>(33.726, 41.994]</td>\n",
       "    </tr>\n",
       "    <tr>\n",
       "      <th>2</th>\n",
       "      <td>163.0</td>\n",
       "      <td>149.0</td>\n",
       "      <td>191.0</td>\n",
       "      <td>180.0</td>\n",
       "      <td>12.0</td>\n",
       "      <td>843.0</td>\n",
       "      <td>746.0</td>\n",
       "      <td>0.00</td>\n",
       "      <td>20.0</td>\n",
       "      <td>41.14</td>\n",
       "      <td>38</td>\n",
       "      <td>(33.726, 41.994]</td>\n",
       "    </tr>\n",
       "    <tr>\n",
       "      <th>3</th>\n",
       "      <td>162.0</td>\n",
       "      <td>148.0</td>\n",
       "      <td>191.0</td>\n",
       "      <td>179.0</td>\n",
       "      <td>16.0</td>\n",
       "      <td>840.0</td>\n",
       "      <td>743.0</td>\n",
       "      <td>1.00</td>\n",
       "      <td>20.0</td>\n",
       "      <td>41.81</td>\n",
       "      <td>38</td>\n",
       "      <td>(33.726, 41.994]</td>\n",
       "    </tr>\n",
       "    <tr>\n",
       "      <th>4</th>\n",
       "      <td>162.0</td>\n",
       "      <td>148.0</td>\n",
       "      <td>190.0</td>\n",
       "      <td>179.0</td>\n",
       "      <td>19.0</td>\n",
       "      <td>838.0</td>\n",
       "      <td>741.0</td>\n",
       "      <td>3.00</td>\n",
       "      <td>21.5</td>\n",
       "      <td>42.08</td>\n",
       "      <td>46</td>\n",
       "      <td>(41.994, 50.262]</td>\n",
       "    </tr>\n",
       "    <tr>\n",
       "      <th>5</th>\n",
       "      <td>154.0</td>\n",
       "      <td>112.0</td>\n",
       "      <td>144.0</td>\n",
       "      <td>220.0</td>\n",
       "      <td>10.0</td>\n",
       "      <td>923.0</td>\n",
       "      <td>658.0</td>\n",
       "      <td>20.00</td>\n",
       "      <td>64.0</td>\n",
       "      <td>26.82</td>\n",
       "      <td>30</td>\n",
       "      <td>(25.458, 33.726]</td>\n",
       "    </tr>\n",
       "    <tr>\n",
       "      <th>6</th>\n",
       "      <td>147.0</td>\n",
       "      <td>89.0</td>\n",
       "      <td>115.0</td>\n",
       "      <td>202.0</td>\n",
       "      <td>9.0</td>\n",
       "      <td>860.0</td>\n",
       "      <td>829.0</td>\n",
       "      <td>23.00</td>\n",
       "      <td>55.0</td>\n",
       "      <td>25.21</td>\n",
       "      <td>21</td>\n",
       "      <td>(17.149, 25.458]</td>\n",
       "    </tr>\n",
       "    <tr>\n",
       "      <th>7</th>\n",
       "      <td>152.0</td>\n",
       "      <td>139.0</td>\n",
       "      <td>178.0</td>\n",
       "      <td>168.0</td>\n",
       "      <td>18.0</td>\n",
       "      <td>944.0</td>\n",
       "      <td>695.0</td>\n",
       "      <td>0.00</td>\n",
       "      <td>20.0</td>\n",
       "      <td>38.86</td>\n",
       "      <td>38</td>\n",
       "      <td>(33.726, 41.994]</td>\n",
       "    </tr>\n",
       "    <tr>\n",
       "      <th>8</th>\n",
       "      <td>145.0</td>\n",
       "      <td>0.0</td>\n",
       "      <td>227.0</td>\n",
       "      <td>240.0</td>\n",
       "      <td>6.0</td>\n",
       "      <td>750.0</td>\n",
       "      <td>853.0</td>\n",
       "      <td>14.50</td>\n",
       "      <td>58.5</td>\n",
       "      <td>36.59</td>\n",
       "      <td>38</td>\n",
       "      <td>(33.726, 41.994]</td>\n",
       "    </tr>\n",
       "    <tr>\n",
       "      <th>9</th>\n",
       "      <td>152.0</td>\n",
       "      <td>0.0</td>\n",
       "      <td>237.0</td>\n",
       "      <td>204.0</td>\n",
       "      <td>6.0</td>\n",
       "      <td>785.0</td>\n",
       "      <td>892.0</td>\n",
       "      <td>15.50</td>\n",
       "      <td>51.0</td>\n",
       "      <td>32.71</td>\n",
       "      <td>30</td>\n",
       "      <td>(25.458, 33.726]</td>\n",
       "    </tr>\n",
       "    <tr>\n",
       "      <th>10</th>\n",
       "      <td>304.0</td>\n",
       "      <td>0.0</td>\n",
       "      <td>140.0</td>\n",
       "      <td>214.0</td>\n",
       "      <td>6.0</td>\n",
       "      <td>895.0</td>\n",
       "      <td>722.0</td>\n",
       "      <td>19.00</td>\n",
       "      <td>51.0</td>\n",
       "      <td>38.46</td>\n",
       "      <td>38</td>\n",
       "      <td>(33.726, 41.994]</td>\n",
       "    </tr>\n",
       "    <tr>\n",
       "      <th>11</th>\n",
       "      <td>145.0</td>\n",
       "      <td>106.0</td>\n",
       "      <td>136.0</td>\n",
       "      <td>208.0</td>\n",
       "      <td>10.0</td>\n",
       "      <td>751.0</td>\n",
       "      <td>883.0</td>\n",
       "      <td>24.50</td>\n",
       "      <td>61.0</td>\n",
       "      <td>26.02</td>\n",
       "      <td>30</td>\n",
       "      <td>(25.458, 33.726]</td>\n",
       "    </tr>\n",
       "    <tr>\n",
       "      <th>12</th>\n",
       "      <td>148.0</td>\n",
       "      <td>109.0</td>\n",
       "      <td>139.0</td>\n",
       "      <td>193.0</td>\n",
       "      <td>7.0</td>\n",
       "      <td>768.0</td>\n",
       "      <td>902.0</td>\n",
       "      <td>23.75</td>\n",
       "      <td>58.0</td>\n",
       "      <td>28.03</td>\n",
       "      <td>30</td>\n",
       "      <td>(25.458, 33.726]</td>\n",
       "    </tr>\n",
       "    <tr>\n",
       "      <th>13</th>\n",
       "      <td>142.0</td>\n",
       "      <td>130.0</td>\n",
       "      <td>167.0</td>\n",
       "      <td>215.0</td>\n",
       "      <td>6.0</td>\n",
       "      <td>735.0</td>\n",
       "      <td>836.0</td>\n",
       "      <td>25.50</td>\n",
       "      <td>67.0</td>\n",
       "      <td>31.37</td>\n",
       "      <td>30</td>\n",
       "      <td>(25.458, 33.726]</td>\n",
       "    </tr>\n",
       "    <tr>\n",
       "      <th>14</th>\n",
       "      <td>354.0</td>\n",
       "      <td>0.0</td>\n",
       "      <td>0.0</td>\n",
       "      <td>234.0</td>\n",
       "      <td>6.0</td>\n",
       "      <td>959.0</td>\n",
       "      <td>691.0</td>\n",
       "      <td>17.00</td>\n",
       "      <td>54.0</td>\n",
       "      <td>33.91</td>\n",
       "      <td>38</td>\n",
       "      <td>(33.726, 41.994]</td>\n",
       "    </tr>\n",
       "    <tr>\n",
       "      <th>15</th>\n",
       "      <td>374.0</td>\n",
       "      <td>0.0</td>\n",
       "      <td>0.0</td>\n",
       "      <td>190.0</td>\n",
       "      <td>7.0</td>\n",
       "      <td>1013.0</td>\n",
       "      <td>730.0</td>\n",
       "      <td>14.50</td>\n",
       "      <td>42.5</td>\n",
       "      <td>32.44</td>\n",
       "      <td>30</td>\n",
       "      <td>(25.458, 33.726]</td>\n",
       "    </tr>\n",
       "    <tr>\n",
       "      <th>16</th>\n",
       "      <td>159.0</td>\n",
       "      <td>116.0</td>\n",
       "      <td>149.0</td>\n",
       "      <td>175.0</td>\n",
       "      <td>15.0</td>\n",
       "      <td>953.0</td>\n",
       "      <td>720.0</td>\n",
       "      <td>23.50</td>\n",
       "      <td>54.5</td>\n",
       "      <td>34.05</td>\n",
       "      <td>38</td>\n",
       "      <td>(33.726, 41.994]</td>\n",
       "    </tr>\n",
       "    <tr>\n",
       "      <th>17</th>\n",
       "      <td>153.0</td>\n",
       "      <td>0.0</td>\n",
       "      <td>239.0</td>\n",
       "      <td>200.0</td>\n",
       "      <td>6.0</td>\n",
       "      <td>1002.0</td>\n",
       "      <td>684.0</td>\n",
       "      <td>12.00</td>\n",
       "      <td>35.0</td>\n",
       "      <td>28.29</td>\n",
       "      <td>30</td>\n",
       "      <td>(25.458, 33.726]</td>\n",
       "    </tr>\n",
       "    <tr>\n",
       "      <th>18</th>\n",
       "      <td>295.0</td>\n",
       "      <td>106.0</td>\n",
       "      <td>136.0</td>\n",
       "      <td>206.0</td>\n",
       "      <td>11.0</td>\n",
       "      <td>750.0</td>\n",
       "      <td>766.0</td>\n",
       "      <td>25.00</td>\n",
       "      <td>68.5</td>\n",
       "      <td>41.01</td>\n",
       "      <td>38</td>\n",
       "      <td>(33.726, 41.994]</td>\n",
       "    </tr>\n",
       "    <tr>\n",
       "      <th>19</th>\n",
       "      <td>310.0</td>\n",
       "      <td>0.0</td>\n",
       "      <td>143.0</td>\n",
       "      <td>168.0</td>\n",
       "      <td>10.0</td>\n",
       "      <td>914.0</td>\n",
       "      <td>804.0</td>\n",
       "      <td>20.50</td>\n",
       "      <td>48.2</td>\n",
       "      <td>49.30</td>\n",
       "      <td>46</td>\n",
       "      <td>(41.994, 50.262]</td>\n",
       "    </tr>\n",
       "    <tr>\n",
       "      <th>20</th>\n",
       "      <td>296.0</td>\n",
       "      <td>97.0</td>\n",
       "      <td>0.0</td>\n",
       "      <td>219.0</td>\n",
       "      <td>9.0</td>\n",
       "      <td>932.0</td>\n",
       "      <td>685.0</td>\n",
       "      <td>15.00</td>\n",
       "      <td>48.5</td>\n",
       "      <td>29.23</td>\n",
       "      <td>30</td>\n",
       "      <td>(25.458, 33.726]</td>\n",
       "    </tr>\n",
       "  </tbody>\n",
       "</table>\n",
       "</div>"
      ],
      "text/plain": [
       "    cement   slag  fly_ash  water    sp  coarse_aggr  fine_aggr  slump_cm  \\\n",
       "No                                                                          \n",
       "1    273.0   82.0    105.0  210.0   9.0        904.0      680.0     23.00   \n",
       "2    163.0  149.0    191.0  180.0  12.0        843.0      746.0      0.00   \n",
       "3    162.0  148.0    191.0  179.0  16.0        840.0      743.0      1.00   \n",
       "4    162.0  148.0    190.0  179.0  19.0        838.0      741.0      3.00   \n",
       "5    154.0  112.0    144.0  220.0  10.0        923.0      658.0     20.00   \n",
       "6    147.0   89.0    115.0  202.0   9.0        860.0      829.0     23.00   \n",
       "7    152.0  139.0    178.0  168.0  18.0        944.0      695.0      0.00   \n",
       "8    145.0    0.0    227.0  240.0   6.0        750.0      853.0     14.50   \n",
       "9    152.0    0.0    237.0  204.0   6.0        785.0      892.0     15.50   \n",
       "10   304.0    0.0    140.0  214.0   6.0        895.0      722.0     19.00   \n",
       "11   145.0  106.0    136.0  208.0  10.0        751.0      883.0     24.50   \n",
       "12   148.0  109.0    139.0  193.0   7.0        768.0      902.0     23.75   \n",
       "13   142.0  130.0    167.0  215.0   6.0        735.0      836.0     25.50   \n",
       "14   354.0    0.0      0.0  234.0   6.0        959.0      691.0     17.00   \n",
       "15   374.0    0.0      0.0  190.0   7.0       1013.0      730.0     14.50   \n",
       "16   159.0  116.0    149.0  175.0  15.0        953.0      720.0     23.50   \n",
       "17   153.0    0.0    239.0  200.0   6.0       1002.0      684.0     12.00   \n",
       "18   295.0  106.0    136.0  206.0  11.0        750.0      766.0     25.00   \n",
       "19   310.0    0.0    143.0  168.0  10.0        914.0      804.0     20.50   \n",
       "20   296.0   97.0      0.0  219.0   9.0        932.0      685.0     15.00   \n",
       "\n",
       "    flow_cm  compressive_strength__28-day_mpa compressive_strength_bins  \\\n",
       "No                                                                        \n",
       "1      62.0                             34.99                        38   \n",
       "2      20.0                             41.14                        38   \n",
       "3      20.0                             41.81                        38   \n",
       "4      21.5                             42.08                        46   \n",
       "5      64.0                             26.82                        30   \n",
       "6      55.0                             25.21                        21   \n",
       "7      20.0                             38.86                        38   \n",
       "8      58.5                             36.59                        38   \n",
       "9      51.0                             32.71                        30   \n",
       "10     51.0                             38.46                        38   \n",
       "11     61.0                             26.02                        30   \n",
       "12     58.0                             28.03                        30   \n",
       "13     67.0                             31.37                        30   \n",
       "14     54.0                             33.91                        38   \n",
       "15     42.5                             32.44                        30   \n",
       "16     54.5                             34.05                        38   \n",
       "17     35.0                             28.29                        30   \n",
       "18     68.5                             41.01                        38   \n",
       "19     48.2                             49.30                        46   \n",
       "20     48.5                             29.23                        30   \n",
       "\n",
       "   compressive_strength_bins_range  \n",
       "No                                  \n",
       "1                 (33.726, 41.994]  \n",
       "2                 (33.726, 41.994]  \n",
       "3                 (33.726, 41.994]  \n",
       "4                 (41.994, 50.262]  \n",
       "5                 (25.458, 33.726]  \n",
       "6                 (17.149, 25.458]  \n",
       "7                 (33.726, 41.994]  \n",
       "8                 (33.726, 41.994]  \n",
       "9                 (25.458, 33.726]  \n",
       "10                (33.726, 41.994]  \n",
       "11                (25.458, 33.726]  \n",
       "12                (25.458, 33.726]  \n",
       "13                (25.458, 33.726]  \n",
       "14                (33.726, 41.994]  \n",
       "15                (25.458, 33.726]  \n",
       "16                (33.726, 41.994]  \n",
       "17                (25.458, 33.726]  \n",
       "18                (33.726, 41.994]  \n",
       "19                (41.994, 50.262]  \n",
       "20                (25.458, 33.726]  "
      ]
     },
     "execution_count": 65,
     "metadata": {},
     "output_type": "execute_result"
    }
   ],
   "source": [
    "cement_data.head(20)"
   ]
  },
  {
   "cell_type": "markdown",
   "metadata": {},
   "source": [
    "Let's visualize our inputs and outputs in a scatter matrix to get a feel for the data:"
   ]
  },
  {
   "cell_type": "code",
   "execution_count": 66,
   "metadata": {},
   "outputs": [
    {
     "data": {
      "text/plain": [
       "<seaborn.axisgrid.PairGrid at 0x26026a1ff98>"
      ]
     },
     "execution_count": 66,
     "metadata": {},
     "output_type": "execute_result"
    },
    {
     "data": {
      "image/png": "[encoded data removed]",
      "text/plain": [
       "<matplotlib.figure.Figure at 0x26026a1f550>"
      ]
     },
     "metadata": {},
     "output_type": "display_data"
    }
   ],
   "source": [
    "sns.pairplot(cement_data[feature_names_cem+['compressive_strength_bins']],hue=\"compressive_strength_bins\", palette='coolwarm')"
   ]
  },
  {
   "cell_type": "markdown",
   "metadata": {},
   "source": [
    "Now let's investigate one specific pair of columns that look like they are separable in terms of those bins, `cement`, and `fly_ash`:"
   ]
  },
  {
   "cell_type": "code",
   "execution_count": 7,
   "metadata": {},
   "outputs": [
    {
     "data": {
      "text/plain": [
       "<seaborn.axisgrid.PairGrid at 0x26021ce1550>"
      ]
     },
     "execution_count": 7,
     "metadata": {},
     "output_type": "execute_result"
    },
    {
     "data": {
      "image/png": "[encoded data removed]",
      "text/plain": [
       "<matplotlib.figure.Figure at 0x26021ce1710>"
      ]
     },
     "metadata": {},
     "output_type": "display_data"
    }
   ],
   "source": [
    "sns.pairplot(cement_data, x_vars=['cement'], y_vars=[\"fly_ash\"],hue='compressive_strength_bins',size=6,palette=\"coolwarm\")"
   ]
  },
  {
   "cell_type": "markdown",
   "metadata": {},
   "source": [
    "Lets build a model using just these two features that can give reasonable predictions on `compressive_strength`. We will build it as follows: \n",
    "  * Segment the whole space of `cement`/`fly_ash` possibilities into distinct regions\n",
    "  * Use the **mean compressive_strength in each region** as the predicted `compressive_strength` for that combination of `cement` to `fly_ash` for future concrete samples.\n",
    "  * Intuitively, we want to **maximize** the similarity (or \"homogeneity\") of `compressive_strength` within a given region, and **minimize** the similarity of `compressive_strength` between regions. So, more similar colors within a region, distinct colors across regions.\n",
    "\n",
    "We will follow some strict rules for segmenting the whole space:\n",
    "  * You can only use **straight lines**\n",
    "  * Your lines must either be **vertical or horizontal**.\n",
    "  * Every line **stops** when it hits an existing line."
   ]
  },
  {
   "cell_type": "markdown",
   "metadata": {},
   "source": [
    "Before we build our model, lets generate train/test splits of our data:"
   ]
  },
  {
   "cell_type": "code",
   "execution_count": 67,
   "metadata": {
    "collapsed": true
   },
   "outputs": [],
   "source": [
    "X_train,X_test,y_train,y_test = train_test_split(X,y,test_size=.4,random_state=20)"
   ]
  },
  {
   "cell_type": "markdown",
   "metadata": {},
   "source": [
    "Now lets build our model and check its test error (using **RMSE**):"
   ]
  },
  {
   "cell_type": "code",
   "execution_count": 9,
   "metadata": {},
   "outputs": [
    {
     "name": "stdout",
     "output_type": "stream",
     "text": [
      "Decision Tree RMSE: 5.322294496412798\n"
     ]
    }
   ],
   "source": [
    "decision_tree = DecisionTreeRegressor(max_depth=2)\n",
    "decision_tree.fit(X_train,y_train)\n",
    "print(\"Decision Tree RMSE:\",np.sqrt(mean_squared_error(y_test,decision_tree.predict(X_test))))"
   ]
  },
  {
   "cell_type": "markdown",
   "metadata": {},
   "source": [
    "Lets visualize our decision tree:"
   ]
  },
  {
   "cell_type": "code",
   "execution_count": 68,
   "metadata": {
    "collapsed": true,
    "slideshow": {
     "slide_type": "subslide"
    }
   },
   "outputs": [],
   "source": [
    "#This allows us to make a decision tree real fast directly in the notebook!\n",
    "dot_data = StringIO()  \n",
    "export_graphviz(decision_tree, out_file=dot_data,  \n",
    "                    feature_names=X_train.columns.tolist(),  \n",
    "                    filled=True, rounded=True,  \n",
    "                    special_characters=True)  \n",
    "graph = pydotplus.graph_from_dot_data(dot_data.getvalue())  \n",
    "#Image(graph.create_png())  "
   ]
  },
  {
   "cell_type": "markdown",
   "metadata": {},
   "source": [
    "![decision_tree](nbimages/Tree1.png)"
   ]
  },
  {
   "cell_type": "markdown",
   "metadata": {
    "slideshow": {
     "slide_type": "subslide"
    }
   },
   "source": [
    "Above is the decision tree created by sklearn and here is how you would read it:\n",
    "\n",
    "- $R_1$: concrete with **less than or equal to 160.1 $kg/m^3$ of cement and fly ash less than or equal to 136.5 $kg/m^3$**, is predicted to have a mean compressive_strength of **21.24**\n",
    "- $R_2$: concrete with **less than or equal to 160.1 $kg/m^3$ of cement and fly ash more than 136.5 $kg/m^3$**, is predicted to have a mean compressive_strength of **32.37**\n",
    "- $R_3$: concrete with **more than 160.1 $kg/m^3$ of cement and fly ash less than or equal to 115.5 $kg/m^3$**, is predicted to have a mean compressive_strength of **31.91**\n",
    "- $R_4$: concrete with **more than 160.1 $kg/m^3$ of cement and fly ash more than 115.5 $kg/m^3$**, is predicted to have a mean compressive_strength of **43.63**\n",
    "\n",
    "These regions are used to make predictions on **out-of-sample data**. Thus, there are only 4 possible predictions! (Is this different from how **linear regression** makes predictions?):"
   ]
  },
  {
   "cell_type": "code",
   "execution_count": 69,
   "metadata": {},
   "outputs": [
    {
     "data": {
      "text/plain": [
       "array([18.52, 26.02, 27.62, 28.29, 29.77, 31.77, 31.9 , 33.51, 33.78,\n",
       "       33.91, 34.45, 35.52, 36.19, 36.46, 37.39, 37.92, 38.46, 41.01,\n",
       "       41.27, 42.08, 44.08, 45.82, 46.36, 49.17, 50.23])"
      ]
     },
     "execution_count": 69,
     "metadata": {},
     "output_type": "execute_result"
    }
   ],
   "source": [
    "np.unique(decision_tree.predict(X_test))"
   ]
  },
  {
   "cell_type": "markdown",
   "metadata": {},
   "source": [
    "#### Exercise Time!!!\n",
    "  * Build a decision tree model to predict slump given the input features.\n",
    "  * What is the test set RMSE?"
   ]
  },
  {
   "cell_type": "code",
   "execution_count": 70,
   "metadata": {},
   "outputs": [
    {
     "data": {
      "text/plain": [
       "cement                               float64\n",
       "slag                                 float64\n",
       "fly_ash                              float64\n",
       "water                                float64\n",
       "sp                                   float64\n",
       "coarse_aggr                          float64\n",
       "fine_aggr                            float64\n",
       "slump_cm                             float64\n",
       "flow_cm                              float64\n",
       "compressive_strength__28-day_mpa     float64\n",
       "compressive_strength_bins           category\n",
       "compressive_strength_bins_range     category\n",
       "dtype: object"
      ]
     },
     "execution_count": 70,
     "metadata": {},
     "output_type": "execute_result"
    }
   ],
   "source": [
    "cement_data.dtypes"
   ]
  },
  {
   "cell_type": "code",
   "execution_count": 13,
   "metadata": {},
   "outputs": [
    {
     "name": "stdout",
     "output_type": "stream",
     "text": [
      "Slump RMSE:  9.530796413424094\n",
      "Slump min/max:  0.0 29.0\n"
     ]
    }
   ],
   "source": [
    "X_slump = cement_data[[\"cement\",\"fly_ash\"]]\n",
    "y_slump = cement_data.slump_cm\n",
    "X_train_slump,X_test_slump,y_train_slump,y_test_slump = train_test_split(X_slump,y_slump,\n",
    "                                                            test_size=0.3,random_state=1)\n",
    "dt_slump = DecisionTreeRegressor(max_depth=2)\n",
    "dt_slump.fit(X_train_slump,y_train_slump)\n",
    "print( \"Slump RMSE: \",np.sqrt(mean_squared_error(y_test_slump,\n",
    "                                                dt_slump.predict(X_test_slump))))\n",
    "print( \"Slump min/max: \",y_slump.min(),y_slump.max())"
   ]
  },
  {
   "cell_type": "markdown",
   "metadata": {},
   "source": [
    "Lets look at the tree again:"
   ]
  },
  {
   "cell_type": "code",
   "execution_count": 14,
   "metadata": {
    "collapsed": true
   },
   "outputs": [],
   "source": [
    "#Image(graph.create_png())"
   ]
  },
  {
   "cell_type": "markdown",
   "metadata": {},
   "source": [
    "![decision_tree 2](nbimages/Tree2.png)"
   ]
  },
  {
   "cell_type": "markdown",
   "metadata": {
    "slideshow": {
     "slide_type": "fragment"
    }
   },
   "source": [
    "The first split is **cement <= 160.1**, thus that split goes at the top of the tree. When a splitting rule is **True**, you follow the left branch. When a splitting rule is **False**, you follow the right branch.\n",
    "\n",
    "For concrete samples in the **left branch**, there is a further split on **fly_ash <= 136.5**, dividing the samples into 2 compressive_strength regions: 21.24 and 32.37.\n",
    "\n",
    "For concrete samples in the **right branch**, there is a further split on **fly_ash <= 115.5**, dividing the samples into 2 more compressive_strength regions: 31.91 and 43.63."
   ]
  },
  {
   "cell_type": "markdown",
   "metadata": {
    "slideshow": {
     "slide_type": "subslide"
    }
   },
   "source": [
    "**What does this tree tell you about the cement data?**\n",
    "  * Cement is the most important factor determining compressive_strength, with lower cement concentration generally leading to lower compressive strength.\n",
    "  * However, fly_ash is an important secondary characteristic, again showing that lower fly_ash concentration leads to lower compressive_strength."
   ]
  },
  {
   "cell_type": "markdown",
   "metadata": {
    "slideshow": {
     "slide_type": "slide"
    }
   },
   "source": [
    "### How does a computer build a regression tree?"
   ]
  },
  {
   "cell_type": "markdown",
   "metadata": {
    "slideshow": {
     "slide_type": "subslide"
    }
   },
   "source": [
    "**Ideal approach:** Consider every possible partition of the feature space (computationally infeasible)\n",
    "\n",
    "**\"Good enough\" approach:** recursive binary splitting:\n",
    "  * Begin at the top of the tree.\n",
    "  * For **every feature**, examine **every possible cutpoint**, and choose the feature and cutpoint such that the resulting tree has the lowest possible mean squared error (MSE). Make that split.\n",
    "  * Examine the two resulting regions, and again make a **single split** (in one of the regions) to minimize the MSE.\n",
    "  * Keep repeating the previous step until a **stopping criterion** is met:\n",
    "    - maximum tree depth is reached (maximum number of splits required to arrive at a leaf, in our case it was 2)\n",
    "    - minimum number of observations in a leaf (default is 2)"
   ]
  },
  {
   "cell_type": "markdown",
   "metadata": {
    "slideshow": {
     "slide_type": "slide"
    }
   },
   "source": [
    "### What happens when we grow a tree too deep?"
   ]
  },
  {
   "cell_type": "markdown",
   "metadata": {
    "slideshow": {
     "slide_type": "subslide"
    }
   },
   "source": [
    "Lets measure testing error as we add depth to our tree:"
   ]
  },
  {
   "cell_type": "code",
   "execution_count": 15,
   "metadata": {},
   "outputs": [
    {
     "name": "stdout",
     "output_type": "stream",
     "text": [
      "Decision Tree Train/Test RMSE: 6.156599357935393   7.558271534505052\n",
      "Decision Tree Train/Test RMSE: 3.8735953754409933   5.322294496412799\n",
      "Decision Tree Train/Test RMSE: 3.0825485449473877   4.395463024956622\n",
      "Decision Tree Train/Test RMSE: 2.2853759944739105   4.619011045370562\n",
      "Decision Tree Train/Test RMSE: 1.3750770134754022   4.7801189718872585\n",
      "Decision Tree Train/Test RMSE: 0.720655192934752   4.776812338273229\n",
      "Decision Tree Train/Test RMSE: 0.29982895852733193   5.217768884901226\n",
      "Decision Tree Train/Test RMSE: 0.11433700546923602   5.411561733624167\n",
      "Decision Tree Train/Test RMSE: 0.017925163190605508   5.083351912534353\n",
      "Decision Tree Train/Test RMSE: 0.0   5.056765152696317\n"
     ]
    },
    {
     "data": {
      "text/plain": [
       "<matplotlib.legend.Legend at 0x26023b36d68>"
      ]
     },
     "execution_count": 15,
     "metadata": {},
     "output_type": "execute_result"
    },
    {
     "data": {
      "image/png": "[encoded data removed]",
      "text/plain": [
       "<matplotlib.figure.Figure at 0x26023ae8400>"
      ]
     },
     "metadata": {},
     "output_type": "display_data"
    }
   ],
   "source": [
    "depths = range(1,11)\n",
    "train_rmse, test_rmse = [],[]\n",
    "for depth in depths:\n",
    "    decision_tree = DecisionTreeRegressor(max_depth=depth,random_state=10)\n",
    "    decision_tree.fit(X_train,y_train)\n",
    "    curr_train_rmse = np.sqrt(mean_squared_error(y_train,decision_tree.predict(X_train)))\n",
    "    curr_test_rmse = np.sqrt(mean_squared_error(y_test,decision_tree.predict(X_test)))\n",
    "    print(\"Decision Tree Train/Test RMSE:\",curr_train_rmse,\" \",curr_test_rmse)\n",
    "    train_rmse.append(curr_train_rmse)\n",
    "    test_rmse.append(curr_test_rmse)\n",
    "plt.plot(depths,train_rmse,label='train_rmse')\n",
    "plt.plot(depths,test_rmse,label='test_rmse')\n",
    "plt.xlabel(\"maximum tree depth\")\n",
    "plt.ylabel(\"rmse - lower is better\")\n",
    "plt.legend()"
   ]
  },
  {
   "cell_type": "markdown",
   "metadata": {
    "slideshow": {
     "slide_type": "fragment"
    }
   },
   "source": [
    "The **training error** continues to go down as the tree size increases (due to overfitting), but the lowest **test error** occurs for a tree of depth 3."
   ]
  },
  {
   "cell_type": "markdown",
   "metadata": {},
   "source": [
    "#### Exercise Time!!!\n",
    "  * Generate a train/test graph like the one above for the slump model you built earlier. Do the curves look similar to those we just generated above?"
   ]
  },
  {
   "cell_type": "code",
   "execution_count": 16,
   "metadata": {},
   "outputs": [
    {
     "data": {
      "text/html": [
       "<div>\n",
       "<style>\n",
       "    .dataframe thead tr:only-child th {\n",
       "        text-align: right;\n",
       "    }\n",
       "\n",
       "    .dataframe thead th {\n",
       "        text-align: left;\n",
       "    }\n",
       "\n",
       "    .dataframe tbody tr th {\n",
       "        vertical-align: top;\n",
       "    }\n",
       "</style>\n",
       "<table border=\"1\" class=\"dataframe\">\n",
       "  <thead>\n",
       "    <tr style=\"text-align: right;\">\n",
       "      <th></th>\n",
       "      <th>cement</th>\n",
       "      <th>slag</th>\n",
       "      <th>fly_ash</th>\n",
       "      <th>water</th>\n",
       "      <th>sp</th>\n",
       "      <th>coarse_aggr</th>\n",
       "      <th>fine_aggr</th>\n",
       "    </tr>\n",
       "    <tr>\n",
       "      <th>No</th>\n",
       "      <th></th>\n",
       "      <th></th>\n",
       "      <th></th>\n",
       "      <th></th>\n",
       "      <th></th>\n",
       "      <th></th>\n",
       "      <th></th>\n",
       "    </tr>\n",
       "  </thead>\n",
       "  <tbody>\n",
       "    <tr>\n",
       "      <th>1</th>\n",
       "      <td>273.0</td>\n",
       "      <td>82.0</td>\n",
       "      <td>105.0</td>\n",
       "      <td>210.0</td>\n",
       "      <td>9.0</td>\n",
       "      <td>904.0</td>\n",
       "      <td>680.0</td>\n",
       "    </tr>\n",
       "    <tr>\n",
       "      <th>2</th>\n",
       "      <td>163.0</td>\n",
       "      <td>149.0</td>\n",
       "      <td>191.0</td>\n",
       "      <td>180.0</td>\n",
       "      <td>12.0</td>\n",
       "      <td>843.0</td>\n",
       "      <td>746.0</td>\n",
       "    </tr>\n",
       "    <tr>\n",
       "      <th>3</th>\n",
       "      <td>162.0</td>\n",
       "      <td>148.0</td>\n",
       "      <td>191.0</td>\n",
       "      <td>179.0</td>\n",
       "      <td>16.0</td>\n",
       "      <td>840.0</td>\n",
       "      <td>743.0</td>\n",
       "    </tr>\n",
       "    <tr>\n",
       "      <th>4</th>\n",
       "      <td>162.0</td>\n",
       "      <td>148.0</td>\n",
       "      <td>190.0</td>\n",
       "      <td>179.0</td>\n",
       "      <td>19.0</td>\n",
       "      <td>838.0</td>\n",
       "      <td>741.0</td>\n",
       "    </tr>\n",
       "    <tr>\n",
       "      <th>5</th>\n",
       "      <td>154.0</td>\n",
       "      <td>112.0</td>\n",
       "      <td>144.0</td>\n",
       "      <td>220.0</td>\n",
       "      <td>10.0</td>\n",
       "      <td>923.0</td>\n",
       "      <td>658.0</td>\n",
       "    </tr>\n",
       "  </tbody>\n",
       "</table>\n",
       "</div>"
      ],
      "text/plain": [
       "    cement   slag  fly_ash  water    sp  coarse_aggr  fine_aggr\n",
       "No                                                             \n",
       "1    273.0   82.0    105.0  210.0   9.0        904.0      680.0\n",
       "2    163.0  149.0    191.0  180.0  12.0        843.0      746.0\n",
       "3    162.0  148.0    191.0  179.0  16.0        840.0      743.0\n",
       "4    162.0  148.0    190.0  179.0  19.0        838.0      741.0\n",
       "5    154.0  112.0    144.0  220.0  10.0        923.0      658.0"
      ]
     },
     "execution_count": 16,
     "metadata": {},
     "output_type": "execute_result"
    }
   ],
   "source": [
    "X.head()"
   ]
  },
  {
   "cell_type": "code",
   "execution_count": 17,
   "metadata": {},
   "outputs": [
    {
     "data": {
      "text/plain": [
       "<matplotlib.legend.Legend at 0x26023bc4f60>"
      ]
     },
     "execution_count": 17,
     "metadata": {},
     "output_type": "execute_result"
    },
    {
     "data": {
      "image/png": "[encoded data removed]",
      "text/plain": [
       "<matplotlib.figure.Figure at 0x26023b02048>"
      ]
     },
     "metadata": {},
     "output_type": "display_data"
    }
   ],
   "source": [
    "#X = cement_data[[\"cement\",\"fly_ash\"]]\n",
    "X = X\n",
    "y = cement_data[\"compressive_strength__28-day_mpa\"]\n",
    "\n",
    "train_rmse,test_rmse = [],[]\n",
    "for depth in range(1,11):\n",
    "    dt = DecisionTreeRegressor(max_depth=depth)\n",
    "    X_train,X_test,y_train,y_test = train_test_split(X,y,test_size=0.3,\n",
    "                                                 random_state=2)\n",
    "    dt.fit(X_train,y_train)\n",
    "    train_rmse.append(np.sqrt(mean_squared_error(y_train,\n",
    "                                                 dt.predict(X_train))))\n",
    "    test_rmse.append(np.sqrt(mean_squared_error(y_test,\n",
    "                                                dt.predict(X_test))))\n",
    "\n",
    "plt.plot(range(1,11),train_rmse,label='train_rmse')\n",
    "plt.plot(range(1,11),test_rmse,label='test_rmse')\n",
    "plt.xlabel(\"maximum tree depth\")\n",
    "plt.ylabel(\"rmse - lower is better\")\n",
    "plt.legend()   "
   ]
  },
  {
   "cell_type": "code",
   "execution_count": 18,
   "metadata": {
    "slideshow": {
     "slide_type": "subslide"
    }
   },
   "outputs": [
    {
     "data": {
      "text/plain": [
       "DecisionTreeRegressor(criterion='mse', max_depth=3, max_features=None,\n",
       "           max_leaf_nodes=None, min_impurity_split=1e-07,\n",
       "           min_samples_leaf=1, min_samples_split=2,\n",
       "           min_weight_fraction_leaf=0.0, presort=False, random_state=1,\n",
       "           splitter='best')"
      ]
     },
     "execution_count": 18,
     "metadata": {},
     "output_type": "execute_result"
    }
   ],
   "source": [
    "# max_depth=3 was best, so fit a tree using that parameter\n",
    "best_single_tree = DecisionTreeRegressor(max_depth=3, random_state=1)\n",
    "best_single_tree.fit(X_train, y_train)"
   ]
  },
  {
   "cell_type": "markdown",
   "metadata": {},
   "source": [
    "### Evaluating Feature Importance\n",
    "\n",
    "The way that we measure the importance of a given feature for a Regression Tree is by computing what is called the [gini importance/coefficient]() of each feature. This measures the normalized total reduction of error when including the given feature.\n",
    "\n",
    "We can extract the feature importances of any trained tree by extracting its `feature_importances_` property:"
   ]
  },
  {
   "cell_type": "code",
   "execution_count": 19,
   "metadata": {
    "collapsed": true
   },
   "outputs": [],
   "source": [
    "#feature_names_cem_two = [feature_names_cem[0],feature_names_cem[2]]\n",
    "#feature_names_cem_two"
   ]
  },
  {
   "cell_type": "code",
   "execution_count": 20,
   "metadata": {
    "slideshow": {
     "slide_type": "subslide"
    }
   },
   "outputs": [
    {
     "data": {
      "text/html": [
       "<div>\n",
       "<style>\n",
       "    .dataframe thead tr:only-child th {\n",
       "        text-align: right;\n",
       "    }\n",
       "\n",
       "    .dataframe thead th {\n",
       "        text-align: left;\n",
       "    }\n",
       "\n",
       "    .dataframe tbody tr th {\n",
       "        vertical-align: top;\n",
       "    }\n",
       "</style>\n",
       "<table border=\"1\" class=\"dataframe\">\n",
       "  <thead>\n",
       "    <tr style=\"text-align: right;\">\n",
       "      <th></th>\n",
       "      <th>feature</th>\n",
       "      <th>importance</th>\n",
       "    </tr>\n",
       "  </thead>\n",
       "  <tbody>\n",
       "    <tr>\n",
       "      <th>0</th>\n",
       "      <td>cement</td>\n",
       "      <td>0.395450</td>\n",
       "    </tr>\n",
       "    <tr>\n",
       "      <th>1</th>\n",
       "      <td>slag</td>\n",
       "      <td>0.108187</td>\n",
       "    </tr>\n",
       "    <tr>\n",
       "      <th>2</th>\n",
       "      <td>fly_ash</td>\n",
       "      <td>0.496246</td>\n",
       "    </tr>\n",
       "    <tr>\n",
       "      <th>3</th>\n",
       "      <td>water</td>\n",
       "      <td>0.000000</td>\n",
       "    </tr>\n",
       "    <tr>\n",
       "      <th>4</th>\n",
       "      <td>sp</td>\n",
       "      <td>0.000000</td>\n",
       "    </tr>\n",
       "    <tr>\n",
       "      <th>5</th>\n",
       "      <td>coarse_aggr</td>\n",
       "      <td>0.000000</td>\n",
       "    </tr>\n",
       "    <tr>\n",
       "      <th>6</th>\n",
       "      <td>fine_aggr</td>\n",
       "      <td>0.000116</td>\n",
       "    </tr>\n",
       "  </tbody>\n",
       "</table>\n",
       "</div>"
      ],
      "text/plain": [
       "       feature  importance\n",
       "0       cement    0.395450\n",
       "1         slag    0.108187\n",
       "2      fly_ash    0.496246\n",
       "3        water    0.000000\n",
       "4           sp    0.000000\n",
       "5  coarse_aggr    0.000000\n",
       "6    fine_aggr    0.000116"
      ]
     },
     "execution_count": 20,
     "metadata": {},
     "output_type": "execute_result"
    }
   ],
   "source": [
    "pd.DataFrame({'feature':feature_names_cem, 'importance':best_single_tree.feature_importances_})"
   ]
  },
  {
   "cell_type": "markdown",
   "metadata": {},
   "source": [
    "#### Exercise Time !!!\n",
    "  * Examine the feature importances of your slump model. Are they the same as those above? Is the order of the features in terms of their importances the same?"
   ]
  },
  {
   "cell_type": "code",
   "execution_count": 21,
   "metadata": {},
   "outputs": [
    {
     "name": "stdout",
     "output_type": "stream",
     "text": [
      "12.859459683807538\n"
     ]
    },
    {
     "data": {
      "text/html": [
       "<div>\n",
       "<style>\n",
       "    .dataframe thead tr:only-child th {\n",
       "        text-align: right;\n",
       "    }\n",
       "\n",
       "    .dataframe thead th {\n",
       "        text-align: left;\n",
       "    }\n",
       "\n",
       "    .dataframe tbody tr th {\n",
       "        vertical-align: top;\n",
       "    }\n",
       "</style>\n",
       "<table border=\"1\" class=\"dataframe\">\n",
       "  <thead>\n",
       "    <tr style=\"text-align: right;\">\n",
       "      <th></th>\n",
       "      <th>feature</th>\n",
       "      <th>importance</th>\n",
       "    </tr>\n",
       "  </thead>\n",
       "  <tbody>\n",
       "    <tr>\n",
       "      <th>0</th>\n",
       "      <td>cement</td>\n",
       "      <td>0.024962</td>\n",
       "    </tr>\n",
       "    <tr>\n",
       "      <th>1</th>\n",
       "      <td>slag</td>\n",
       "      <td>0.209154</td>\n",
       "    </tr>\n",
       "    <tr>\n",
       "      <th>2</th>\n",
       "      <td>fly_ash</td>\n",
       "      <td>0.000000</td>\n",
       "    </tr>\n",
       "    <tr>\n",
       "      <th>3</th>\n",
       "      <td>water</td>\n",
       "      <td>0.718376</td>\n",
       "    </tr>\n",
       "    <tr>\n",
       "      <th>4</th>\n",
       "      <td>sp</td>\n",
       "      <td>0.047509</td>\n",
       "    </tr>\n",
       "    <tr>\n",
       "      <th>5</th>\n",
       "      <td>coarse_aggr</td>\n",
       "      <td>0.000000</td>\n",
       "    </tr>\n",
       "    <tr>\n",
       "      <th>6</th>\n",
       "      <td>fine_aggr</td>\n",
       "      <td>0.000000</td>\n",
       "    </tr>\n",
       "  </tbody>\n",
       "</table>\n",
       "</div>"
      ],
      "text/plain": [
       "       feature  importance\n",
       "0       cement    0.024962\n",
       "1         slag    0.209154\n",
       "2      fly_ash    0.000000\n",
       "3        water    0.718376\n",
       "4           sp    0.047509\n",
       "5  coarse_aggr    0.000000\n",
       "6    fine_aggr    0.000000"
      ]
     },
     "execution_count": 21,
     "metadata": {},
     "output_type": "execute_result"
    }
   ],
   "source": [
    "X = cement_data[cement_data.columns.tolist()[:7]]\n",
    "y = cement_data.flow_cm\n",
    "\n",
    "X_train,X_test,y_train,y_test = train_test_split(X,y,\n",
    "                                                 test_size=0.3,\n",
    "                                                 random_state=1)\n",
    "dt = DecisionTreeRegressor(max_depth=3)\n",
    "dt.fit(X_train,y_train)\n",
    "print (np.sqrt(mean_squared_error(y_test,dt.predict(X_test))))\n",
    "pd.DataFrame({'feature':cement_data.columns.tolist()[:7],\n",
    "              'importance':dt.feature_importances_})"
   ]
  },
  {
   "cell_type": "markdown",
   "metadata": {
    "slideshow": {
     "slide_type": "slide"
    }
   },
   "source": [
    "### Understanding a tree diagram\n",
    "\n",
    "Lets take a look at our best decision tree:"
   ]
  },
  {
   "cell_type": "code",
   "execution_count": 22,
   "metadata": {
    "collapsed": true
   },
   "outputs": [],
   "source": [
    "dot_data2 = StringIO()  \n",
    "export_graphviz(best_single_tree, out_file=dot_data2,  \n",
    "                    feature_names=X_train.columns.tolist(),  \n",
    "                    filled=True, rounded=True,  \n",
    "                    special_characters=True)  \n",
    "graph_best = pydotplus.graph_from_dot_data(dot_data2.getvalue())  \n",
    "#Image(graph_best.create_png())  "
   ]
  },
  {
   "cell_type": "markdown",
   "metadata": {},
   "source": [
    "![Best decision tree](nbimages/Tree3.png)"
   ]
  },
  {
   "cell_type": "markdown",
   "metadata": {
    "slideshow": {
     "slide_type": "subslide"
    }
   },
   "source": [
    "How to interpret the internal nodes:\n",
    "\n",
    "- **samples:** number of observations in that node before splitting\n",
    "- **mse:** MSE calculated by comparing the actual response values in that node against the mean response value in that node\n",
    "- **rule:** rule used to split that node (go left if true, go right if false)\n",
    "\n",
    "Reading the leaves (bottom parts of the tree):\n",
    "\n",
    "- **samples:** number of observations in that node\n",
    "- **value:** mean response value in that node\n",
    "- **mse:** MSE calculated by comparing the actual response values in that node against \"value\""
   ]
  },
  {
   "cell_type": "markdown",
   "metadata": {
    "slideshow": {
     "slide_type": "slide"
    }
   },
   "source": [
    "### Making predictions for the testing data"
   ]
  },
  {
   "cell_type": "markdown",
   "metadata": {
    "slideshow": {
     "slide_type": "subslide"
    }
   },
   "source": [
    "**Question:** Using the tree diagram above, what predictions will the model make for each test sample observation?"
   ]
  },
  {
   "cell_type": "code",
   "execution_count": 23,
   "metadata": {
    "slideshow": {
     "slide_type": "subslide"
    }
   },
   "outputs": [
    {
     "data": {
      "text/plain": [
       "array([30.48181818, 34.77636364, 34.77636364, 30.48181818, 47.33933333,\n",
       "       34.77636364, 30.48181818, 34.77636364, 34.77636364, 47.33933333,\n",
       "       47.33933333, 34.77636364, 47.33933333, 47.33933333, 47.33933333,\n",
       "       47.33933333, 30.48181818, 47.33933333, 38.89384615, 34.77636364,\n",
       "       47.33933333, 34.77636364, 34.77636364, 38.89384615, 30.48181818,\n",
       "       34.77636364, 19.19      , 34.77636364, 38.89384615, 28.75285714,\n",
       "       34.77636364])"
      ]
     },
     "execution_count": 23,
     "metadata": {},
     "output_type": "execute_result"
    }
   ],
   "source": [
    "# use fitted model to make predictions on testing data\n",
    "y_pred = best_single_tree.predict(X_test)\n",
    "y_pred"
   ]
  },
  {
   "cell_type": "code",
   "execution_count": 24,
   "metadata": {
    "slideshow": {
     "slide_type": "subslide"
    }
   },
   "outputs": [
    {
     "data": {
      "text/plain": [
       "24.450515198720694"
      ]
     },
     "execution_count": 24,
     "metadata": {},
     "output_type": "execute_result"
    }
   ],
   "source": [
    "# calculate test set RMSE\n",
    "np.sqrt(mean_squared_error(y_test, y_pred))"
   ]
  },
  {
   "cell_type": "markdown",
   "metadata": {
    "slideshow": {
     "slide_type": "slide"
    }
   },
   "source": [
    "### Classification trees"
   ]
  },
  {
   "cell_type": "markdown",
   "metadata": {
    "slideshow": {
     "slide_type": "subslide"
    }
   },
   "source": [
    "**Famous Example:** Decision Tree Model to Predict whether Barack Obama or Hillary Clinton will win the Democratic primary in a particular county in 2008:"
   ]
  },
  {
   "cell_type": "markdown",
   "metadata": {
    "slideshow": {
     "slide_type": "fragment"
    }
   },
   "source": [
    "![Obama-Clinton decision tree](nbimages/obama_clinton_tree.png)"
   ]
  },
  {
   "cell_type": "markdown",
   "metadata": {
    "slideshow": {
     "slide_type": "subslide"
    }
   },
   "source": [
    "#### Exercise Time!!!\n",
    "\n",
    "Please answer the following questions about the Obama diagram:\n",
    "  * What are the observations? How many observations are there?\n",
    "  - What is the response variable?\n",
    "  - What are the features?\n",
    "  - What is the most predictive feature?\n",
    "  - Why does the tree split on high school graduation rate twice?\n",
    "  - What is the class prediction for the following counties:\n",
    "    * 10% African-American, 50% high school graduation rate, located in the South, high poverty, high population density?\n",
    "    * 18% African-American, 95% high school graduation rate, located in the South, high poverty, high population density?\n",
    "  - What are the predicted probabilities for both of those counties?"
   ]
  },
  {
   "cell_type": "markdown",
   "metadata": {
    "slideshow": {
     "slide_type": "subslide"
    }
   },
   "source": [
    "### Comparing regression trees and classification trees\n",
    "\n",
    "|regression trees|classification trees|\n",
    "|---|---|\n",
    "|predict a continuous response|predict a categorical response|\n",
    "|predict using mean response of each leaf|predict using most commonly occuring class of each leaf|\n",
    "|splits are chosen to minimize MSE|splits are chosen to minimize Gini index (discussed below)|"
   ]
  },
  {
   "cell_type": "markdown",
   "metadata": {
    "slideshow": {
     "slide_type": "slide"
    }
   },
   "source": [
    "### Splitting criteria for classification trees\n",
    "\n",
    "Common options for the splitting criteria when generating classification trees:\n",
    "  * **classification error rate:** fraction of training observations in a region that don't belong to the most common class\n",
    "  - **Gini impurity:** measure of how often a randomly chosen element from the set would be incorrectly labeled if it were  randomly labeled according to the distribution of labels in the subset"
   ]
  },
  {
   "cell_type": "markdown",
   "metadata": {
    "slideshow": {
     "slide_type": "subslide"
    }
   },
   "source": [
    "### Example of classification error rate\n",
    "\n",
    "Pretend we are predicting whether someone buys an free-standing house or a condo:\n",
    "  - At a particular node, there are **30 observations** (home buyers), of whom **10 bought free-standing homes and 20 bought condos**.\n",
    "  - Since the majority class is **condos**, that's our prediction for all 25 observations, and thus the classification error rate is **10/30 = 33%**.\n",
    "\n",
    "Our goal in making splits is to **reduce the classification error rate**.\n",
    "\n",
    "Let's try splitting on income:\n",
    "  - **Greater than 100k/year:** 8 free-standing and 3 condos, thus the predicted class is free-standing\n",
    "  - **Less than 100k/year:** 2 free-standing and 17 condos, thus the predicted class is condo\n",
    "  - Classification error rate after this split would be **5/30 = ~17%**\n",
    "  \n",
    "Compare that with a split on purchaser-type:\n",
    "  - **married:** 4 free-standing and 6 condos, thus the predicted class is condo\n",
    "  - **unmarried:** 6 free-standing and 14 condos, thus the predicted class is condo\n",
    "  - Classification error rate after this split would be **10/30 = ~33%** (it didnt change!)\n",
    "\n",
    "The decision tree algorithm will try **every possible split across all features**, and choose the split that **reduces the error rate the most.**"
   ]
  },
  {
   "cell_type": "markdown",
   "metadata": {
    "slideshow": {
     "slide_type": "subslide"
    }
   },
   "source": [
    "### Example of Gini impurity\n",
    "\n",
    "Calculate Gini impurity before making a split:\n",
    "\n",
    "$$1 - \\left(\\frac {freestanding} {Total}\\right)^2 - \\left(\\frac {condo} {Total}\\right)^2 = 1 - \\left(\\frac {10} {30}\\right)^2 - \\left(\\frac {20} {30}\\right)^2 = 0.44$$\n",
    "\n",
    "- The **maximum value** of Gini impurity is 0.5, and occurs when the classes are perfectly balanced in a node.\n",
    "- The **minimum value** of Gini impurity is 0, and occurs when there is only one class represented in a node.\n",
    "- A node with a lower Gini impurity score is said to be more \"pure\"."
   ]
  },
  {
   "cell_type": "markdown",
   "metadata": {
    "slideshow": {
     "slide_type": "fragment"
    }
   },
   "source": [
    "Let's evaluate the split on **income** using Gini index:\n",
    "$$\\text{more than 100k: } 1 - \\left(\\frac {8} {11}\\right)^2 - \\left(\\frac {3} {11}\\right)^2 = 0.40$$\n",
    "$$\\text{less than 100k: } 1 - \\left(\\frac {2} {19}\\right)^2 - \\left(\\frac {17} {19}\\right)^2 = 0.19$$\n",
    "$$\\text{Weighted Average: }  0.40 \\left(\\frac {11} {30}\\right) + 0.19 \\left(\\frac {19} {30}\\right) = 0.27$$"
   ]
  },
  {
   "cell_type": "markdown",
   "metadata": {
    "slideshow": {
     "slide_type": "subslide"
    }
   },
   "source": [
    "Evaluating the split on **purchaser-type** using Gini impurity:\n",
    "$$\\text{married: } 1 - \\left(\\frac {4} {10}\\right)^2 - \\left(\\frac {6} {10}\\right)^2 = 0.48$$\n",
    "$$\\text{unmarried: } 1 - \\left(\\frac {6} {20}\\right)^2 - \\left(\\frac {14} {20}\\right)^2 = 0.42$$\n",
    "$$\\text{Weighted Average: } 0.48 \\left(\\frac {10} {30}\\right) + 0.42 \\left(\\frac {20} {30}\\right) = 0.44$$\n",
    "\n",
    "The decision tree algorithm will try **every possible split**, and will choose the split that **reduces the Gini impurity (and thus increases the \"node purity\") the most.**"
   ]
  },
  {
   "cell_type": "markdown",
   "metadata": {
    "slideshow": {
     "slide_type": "subslide"
    }
   },
   "source": [
    "### Comparing classification error rate and Gini impurity\n",
    "  - Gini impurity is generally preferred because it will make splits that **increase node purity**, even if that split does not change the classification error rate.\n",
    "  - Node purity is important because we're interested in the **class proportions** in each region, since that's how we calculate the **predicted probability** of each class.\n",
    "  - scikit-learn's default splitting criteria for classification trees is Gini impurity.\n",
    "  \n",
    "There is another common splitting criteria called **cross-entropy**. It's numerically very similar to Gini impurity, but significantly slower to compute."
   ]
  },
  {
   "cell_type": "markdown",
   "metadata": {
    "slideshow": {
     "slide_type": "slide"
    }
   },
   "source": [
    "### Building a classification tree in scikit-learn\n",
    "We'll build a classification tree using some room-occupancy data recently published at the [UCI Machine Learning Repository](https://archive.ics.uci.edu/ml/datasets/Occupancy+Detection+).\n",
    "\n",
    "The dataset is a collection of sensor readings within a given room and manually-validated occupancy checks taken from a camera at 1-minute intervals. If the room was occupied, occupancy is 1, otherwise it is 0."
   ]
  },
  {
   "cell_type": "code",
   "execution_count": 71,
   "metadata": {
    "slideshow": {
     "slide_type": "fragment"
    }
   },
   "outputs": [
    {
     "name": "stdout",
     "output_type": "stream",
     "text": [
      "                 date  temperature  humidity  light     co2  humidityratio  \\\n",
      "1 2015-02-04 17:51:00        23.18   27.2720  426.0  721.25       0.004793   \n",
      "2 2015-02-04 17:51:59        23.15   27.2675  429.5  714.00       0.004783   \n",
      "3 2015-02-04 17:53:00        23.15   27.2450  426.0  713.50       0.004779   \n",
      "4 2015-02-04 17:54:00        23.15   27.2000  426.0  708.25       0.004772   \n",
      "5 2015-02-04 17:55:00        23.10   27.2000  426.0  704.50       0.004757   \n",
      "\n",
      "   occupancy  \n",
      "1          1  \n",
      "2          1  \n",
      "3          1  \n",
      "4          1  \n",
      "5          1  \n",
      "                   date  temperature  humidity       light         co2  \\\n",
      "140 2015-02-02 14:19:00      23.7000    26.272  585.200000  749.200000   \n",
      "141 2015-02-02 14:19:59      23.7180    26.290  578.400000  760.400000   \n",
      "142 2015-02-02 14:21:00      23.7300    26.230  572.666667  769.666667   \n",
      "143 2015-02-02 14:22:00      23.7225    26.125  493.750000  774.750000   \n",
      "144 2015-02-02 14:23:00      23.7540    26.200  488.600000  779.000000   \n",
      "\n",
      "     humidityratio  occupancy  \n",
      "140       0.004764          1  \n",
      "141       0.004773          1  \n",
      "142       0.004765          1  \n",
      "143       0.004744          1  \n",
      "144       0.004767          1  \n"
     ]
    }
   ],
   "source": [
    "# read in the training data\n",
    "occupancy_data_train = pd.read_csv(\"datatraining.txt\",index_col=0)\n",
    "occupancy_data_train['date'] = pd.to_datetime(occupancy_data_train['date']) # convert the date column to an actual pandas datetime object\n",
    "occupancy_data_train.columns = occupancy_data_train.columns.str.lower() #clean up column names by lowercasing them\n",
    "print(occupancy_data_train.head())\n",
    "\n",
    "# read in the testing data\n",
    "occupancy_data_test = pd.read_csv(\"datatest.txt\",index_col=0)\n",
    "occupancy_data_test['date'] = pd.to_datetime(occupancy_data_test['date']) # convert the date column to an actual pandas datetime object\n",
    "occupancy_data_test.columns = occupancy_data_test.columns.str.lower() #clean up column names by lowercasing them\n",
    "print(occupancy_data_test.head())"
   ]
  },
  {
   "cell_type": "code",
   "execution_count": 26,
   "metadata": {
    "collapsed": true,
    "slideshow": {
     "slide_type": "subslide"
    }
   },
   "outputs": [],
   "source": [
    "# define X and y - dont use date column as a feature\n",
    "feature_cols_occ = [\"temperature\",\"humidity\",\"light\",\"co2\",\"humidityratio\"]\n",
    "X_occ_train = occupancy_data_train[feature_cols_occ]\n",
    "y_occ_train = occupancy_data_train['occupancy']\n",
    "X_occ_test = occupancy_data_test[feature_cols_occ]\n",
    "y_occ_test = occupancy_data_test['occupancy']"
   ]
  },
  {
   "cell_type": "code",
   "execution_count": 27,
   "metadata": {
    "slideshow": {
     "slide_type": "fragment"
    }
   },
   "outputs": [
    {
     "data": {
      "text/plain": [
       "DecisionTreeClassifier(class_weight=None, criterion='gini', max_depth=3,\n",
       "            max_features=None, max_leaf_nodes=None,\n",
       "            min_impurity_split=1e-07, min_samples_leaf=1,\n",
       "            min_samples_split=2, min_weight_fraction_leaf=0.0,\n",
       "            presort=False, random_state=1, splitter='best')"
      ]
     },
     "execution_count": 27,
     "metadata": {},
     "output_type": "execute_result"
    }
   ],
   "source": [
    "# fit a classification tree with max_depth=3 on all of the training data\n",
    "from sklearn.tree import DecisionTreeClassifier\n",
    "occupancy_tree = DecisionTreeClassifier(max_depth=3, random_state=1)\n",
    "occupancy_tree.fit(X_occ_train, y_occ_train)"
   ]
  },
  {
   "cell_type": "code",
   "execution_count": null,
   "metadata": {
    "collapsed": true
   },
   "outputs": [],
   "source": []
  },
  {
   "cell_type": "code",
   "execution_count": 28,
   "metadata": {
    "collapsed": true,
    "slideshow": {
     "slide_type": "subslide"
    }
   },
   "outputs": [],
   "source": [
    "#This allows us to make a decision tree real fast directly in the notebook!\n",
    "dot_data_occ = StringIO()  \n",
    "export_graphviz(occupancy_tree, out_file=dot_data_occ,  \n",
    "                    feature_names=X_occ_train.columns.tolist(),  \n",
    "                    filled=True, rounded=True,  \n",
    "                    special_characters=True)  \n",
    "occ_graph = pydotplus.graph_from_dot_data(dot_data_occ.getvalue())  \n",
    "#Image(occ_graph.create_png())"
   ]
  },
  {
   "cell_type": "markdown",
   "metadata": {},
   "source": [
    "![occupancy tree](nbimages/Tree4.png)"
   ]
  },
  {
   "cell_type": "markdown",
   "metadata": {},
   "source": [
    "#### Exercise Time!!!\n",
    "  * Evaluate the model using `accuracy_score` on the testing data.\n",
    "  * Is the accuracy score above chance? What is chance accuracy here?"
   ]
  },
  {
   "cell_type": "code",
   "execution_count": 29,
   "metadata": {},
   "outputs": [
    {
     "name": "stdout",
     "output_type": "stream",
     "text": [
      "0.9782363977485928\n"
     ]
    },
    {
     "data": {
      "text/plain": [
       "0.7876703917475132"
      ]
     },
     "execution_count": 29,
     "metadata": {},
     "output_type": "execute_result"
    }
   ],
   "source": [
    "print( accuracy_score(y_occ_test,occupancy_tree.predict(X_occ_test)))\n",
    "1- (float(y_occ_train.sum())/y_occ_train.shape[0])"
   ]
  },
  {
   "cell_type": "markdown",
   "metadata": {
    "slideshow": {
     "slide_type": "fragment"
    }
   },
   "source": [
    "Now let's generate our feature importances:"
   ]
  },
  {
   "cell_type": "code",
   "execution_count": 30,
   "metadata": {
    "slideshow": {
     "slide_type": "subslide"
    }
   },
   "outputs": [
    {
     "data": {
      "text/html": [
       "<div>\n",
       "<style>\n",
       "    .dataframe thead tr:only-child th {\n",
       "        text-align: right;\n",
       "    }\n",
       "\n",
       "    .dataframe thead th {\n",
       "        text-align: left;\n",
       "    }\n",
       "\n",
       "    .dataframe tbody tr th {\n",
       "        vertical-align: top;\n",
       "    }\n",
       "</style>\n",
       "<table border=\"1\" class=\"dataframe\">\n",
       "  <thead>\n",
       "    <tr style=\"text-align: right;\">\n",
       "      <th></th>\n",
       "      <th>feature</th>\n",
       "      <th>importance</th>\n",
       "    </tr>\n",
       "  </thead>\n",
       "  <tbody>\n",
       "    <tr>\n",
       "      <th>0</th>\n",
       "      <td>temperature</td>\n",
       "      <td>0.005967</td>\n",
       "    </tr>\n",
       "    <tr>\n",
       "      <th>1</th>\n",
       "      <td>humidity</td>\n",
       "      <td>0.001551</td>\n",
       "    </tr>\n",
       "    <tr>\n",
       "      <th>2</th>\n",
       "      <td>light</td>\n",
       "      <td>0.986128</td>\n",
       "    </tr>\n",
       "    <tr>\n",
       "      <th>3</th>\n",
       "      <td>co2</td>\n",
       "      <td>0.006354</td>\n",
       "    </tr>\n",
       "    <tr>\n",
       "      <th>4</th>\n",
       "      <td>humidityratio</td>\n",
       "      <td>0.000000</td>\n",
       "    </tr>\n",
       "  </tbody>\n",
       "</table>\n",
       "</div>"
      ],
      "text/plain": [
       "         feature  importance\n",
       "0    temperature    0.005967\n",
       "1       humidity    0.001551\n",
       "2          light    0.986128\n",
       "3            co2    0.006354\n",
       "4  humidityratio    0.000000"
      ]
     },
     "execution_count": 30,
     "metadata": {},
     "output_type": "execute_result"
    }
   ],
   "source": [
    "# compute the feature importances\n",
    "pd.DataFrame({'feature':feature_cols_occ, 'importance':occupancy_tree.feature_importances_})"
   ]
  },
  {
   "cell_type": "markdown",
   "metadata": {
    "slideshow": {
     "slide_type": "slide"
    }
   },
   "source": [
    "## Comparing decision trees with other models\n",
    "**Advantages of decision trees:**\n",
    "  * Can be used for regression or classification\n",
    "  - Can be displayed graphically\n",
    "  - Highly interpretable\n",
    "  - Can be specified as a series of rules, and more closely approximate human decision-making than other models\n",
    "  - Prediction is fast\n",
    "  - Features don't need scaling\n",
    "  - Automatically learns feature interactions (they are non-linear models)\n",
    "  - Tend to ignore irrelevant features (especially when there are lots of features)\n",
    "  - Because decision trees are non-linear models they will outperform linear models if the relationship between features and response is highly non-linear\n",
    "**Disadvantages of decision trees:**\n",
    "  - Performance is (generally) not competitive with the best supervised learning methods\n",
    "  - Can easily overfit the training data (tuning is required)\n",
    "  - Small variations in the data can result in a completely different tree (they are high variance models)\n",
    "  - Recursive binary splitting makes \"locally optimal\" decisions that may not result in a globally optimal tree\n",
    "  - Don't tend to work well if the classes are highly unbalanced\n",
    "  - Don't tend to work well with very small datasets"
   ]
  },
  {
   "cell_type": "markdown",
   "metadata": {},
   "source": [
    "### Ensembles\n",
    "\n",
    "Consider:\n",
    "* instead of building a single model to solve a classification problem, \n",
    "* you created **five independent models**, \n",
    "* If you combined these models into an \"ensemble\" and used their **majority vote** as a prediction, \n",
    "* and each model was **correct about 70% of the time**. \n",
    "* *how often would the ensemble be correct?*"
   ]
  },
  {
   "cell_type": "code",
   "execution_count": 31,
   "metadata": {
    "collapsed": true
   },
   "outputs": [],
   "source": [
    "# set a seed for reproducibility\n",
    "np.random.seed(1234)\n",
    "\n",
    "# generate 5000 random numbers (between 0 and 1) for each model, representing 5000 observations\n",
    "mod1 = np.random.rand(5000)\n",
    "mod2 = np.random.rand(5000)\n",
    "mod3 = np.random.rand(5000)\n",
    "mod4 = np.random.rand(5000)\n",
    "mod5 = np.random.rand(5000)"
   ]
  },
  {
   "cell_type": "code",
   "execution_count": 32,
   "metadata": {
    "collapsed": true
   },
   "outputs": [],
   "source": [
    "# each model independently predicts 1 (the \"correct response\") if random number was at least 0.3\n",
    "preds1 = np.where(mod1 > 0.3, 1, 0)\n",
    "preds2 = np.where(mod2 > 0.3, 1, 0)\n",
    "preds3 = np.where(mod3 > 0.3, 1, 0)\n",
    "preds4 = np.where(mod4 > 0.3, 1, 0)\n",
    "preds5 = np.where(mod5 > 0.3, 1, 0)"
   ]
  },
  {
   "cell_type": "code",
   "execution_count": 33,
   "metadata": {},
   "outputs": [
    {
     "name": "stdout",
     "output_type": "stream",
     "text": [
      "[0 1 1 1 1 0 0 1 1 1 1 1 1 1 1 1 1 0 1 1]\n",
      "[1 1 0 1 1 1 1 1 1 0 0 0 0 1 0 0 1 0 1 1]\n",
      "[1 1 1 1 0 1 0 1 1 0 1 0 1 1 1 0 0 0 0 1]\n",
      "[1 0 1 1 1 1 1 1 1 0 1 1 1 1 1 1 1 0 0 1]\n",
      "[1 0 1 1 0 1 0 1 1 1 1 0 1 1 0 1 1 0 1 1]\n"
     ]
    }
   ],
   "source": [
    "# print the first 20 predictions from each model\n",
    "print(preds1[:20])\n",
    "print(preds2[:20])\n",
    "print(preds3[:20])\n",
    "print(preds4[:20])\n",
    "print(preds5[:20])"
   ]
  },
  {
   "cell_type": "code",
   "execution_count": 34,
   "metadata": {},
   "outputs": [
    {
     "name": "stdout",
     "output_type": "stream",
     "text": [
      "[1 1 1 1 1 1 0 1 1 0 1 0 1 1 1 1 1 0 1 1]\n"
     ]
    }
   ],
   "source": [
    "# average the predictions and then round to 0 or 1\n",
    "ensemble_preds = np.round((preds1 + preds2 + preds3 + preds4 + preds5)/5.0).astype(int)\n",
    "\n",
    "# print the ensemble's first 20 predictions\n",
    "print(ensemble_preds[:20])"
   ]
  },
  {
   "cell_type": "code",
   "execution_count": 35,
   "metadata": {},
   "outputs": [
    {
     "name": "stdout",
     "output_type": "stream",
     "text": [
      "0.6988\n",
      "0.6988\n",
      "0.7\n",
      "0.7014\n",
      "0.6982\n"
     ]
    }
   ],
   "source": [
    "# how accurate was each individual model?\n",
    "print(preds1.mean())\n",
    "print(preds2.mean())\n",
    "print(preds3.mean())\n",
    "print(preds4.mean())\n",
    "print(preds5.mean())"
   ]
  },
  {
   "cell_type": "code",
   "execution_count": 36,
   "metadata": {},
   "outputs": [
    {
     "name": "stdout",
     "output_type": "stream",
     "text": [
      "0.8364\n"
     ]
    }
   ],
   "source": [
    "# how accurate was the ensemble?\n",
    "print(ensemble_preds.mean())"
   ]
  },
  {
   "cell_type": "markdown",
   "metadata": {},
   "source": [
    "**Ensemble learning (or \"ensembling\")** is the process of combining several predictive models in order to produce a combined model that is more accurate than any individual model.\n",
    "\n",
    "- **Regression:** take the average of the predictions\n",
    "- **Classification:** take a vote and use the most common prediction, or take the average of the predicted probabilities\n",
    "\n",
    "For ensembling to work well, the models must have the following characteristics:\n",
    "\n",
    "- **Accurate:** they outperform random guessing\n",
    "- **Independent:** their predictions are generated using different processes\n",
    "\n",
    "**The big idea:** If you have a collection of individually imperfect (and independent) models, the \"one-off\" mistakes made by each model are probably not going to be made by the rest of the models, and thus the mistakes will be discarded when averaging the models.\n",
    "\n",
    "**Note:** As you add more models to the voting process, the probability of error decreases, which is known as [Condorcet's Jury Theorem](http://en.wikipedia.org/wiki/Condorcet%27s_jury_theorem)."
   ]
  },
  {
   "cell_type": "markdown",
   "metadata": {},
   "source": [
    "## Ensembling methods\n",
    "\n",
    "There are two basic methods for ensembling:\n",
    "- Use a model that ensembles for you (What we will do when we use Random Forests)\n",
    "- Manually ensemble your individual models\n",
    "\n",
    "What makes a good \"manual ensemble\"?\n",
    "- Different types of models\n",
    "- Different combinations of features\n",
    "- Different tuning parameters\n",
    "\n",
    "Here's an example pipeline that uses ensembling (this is an extreme example):"
   ]
  },
  {
   "cell_type": "markdown",
   "metadata": {},
   "source": [
    "![Ensemble Kaggle Example](./images/crazy_ensemble_kaggle.png)"
   ]
  },
  {
   "cell_type": "markdown",
   "metadata": {},
   "source": [
    "### Bagging\n",
    "\n",
    "The primary weakness of **decision trees** is that they don't tend to have the best predictive accuracy. This is partially due to **high variance**, meaning that different splits in the training data can lead to very different trees.\n",
    "\n",
    "**Bagging** is a general purpose procedure for reducing the variance of a machine learning method, but is particularly useful for decision trees. Bagging is short for **bootstrap aggregation**, meaning the aggregation of bootstrap samples.\n",
    "\n",
    "What is a **bootstrap sample**? A random sample with replacement. Here's an example:"
   ]
  },
  {
   "cell_type": "code",
   "execution_count": 37,
   "metadata": {},
   "outputs": [
    {
     "name": "stdout",
     "output_type": "stream",
     "text": [
      "The original array: [ 1  2  3  4  5  6  7  8  9 10 11 12 13 14 15 16 17 18 19 20 21 22 23 24\n",
      " 25 26 27 28 29]\n",
      "The 15 samples: [ 4 27 16 29 27 10 21 12 23  8  3  1 23  9 22]\n"
     ]
    }
   ],
   "source": [
    "# set a seed for reproducibility\n",
    "np.random.seed(20)\n",
    "\n",
    "# create an array of 1 through 30\n",
    "nums = np.arange(1, 30)\n",
    "print(\"The original array:\",nums)\n",
    "\n",
    "# sample that array 15 times with replacement\n",
    "print(\"The 15 samples:\",np.random.choice(a=nums, size=15, replace=True))"
   ]
  },
  {
   "cell_type": "markdown",
   "metadata": {},
   "source": [
    "**Here's how bagging works for decision trees:**\n",
    "  1. Grow *b* trees using *b* bootstrap samples from the training data.\n",
    "  2. Train each tree on its bootstrap sample and make predictions.\n",
    "  3. Combine the predictions:\n",
    "    * Average the predictions for **regression trees**\n",
    "    - Take a majority vote for **classification trees**\n",
    "    \n",
    "Keep in mind:\n",
    "  - **Each bootstrap sample** should be the same size as the original training set.\n",
    "  - **_b_** should be a large enough value that the error seems to have \"stabilized\".\n",
    "  - The trees are **grown deep** so that they have low bias/high variance.\n",
    "  \n",
    "Bagging increases predictive accuracy by **reducing the variance**, similar to how cross-validation reduces the variance associated with train/test split (for estimating out-of-sample error) by splitting many times and averaging the results."
   ]
  },
  {
   "cell_type": "markdown",
   "metadata": {},
   "source": [
    "### Manually implementing bagged regression trees (with *b*=10)\n",
    "\n",
    "We are going to implement bagging using our original concrete slump test dataset.\n",
    "\n",
    "Let's generate our training and testing data, perform bagging on the training data, and compare the resulting RMSE on the test set to our original RMSE:"
   ]
  },
  {
   "cell_type": "code",
   "execution_count": 38,
   "metadata": {},
   "outputs": [
    {
     "data": {
      "text/plain": [
       "[array([47, 38, 53, 24, 15, 49, 23, 26, 30, 43, 30, 26, 58, 69, 47, 50, 37,\n",
       "        34, 38, 67, 11,  0,  3,  2, 19, 12, 65, 14, 71, 60, 46, 28, 13, 12,\n",
       "        69, 31, 45, 16, 41, 56, 70, 56, 44, 47, 49, 18, 46, 37, 38,  7, 67,\n",
       "         5, 47, 47, 15, 34, 10, 28,  4, 55, 23, 50, 62, 55,  0, 33, 21, 71,\n",
       "        68, 52, 64, 41]),\n",
       " array([ 1, 14,  3, 30, 12, 19, 26, 68, 64, 22, 56,  8, 44, 24, 15,  2, 16,\n",
       "         2, 67, 46, 57, 55, 36, 33, 42,  2, 35, 18, 69,  8, 15, 20, 16, 64,\n",
       "        61, 57, 49, 62, 57, 27, 35, 36, 61, 28,  1, 11, 62, 17, 30, 38, 25,\n",
       "        56, 24, 12,  8, 47, 25, 21, 22, 45, 19, 41, 47, 36, 39, 17, 39, 59,\n",
       "        37, 38,  8, 54]),\n",
       " array([17, 41, 47, 19, 43, 44, 35, 42, 20, 26, 23,  2, 65, 27, 68, 60,  3,\n",
       "        47, 61, 63, 32, 13, 56, 48, 58, 35, 57, 60,  9, 60, 50, 51, 49, 71,\n",
       "         4,  3, 46, 47, 63,  5, 63, 56, 14, 60,  8, 41, 33, 69, 63, 17,  1,\n",
       "         1,  2, 51, 52, 14, 47, 65, 29,  9, 50, 17, 31, 11, 34, 53, 24, 55,\n",
       "        53, 23, 58, 16]),\n",
       " array([ 6, 57,  4, 46,  6, 18, 48, 39, 16, 46, 52, 40, 45,  2, 60, 20, 58,\n",
       "         0, 42, 17, 49, 16, 48, 63, 49, 15, 25, 25, 69, 50, 15, 46, 17,  0,\n",
       "        67, 37, 30, 26, 60, 47, 67, 51, 37,  4, 37, 36,  5, 54, 63, 12, 33,\n",
       "         4, 49, 46, 55, 19, 47, 42, 48, 48,  2, 35, 46, 33, 38, 67, 46, 58,\n",
       "        37, 70, 34, 70]),\n",
       " array([41, 26, 10, 24, 12, 60,  1, 51,  6, 18, 50, 45, 36, 46, 43, 55, 21,\n",
       "        30, 58, 35, 51, 48,  2, 45, 63,  0, 19,  5, 34, 26, 15,  6, 63, 17,\n",
       "        42, 26, 25, 44, 13, 45, 54, 50, 44, 23, 10, 55, 60, 15, 30, 70, 37,\n",
       "        54, 56,  6, 53, 50, 65, 46, 65,  5,  2, 67, 63, 40, 24,  1, 67,  3,\n",
       "        65, 22, 13, 53]),\n",
       " array([47, 64, 12, 19, 53, 41, 56,  8, 14,  4, 33, 53, 14, 43, 28, 68, 70,\n",
       "         7, 47, 28, 17, 61,  7, 55, 64, 31, 58, 49, 27, 30, 43, 65, 48, 24,\n",
       "        15,  3, 26, 71, 47, 67, 50, 51, 52, 49, 45, 43, 67,  5, 34, 52, 65,\n",
       "        51, 57, 71, 57, 18,  5, 23, 13, 59, 26, 21, 40, 16, 16, 67, 16, 46,\n",
       "        68, 20, 65, 56]),\n",
       " array([54, 40,  7, 17, 43, 45, 39, 57, 13,  1,  6, 21, 70, 32, 44, 36, 46,\n",
       "        54, 22, 49, 53,  5, 62, 54, 23, 62, 35, 62, 50, 49, 11, 57, 66, 33,\n",
       "         8, 53, 48,  9,  9, 59, 52, 13,  5, 14, 51, 56,  1, 39, 68, 14, 25,\n",
       "        67, 36, 28, 63, 16, 53, 20, 22, 54, 67, 58, 59, 56, 13, 37,  7,  9,\n",
       "        64,  8, 36, 14]),\n",
       " array([69, 53, 62, 29, 70, 67, 64, 17, 26, 30, 48, 19,  7, 42, 42, 12, 25,\n",
       "        59, 49, 44, 52, 43, 66, 22, 19, 10, 51, 11, 18, 66, 20, 10, 61,  8,\n",
       "        66, 19, 47, 13, 71, 66, 22,  2, 45, 29, 71, 50, 59, 10, 24, 51, 69,\n",
       "        24,  5, 35, 37, 45, 67,  5, 54, 58, 35, 26, 14, 51, 17, 39, 48, 24,\n",
       "        69, 10, 57, 35]),\n",
       " array([24, 43,  3, 41,  0,  3, 21,  0, 45, 39, 66, 62,  8, 53, 69, 47, 48,\n",
       "        53, 61, 57, 32, 11, 62, 22,  7, 59,  6, 58, 42, 66, 65, 49, 31, 43,\n",
       "        24,  3, 69, 47, 46, 25, 11, 41, 66,  5, 37, 12, 61, 23, 35, 16, 29,\n",
       "        18, 15, 31,  3, 58,  1, 63, 57, 26, 45, 48, 56, 44,  1, 51,  5, 20,\n",
       "         9, 10, 67, 30]),\n",
       " array([ 8, 48,  6, 50, 51, 47, 66, 59, 16, 43, 51,  9, 64, 20, 34, 26, 71,\n",
       "        49, 50, 43, 69, 13, 57, 45, 67, 15,  7, 17, 48, 65, 33, 24, 30, 19,\n",
       "        21, 36, 27, 52, 31, 44,  2, 42, 21, 22,  1,  7, 22, 58, 66,  3, 27,\n",
       "        25, 17, 32, 55, 28, 16, 66, 50, 37, 52, 26,  9, 30,  5, 51, 51, 26,\n",
       "        36,  6, 30, 44])]"
      ]
     },
     "execution_count": 38,
     "metadata": {},
     "output_type": "execute_result"
    }
   ],
   "source": [
    "# set a seed for reproducibility\n",
    "np.random.seed(1234)\n",
    "\n",
    "# create ten bootstrap samples (will be used to select rows from the DataFrame)\n",
    "\n",
    "samples = [np.random.choice(a=X_train.shape[0], size=X_train.shape[0], replace=True) for _ in range(1, 11)]\n",
    "samples"
   ]
  },
  {
   "cell_type": "code",
   "execution_count": 39,
   "metadata": {},
   "outputs": [
    {
     "data": {
      "text/html": [
       "<div>\n",
       "<style>\n",
       "    .dataframe thead tr:only-child th {\n",
       "        text-align: right;\n",
       "    }\n",
       "\n",
       "    .dataframe thead th {\n",
       "        text-align: left;\n",
       "    }\n",
       "\n",
       "    .dataframe tbody tr th {\n",
       "        vertical-align: top;\n",
       "    }\n",
       "</style>\n",
       "<table border=\"1\" class=\"dataframe\">\n",
       "  <thead>\n",
       "    <tr style=\"text-align: right;\">\n",
       "      <th></th>\n",
       "      <th>cement</th>\n",
       "      <th>slag</th>\n",
       "      <th>fly_ash</th>\n",
       "      <th>water</th>\n",
       "      <th>sp</th>\n",
       "      <th>coarse_aggr</th>\n",
       "      <th>fine_aggr</th>\n",
       "    </tr>\n",
       "    <tr>\n",
       "      <th>No</th>\n",
       "      <th></th>\n",
       "      <th></th>\n",
       "      <th></th>\n",
       "      <th></th>\n",
       "      <th></th>\n",
       "      <th></th>\n",
       "      <th></th>\n",
       "    </tr>\n",
       "  </thead>\n",
       "  <tbody>\n",
       "    <tr>\n",
       "      <th>14</th>\n",
       "      <td>354.0</td>\n",
       "      <td>0.0</td>\n",
       "      <td>0.0</td>\n",
       "      <td>234.0</td>\n",
       "      <td>6.0</td>\n",
       "      <td>959.0</td>\n",
       "      <td>691.0</td>\n",
       "    </tr>\n",
       "    <tr>\n",
       "      <th>61</th>\n",
       "      <td>278.0</td>\n",
       "      <td>0.0</td>\n",
       "      <td>117.0</td>\n",
       "      <td>205.0</td>\n",
       "      <td>9.0</td>\n",
       "      <td>875.0</td>\n",
       "      <td>799.0</td>\n",
       "    </tr>\n",
       "    <tr>\n",
       "      <th>12</th>\n",
       "      <td>148.0</td>\n",
       "      <td>109.0</td>\n",
       "      <td>139.0</td>\n",
       "      <td>193.0</td>\n",
       "      <td>7.0</td>\n",
       "      <td>768.0</td>\n",
       "      <td>902.0</td>\n",
       "    </tr>\n",
       "    <tr>\n",
       "      <th>44</th>\n",
       "      <td>291.0</td>\n",
       "      <td>105.0</td>\n",
       "      <td>0.0</td>\n",
       "      <td>205.0</td>\n",
       "      <td>6.0</td>\n",
       "      <td>859.0</td>\n",
       "      <td>797.0</td>\n",
       "    </tr>\n",
       "    <tr>\n",
       "      <th>71</th>\n",
       "      <td>276.0</td>\n",
       "      <td>90.0</td>\n",
       "      <td>116.0</td>\n",
       "      <td>180.0</td>\n",
       "      <td>9.0</td>\n",
       "      <td>870.0</td>\n",
       "      <td>768.0</td>\n",
       "    </tr>\n",
       "    <tr>\n",
       "      <th>89</th>\n",
       "      <td>150.4</td>\n",
       "      <td>110.9</td>\n",
       "      <td>239.7</td>\n",
       "      <td>168.1</td>\n",
       "      <td>6.5</td>\n",
       "      <td>1000.2</td>\n",
       "      <td>667.2</td>\n",
       "    </tr>\n",
       "    <tr>\n",
       "      <th>102</th>\n",
       "      <td>297.1</td>\n",
       "      <td>40.9</td>\n",
       "      <td>239.9</td>\n",
       "      <td>194.0</td>\n",
       "      <td>7.5</td>\n",
       "      <td>908.9</td>\n",
       "      <td>651.8</td>\n",
       "    </tr>\n",
       "    <tr>\n",
       "      <th>25</th>\n",
       "      <td>142.0</td>\n",
       "      <td>130.0</td>\n",
       "      <td>167.0</td>\n",
       "      <td>174.0</td>\n",
       "      <td>11.0</td>\n",
       "      <td>883.0</td>\n",
       "      <td>785.0</td>\n",
       "    </tr>\n",
       "    <tr>\n",
       "      <th>50</th>\n",
       "      <td>326.0</td>\n",
       "      <td>0.0</td>\n",
       "      <td>167.0</td>\n",
       "      <td>174.0</td>\n",
       "      <td>6.0</td>\n",
       "      <td>884.0</td>\n",
       "      <td>792.0</td>\n",
       "    </tr>\n",
       "    <tr>\n",
       "      <th>62</th>\n",
       "      <td>288.0</td>\n",
       "      <td>0.0</td>\n",
       "      <td>121.0</td>\n",
       "      <td>177.0</td>\n",
       "      <td>7.0</td>\n",
       "      <td>908.0</td>\n",
       "      <td>829.0</td>\n",
       "    </tr>\n",
       "    <tr>\n",
       "      <th>50</th>\n",
       "      <td>326.0</td>\n",
       "      <td>0.0</td>\n",
       "      <td>167.0</td>\n",
       "      <td>174.0</td>\n",
       "      <td>6.0</td>\n",
       "      <td>884.0</td>\n",
       "      <td>792.0</td>\n",
       "    </tr>\n",
       "    <tr>\n",
       "      <th>25</th>\n",
       "      <td>142.0</td>\n",
       "      <td>130.0</td>\n",
       "      <td>167.0</td>\n",
       "      <td>174.0</td>\n",
       "      <td>11.0</td>\n",
       "      <td>883.0</td>\n",
       "      <td>785.0</td>\n",
       "    </tr>\n",
       "    <tr>\n",
       "      <th>26</th>\n",
       "      <td>140.0</td>\n",
       "      <td>128.0</td>\n",
       "      <td>164.0</td>\n",
       "      <td>183.0</td>\n",
       "      <td>12.0</td>\n",
       "      <td>871.0</td>\n",
       "      <td>775.0</td>\n",
       "    </tr>\n",
       "    <tr>\n",
       "      <th>73</th>\n",
       "      <td>322.0</td>\n",
       "      <td>116.0</td>\n",
       "      <td>0.0</td>\n",
       "      <td>196.0</td>\n",
       "      <td>10.0</td>\n",
       "      <td>818.0</td>\n",
       "      <td>813.0</td>\n",
       "    </tr>\n",
       "    <tr>\n",
       "      <th>14</th>\n",
       "      <td>354.0</td>\n",
       "      <td>0.0</td>\n",
       "      <td>0.0</td>\n",
       "      <td>234.0</td>\n",
       "      <td>6.0</td>\n",
       "      <td>959.0</td>\n",
       "      <td>691.0</td>\n",
       "    </tr>\n",
       "    <tr>\n",
       "      <th>15</th>\n",
       "      <td>374.0</td>\n",
       "      <td>0.0</td>\n",
       "      <td>0.0</td>\n",
       "      <td>190.0</td>\n",
       "      <td>7.0</td>\n",
       "      <td>1013.0</td>\n",
       "      <td>730.0</td>\n",
       "    </tr>\n",
       "    <tr>\n",
       "      <th>9</th>\n",
       "      <td>152.0</td>\n",
       "      <td>0.0</td>\n",
       "      <td>237.0</td>\n",
       "      <td>204.0</td>\n",
       "      <td>6.0</td>\n",
       "      <td>785.0</td>\n",
       "      <td>892.0</td>\n",
       "    </tr>\n",
       "    <tr>\n",
       "      <th>31</th>\n",
       "      <td>321.0</td>\n",
       "      <td>0.0</td>\n",
       "      <td>164.0</td>\n",
       "      <td>190.0</td>\n",
       "      <td>5.0</td>\n",
       "      <td>870.0</td>\n",
       "      <td>774.0</td>\n",
       "    </tr>\n",
       "    <tr>\n",
       "      <th>61</th>\n",
       "      <td>278.0</td>\n",
       "      <td>0.0</td>\n",
       "      <td>117.0</td>\n",
       "      <td>205.0</td>\n",
       "      <td>9.0</td>\n",
       "      <td>875.0</td>\n",
       "      <td>799.0</td>\n",
       "    </tr>\n",
       "    <tr>\n",
       "      <th>76</th>\n",
       "      <td>149.0</td>\n",
       "      <td>109.0</td>\n",
       "      <td>139.0</td>\n",
       "      <td>193.0</td>\n",
       "      <td>6.0</td>\n",
       "      <td>892.0</td>\n",
       "      <td>780.0</td>\n",
       "    </tr>\n",
       "    <tr>\n",
       "      <th>24</th>\n",
       "      <td>146.0</td>\n",
       "      <td>178.0</td>\n",
       "      <td>0.0</td>\n",
       "      <td>192.0</td>\n",
       "      <td>11.0</td>\n",
       "      <td>961.0</td>\n",
       "      <td>749.0</td>\n",
       "    </tr>\n",
       "    <tr>\n",
       "      <th>47</th>\n",
       "      <td>280.0</td>\n",
       "      <td>92.0</td>\n",
       "      <td>118.0</td>\n",
       "      <td>207.0</td>\n",
       "      <td>9.0</td>\n",
       "      <td>883.0</td>\n",
       "      <td>679.0</td>\n",
       "    </tr>\n",
       "    <tr>\n",
       "      <th>28</th>\n",
       "      <td>295.0</td>\n",
       "      <td>106.0</td>\n",
       "      <td>136.0</td>\n",
       "      <td>208.0</td>\n",
       "      <td>6.0</td>\n",
       "      <td>871.0</td>\n",
       "      <td>650.0</td>\n",
       "    </tr>\n",
       "    <tr>\n",
       "      <th>20</th>\n",
       "      <td>296.0</td>\n",
       "      <td>97.0</td>\n",
       "      <td>0.0</td>\n",
       "      <td>219.0</td>\n",
       "      <td>9.0</td>\n",
       "      <td>932.0</td>\n",
       "      <td>685.0</td>\n",
       "    </tr>\n",
       "    <tr>\n",
       "      <th>46</th>\n",
       "      <td>318.0</td>\n",
       "      <td>126.0</td>\n",
       "      <td>0.0</td>\n",
       "      <td>210.0</td>\n",
       "      <td>6.0</td>\n",
       "      <td>861.0</td>\n",
       "      <td>737.0</td>\n",
       "    </tr>\n",
       "    <tr>\n",
       "      <th>35</th>\n",
       "      <td>137.0</td>\n",
       "      <td>167.0</td>\n",
       "      <td>214.0</td>\n",
       "      <td>226.0</td>\n",
       "      <td>6.0</td>\n",
       "      <td>708.0</td>\n",
       "      <td>757.0</td>\n",
       "    </tr>\n",
       "    <tr>\n",
       "      <th>80</th>\n",
       "      <td>141.1</td>\n",
       "      <td>0.6</td>\n",
       "      <td>209.5</td>\n",
       "      <td>188.8</td>\n",
       "      <td>4.6</td>\n",
       "      <td>996.1</td>\n",
       "      <td>789.2</td>\n",
       "    </tr>\n",
       "    <tr>\n",
       "      <th>59</th>\n",
       "      <td>143.0</td>\n",
       "      <td>131.0</td>\n",
       "      <td>168.0</td>\n",
       "      <td>217.0</td>\n",
       "      <td>6.0</td>\n",
       "      <td>891.0</td>\n",
       "      <td>672.0</td>\n",
       "    </tr>\n",
       "    <tr>\n",
       "      <th>38</th>\n",
       "      <td>165.0</td>\n",
       "      <td>150.0</td>\n",
       "      <td>0.0</td>\n",
       "      <td>182.0</td>\n",
       "      <td>12.0</td>\n",
       "      <td>1023.0</td>\n",
       "      <td>729.0</td>\n",
       "    </tr>\n",
       "    <tr>\n",
       "      <th>72</th>\n",
       "      <td>313.0</td>\n",
       "      <td>112.0</td>\n",
       "      <td>0.0</td>\n",
       "      <td>220.0</td>\n",
       "      <td>10.0</td>\n",
       "      <td>794.0</td>\n",
       "      <td>789.0</td>\n",
       "    </tr>\n",
       "    <tr>\n",
       "      <th>...</th>\n",
       "      <td>...</td>\n",
       "      <td>...</td>\n",
       "      <td>...</td>\n",
       "      <td>...</td>\n",
       "      <td>...</td>\n",
       "      <td>...</td>\n",
       "      <td>...</td>\n",
       "    </tr>\n",
       "    <tr>\n",
       "      <th>64</th>\n",
       "      <td>291.0</td>\n",
       "      <td>104.0</td>\n",
       "      <td>0.0</td>\n",
       "      <td>231.0</td>\n",
       "      <td>9.0</td>\n",
       "      <td>857.0</td>\n",
       "      <td>725.0</td>\n",
       "    </tr>\n",
       "    <tr>\n",
       "      <th>14</th>\n",
       "      <td>354.0</td>\n",
       "      <td>0.0</td>\n",
       "      <td>0.0</td>\n",
       "      <td>234.0</td>\n",
       "      <td>6.0</td>\n",
       "      <td>959.0</td>\n",
       "      <td>691.0</td>\n",
       "    </tr>\n",
       "    <tr>\n",
       "      <th>89</th>\n",
       "      <td>150.4</td>\n",
       "      <td>110.9</td>\n",
       "      <td>239.7</td>\n",
       "      <td>168.1</td>\n",
       "      <td>6.5</td>\n",
       "      <td>1000.2</td>\n",
       "      <td>667.2</td>\n",
       "    </tr>\n",
       "    <tr>\n",
       "      <th>42</th>\n",
       "      <td>154.0</td>\n",
       "      <td>141.0</td>\n",
       "      <td>181.0</td>\n",
       "      <td>234.0</td>\n",
       "      <td>11.0</td>\n",
       "      <td>797.0</td>\n",
       "      <td>683.0</td>\n",
       "    </tr>\n",
       "    <tr>\n",
       "      <th>100</th>\n",
       "      <td>248.0</td>\n",
       "      <td>101.0</td>\n",
       "      <td>239.9</td>\n",
       "      <td>169.1</td>\n",
       "      <td>7.7</td>\n",
       "      <td>949.9</td>\n",
       "      <td>644.1</td>\n",
       "    </tr>\n",
       "    <tr>\n",
       "      <th>9</th>\n",
       "      <td>152.0</td>\n",
       "      <td>0.0</td>\n",
       "      <td>237.0</td>\n",
       "      <td>204.0</td>\n",
       "      <td>6.0</td>\n",
       "      <td>785.0</td>\n",
       "      <td>892.0</td>\n",
       "    </tr>\n",
       "    <tr>\n",
       "      <th>61</th>\n",
       "      <td>278.0</td>\n",
       "      <td>0.0</td>\n",
       "      <td>117.0</td>\n",
       "      <td>205.0</td>\n",
       "      <td>9.0</td>\n",
       "      <td>875.0</td>\n",
       "      <td>799.0</td>\n",
       "    </tr>\n",
       "    <tr>\n",
       "      <th>74</th>\n",
       "      <td>294.0</td>\n",
       "      <td>106.0</td>\n",
       "      <td>136.0</td>\n",
       "      <td>207.0</td>\n",
       "      <td>6.0</td>\n",
       "      <td>747.0</td>\n",
       "      <td>778.0</td>\n",
       "    </tr>\n",
       "    <tr>\n",
       "      <th>76</th>\n",
       "      <td>149.0</td>\n",
       "      <td>109.0</td>\n",
       "      <td>139.0</td>\n",
       "      <td>193.0</td>\n",
       "      <td>6.0</td>\n",
       "      <td>892.0</td>\n",
       "      <td>780.0</td>\n",
       "    </tr>\n",
       "    <tr>\n",
       "      <th>60</th>\n",
       "      <td>140.0</td>\n",
       "      <td>128.0</td>\n",
       "      <td>164.0</td>\n",
       "      <td>237.0</td>\n",
       "      <td>6.0</td>\n",
       "      <td>869.0</td>\n",
       "      <td>656.0</td>\n",
       "    </tr>\n",
       "    <tr>\n",
       "      <th>14</th>\n",
       "      <td>354.0</td>\n",
       "      <td>0.0</td>\n",
       "      <td>0.0</td>\n",
       "      <td>234.0</td>\n",
       "      <td>6.0</td>\n",
       "      <td>959.0</td>\n",
       "      <td>691.0</td>\n",
       "    </tr>\n",
       "    <tr>\n",
       "      <th>14</th>\n",
       "      <td>354.0</td>\n",
       "      <td>0.0</td>\n",
       "      <td>0.0</td>\n",
       "      <td>234.0</td>\n",
       "      <td>6.0</td>\n",
       "      <td>959.0</td>\n",
       "      <td>691.0</td>\n",
       "    </tr>\n",
       "    <tr>\n",
       "      <th>71</th>\n",
       "      <td>276.0</td>\n",
       "      <td>90.0</td>\n",
       "      <td>116.0</td>\n",
       "      <td>180.0</td>\n",
       "      <td>9.0</td>\n",
       "      <td>870.0</td>\n",
       "      <td>768.0</td>\n",
       "    </tr>\n",
       "    <tr>\n",
       "      <th>31</th>\n",
       "      <td>321.0</td>\n",
       "      <td>0.0</td>\n",
       "      <td>164.0</td>\n",
       "      <td>190.0</td>\n",
       "      <td>5.0</td>\n",
       "      <td>870.0</td>\n",
       "      <td>774.0</td>\n",
       "    </tr>\n",
       "    <tr>\n",
       "      <th>93</th>\n",
       "      <td>303.8</td>\n",
       "      <td>0.2</td>\n",
       "      <td>239.8</td>\n",
       "      <td>236.4</td>\n",
       "      <td>8.3</td>\n",
       "      <td>780.1</td>\n",
       "      <td>715.3</td>\n",
       "    </tr>\n",
       "    <tr>\n",
       "      <th>96</th>\n",
       "      <td>184.3</td>\n",
       "      <td>153.4</td>\n",
       "      <td>239.2</td>\n",
       "      <td>179.0</td>\n",
       "      <td>7.5</td>\n",
       "      <td>920.2</td>\n",
       "      <td>640.9</td>\n",
       "    </tr>\n",
       "    <tr>\n",
       "      <th>43</th>\n",
       "      <td>160.0</td>\n",
       "      <td>146.0</td>\n",
       "      <td>188.0</td>\n",
       "      <td>203.0</td>\n",
       "      <td>11.0</td>\n",
       "      <td>829.0</td>\n",
       "      <td>710.0</td>\n",
       "    </tr>\n",
       "    <tr>\n",
       "      <th>19</th>\n",
       "      <td>310.0</td>\n",
       "      <td>0.0</td>\n",
       "      <td>143.0</td>\n",
       "      <td>168.0</td>\n",
       "      <td>10.0</td>\n",
       "      <td>914.0</td>\n",
       "      <td>804.0</td>\n",
       "    </tr>\n",
       "    <tr>\n",
       "      <th>102</th>\n",
       "      <td>297.1</td>\n",
       "      <td>40.9</td>\n",
       "      <td>239.9</td>\n",
       "      <td>194.0</td>\n",
       "      <td>7.5</td>\n",
       "      <td>908.9</td>\n",
       "      <td>651.8</td>\n",
       "    </tr>\n",
       "    <tr>\n",
       "      <th>15</th>\n",
       "      <td>374.0</td>\n",
       "      <td>0.0</td>\n",
       "      <td>0.0</td>\n",
       "      <td>190.0</td>\n",
       "      <td>7.0</td>\n",
       "      <td>1013.0</td>\n",
       "      <td>730.0</td>\n",
       "    </tr>\n",
       "    <tr>\n",
       "      <th>2</th>\n",
       "      <td>163.0</td>\n",
       "      <td>149.0</td>\n",
       "      <td>191.0</td>\n",
       "      <td>180.0</td>\n",
       "      <td>12.0</td>\n",
       "      <td>843.0</td>\n",
       "      <td>746.0</td>\n",
       "    </tr>\n",
       "    <tr>\n",
       "      <th>19</th>\n",
       "      <td>310.0</td>\n",
       "      <td>0.0</td>\n",
       "      <td>143.0</td>\n",
       "      <td>168.0</td>\n",
       "      <td>10.0</td>\n",
       "      <td>914.0</td>\n",
       "      <td>804.0</td>\n",
       "    </tr>\n",
       "    <tr>\n",
       "      <th>47</th>\n",
       "      <td>280.0</td>\n",
       "      <td>92.0</td>\n",
       "      <td>118.0</td>\n",
       "      <td>207.0</td>\n",
       "      <td>9.0</td>\n",
       "      <td>883.0</td>\n",
       "      <td>679.0</td>\n",
       "    </tr>\n",
       "    <tr>\n",
       "      <th>4</th>\n",
       "      <td>162.0</td>\n",
       "      <td>148.0</td>\n",
       "      <td>190.0</td>\n",
       "      <td>179.0</td>\n",
       "      <td>19.0</td>\n",
       "      <td>838.0</td>\n",
       "      <td>741.0</td>\n",
       "    </tr>\n",
       "    <tr>\n",
       "      <th>53</th>\n",
       "      <td>356.0</td>\n",
       "      <td>142.0</td>\n",
       "      <td>0.0</td>\n",
       "      <td>193.0</td>\n",
       "      <td>11.0</td>\n",
       "      <td>801.0</td>\n",
       "      <td>778.0</td>\n",
       "    </tr>\n",
       "    <tr>\n",
       "      <th>38</th>\n",
       "      <td>165.0</td>\n",
       "      <td>150.0</td>\n",
       "      <td>0.0</td>\n",
       "      <td>182.0</td>\n",
       "      <td>12.0</td>\n",
       "      <td>1023.0</td>\n",
       "      <td>729.0</td>\n",
       "    </tr>\n",
       "    <tr>\n",
       "      <th>10</th>\n",
       "      <td>304.0</td>\n",
       "      <td>0.0</td>\n",
       "      <td>140.0</td>\n",
       "      <td>214.0</td>\n",
       "      <td>6.0</td>\n",
       "      <td>895.0</td>\n",
       "      <td>722.0</td>\n",
       "    </tr>\n",
       "    <tr>\n",
       "      <th>29</th>\n",
       "      <td>298.0</td>\n",
       "      <td>107.0</td>\n",
       "      <td>137.0</td>\n",
       "      <td>201.0</td>\n",
       "      <td>6.0</td>\n",
       "      <td>878.0</td>\n",
       "      <td>655.0</td>\n",
       "    </tr>\n",
       "    <tr>\n",
       "      <th>65</th>\n",
       "      <td>265.0</td>\n",
       "      <td>86.0</td>\n",
       "      <td>111.0</td>\n",
       "      <td>195.0</td>\n",
       "      <td>6.0</td>\n",
       "      <td>833.0</td>\n",
       "      <td>790.0</td>\n",
       "    </tr>\n",
       "    <tr>\n",
       "      <th>58</th>\n",
       "      <td>313.0</td>\n",
       "      <td>124.0</td>\n",
       "      <td>0.0</td>\n",
       "      <td>205.0</td>\n",
       "      <td>11.0</td>\n",
       "      <td>846.0</td>\n",
       "      <td>758.0</td>\n",
       "    </tr>\n",
       "  </tbody>\n",
       "</table>\n",
       "<p>72 rows × 7 columns</p>\n",
       "</div>"
      ],
      "text/plain": [
       "     cement   slag  fly_ash  water    sp  coarse_aggr  fine_aggr\n",
       "No                                                              \n",
       "14    354.0    0.0      0.0  234.0   6.0        959.0      691.0\n",
       "61    278.0    0.0    117.0  205.0   9.0        875.0      799.0\n",
       "12    148.0  109.0    139.0  193.0   7.0        768.0      902.0\n",
       "44    291.0  105.0      0.0  205.0   6.0        859.0      797.0\n",
       "71    276.0   90.0    116.0  180.0   9.0        870.0      768.0\n",
       "89    150.4  110.9    239.7  168.1   6.5       1000.2      667.2\n",
       "102   297.1   40.9    239.9  194.0   7.5        908.9      651.8\n",
       "25    142.0  130.0    167.0  174.0  11.0        883.0      785.0\n",
       "50    326.0    0.0    167.0  174.0   6.0        884.0      792.0\n",
       "62    288.0    0.0    121.0  177.0   7.0        908.0      829.0\n",
       "50    326.0    0.0    167.0  174.0   6.0        884.0      792.0\n",
       "25    142.0  130.0    167.0  174.0  11.0        883.0      785.0\n",
       "26    140.0  128.0    164.0  183.0  12.0        871.0      775.0\n",
       "73    322.0  116.0      0.0  196.0  10.0        818.0      813.0\n",
       "14    354.0    0.0      0.0  234.0   6.0        959.0      691.0\n",
       "15    374.0    0.0      0.0  190.0   7.0       1013.0      730.0\n",
       "9     152.0    0.0    237.0  204.0   6.0        785.0      892.0\n",
       "31    321.0    0.0    164.0  190.0   5.0        870.0      774.0\n",
       "61    278.0    0.0    117.0  205.0   9.0        875.0      799.0\n",
       "76    149.0  109.0    139.0  193.0   6.0        892.0      780.0\n",
       "24    146.0  178.0      0.0  192.0  11.0        961.0      749.0\n",
       "47    280.0   92.0    118.0  207.0   9.0        883.0      679.0\n",
       "28    295.0  106.0    136.0  208.0   6.0        871.0      650.0\n",
       "20    296.0   97.0      0.0  219.0   9.0        932.0      685.0\n",
       "46    318.0  126.0      0.0  210.0   6.0        861.0      737.0\n",
       "35    137.0  167.0    214.0  226.0   6.0        708.0      757.0\n",
       "80    141.1    0.6    209.5  188.8   4.6        996.1      789.2\n",
       "59    143.0  131.0    168.0  217.0   6.0        891.0      672.0\n",
       "38    165.0  150.0      0.0  182.0  12.0       1023.0      729.0\n",
       "72    313.0  112.0      0.0  220.0  10.0        794.0      789.0\n",
       "..      ...    ...      ...    ...   ...          ...        ...\n",
       "64    291.0  104.0      0.0  231.0   9.0        857.0      725.0\n",
       "14    354.0    0.0      0.0  234.0   6.0        959.0      691.0\n",
       "89    150.4  110.9    239.7  168.1   6.5       1000.2      667.2\n",
       "42    154.0  141.0    181.0  234.0  11.0        797.0      683.0\n",
       "100   248.0  101.0    239.9  169.1   7.7        949.9      644.1\n",
       "9     152.0    0.0    237.0  204.0   6.0        785.0      892.0\n",
       "61    278.0    0.0    117.0  205.0   9.0        875.0      799.0\n",
       "74    294.0  106.0    136.0  207.0   6.0        747.0      778.0\n",
       "76    149.0  109.0    139.0  193.0   6.0        892.0      780.0\n",
       "60    140.0  128.0    164.0  237.0   6.0        869.0      656.0\n",
       "14    354.0    0.0      0.0  234.0   6.0        959.0      691.0\n",
       "14    354.0    0.0      0.0  234.0   6.0        959.0      691.0\n",
       "71    276.0   90.0    116.0  180.0   9.0        870.0      768.0\n",
       "31    321.0    0.0    164.0  190.0   5.0        870.0      774.0\n",
       "93    303.8    0.2    239.8  236.4   8.3        780.1      715.3\n",
       "96    184.3  153.4    239.2  179.0   7.5        920.2      640.9\n",
       "43    160.0  146.0    188.0  203.0  11.0        829.0      710.0\n",
       "19    310.0    0.0    143.0  168.0  10.0        914.0      804.0\n",
       "102   297.1   40.9    239.9  194.0   7.5        908.9      651.8\n",
       "15    374.0    0.0      0.0  190.0   7.0       1013.0      730.0\n",
       "2     163.0  149.0    191.0  180.0  12.0        843.0      746.0\n",
       "19    310.0    0.0    143.0  168.0  10.0        914.0      804.0\n",
       "47    280.0   92.0    118.0  207.0   9.0        883.0      679.0\n",
       "4     162.0  148.0    190.0  179.0  19.0        838.0      741.0\n",
       "53    356.0  142.0      0.0  193.0  11.0        801.0      778.0\n",
       "38    165.0  150.0      0.0  182.0  12.0       1023.0      729.0\n",
       "10    304.0    0.0    140.0  214.0   6.0        895.0      722.0\n",
       "29    298.0  107.0    137.0  201.0   6.0        878.0      655.0\n",
       "65    265.0   86.0    111.0  195.0   6.0        833.0      790.0\n",
       "58    313.0  124.0      0.0  205.0  11.0        846.0      758.0\n",
       "\n",
       "[72 rows x 7 columns]"
      ]
     },
     "execution_count": 39,
     "metadata": {},
     "output_type": "execute_result"
    }
   ],
   "source": [
    "X_train.iloc[samples[0], :]"
   ]
  },
  {
   "cell_type": "code",
   "execution_count": 40,
   "metadata": {},
   "outputs": [
    {
     "data": {
      "text/plain": [
       "array([[49. , 46. , 48.2, 54. , 60. , 48.2, 54. , 20. , 48.2, 60. , 78. ,\n",
       "        69. , 20. , 48.2, 42.5, 78. , 60. , 67. , 53. , 64. , 54. , 69. ,\n",
       "        78. , 48. , 49. , 48.2, 38. , 48.2, 53. , 48. , 21.5],\n",
       "       [48. , 70. , 20. , 49. , 60. , 54.5, 49. , 20. , 27.5, 20. , 60. ,\n",
       "        58.5, 20. , 42. , 51. , 60. , 67. , 20. , 70. , 64. , 51. , 58.5,\n",
       "        60. , 67. , 48. , 52.5, 49. , 27.5, 20. , 70. , 21.5],\n",
       "       [26. , 38. , 39. , 46. , 64. , 48.5, 49. , 27.5, 39. , 48.5, 69. ,\n",
       "        42.5, 20. , 48.5, 64. , 58. , 59. , 39. , 38. , 64. , 46. , 35. ,\n",
       "        58. , 59. , 60. , 48.5, 46. , 39. , 48.2, 58. , 21.5],\n",
       "       [61. , 58.5, 20. , 48. , 35. , 20. , 48. , 52.5, 20. , 48.5, 35. ,\n",
       "        58.5, 20. , 42. , 38. , 35. , 63.5, 48.2, 64. , 35. , 58. , 58.5,\n",
       "        35. , 63.5, 61. , 52.5, 48. , 20. , 48.2, 67. , 21.5],\n",
       "       [69. , 70. , 48.5, 30. , 20. , 48.5, 30. , 52.5, 48.5, 42.5, 78. ,\n",
       "        53. , 20. , 48.2, 20. , 51. , 58. , 42. , 49. , 65. , 20. , 53. ,\n",
       "        51. , 58. , 67. , 52.5, 49. , 31. , 53. , 58. , 53. ],\n",
       "       [49. , 64. , 39. , 48. , 64. , 48.5, 48. , 27.5, 39. , 42. , 58.5,\n",
       "        55. , 20. , 42. , 60. , 58.5, 60. , 39. , 38. , 58.5, 64. , 58.5,\n",
       "        58.5, 60. , 30. , 48.5, 64. , 39. , 48.2, 64. , 21.5],\n",
       "       [26. , 46. , 41.5, 70. , 64. , 41.5, 70. , 41.5, 41.5, 20. , 62. ,\n",
       "        35. , 20. , 20. , 64. , 62. , 60. , 41.5, 47. , 20. , 58.5, 35. ,\n",
       "        62. , 55. , 26. , 27.5, 46. , 27.5, 48.5, 51. , 21.5],\n",
       "       [48. , 62. , 52.5, 70. , 60. , 52.5, 70. , 39. , 52.5, 39. , 78. ,\n",
       "        55. , 20. , 42. , 60. , 78. , 55. , 48.5, 60. , 62. , 58.5, 55. ,\n",
       "        78. , 55. , 64. , 52.5, 47. , 52.5, 20. , 47. , 20. ],\n",
       "       [62. , 46. , 39. , 49. , 49. , 39. , 78. , 27.5, 53. , 39. , 78. ,\n",
       "        54. , 20. , 42. , 64. , 58.5, 67. , 53. , 67. , 46. , 64. , 35. ,\n",
       "        58.5, 55. , 67. , 39. , 46. , 53. , 53. , 67. , 20. ],\n",
       "       [48.5, 21.5, 31. , 30. , 60. , 31. , 30. , 31. , 31. , 48.2, 69. ,\n",
       "        53. , 42. , 42. , 60. , 46. , 67. , 41.5, 63.5, 20. , 48. , 55. ,\n",
       "        46. , 47. , 48.5, 27.5, 21.5, 27.5, 48.5, 55. , 21.5]])"
      ]
     },
     "execution_count": 40,
     "metadata": {},
     "output_type": "execute_result"
    }
   ],
   "source": [
    "# grow each tree deep\n",
    "treereg = DecisionTreeRegressor(max_depth=None, random_state=123)\n",
    "\n",
    "# list for storing predicted compressive strength from each tree\n",
    "predictions = []\n",
    "\n",
    "# define testing data\n",
    "X_test_boot = X_test\n",
    "y_test_boot = y_test\n",
    "\n",
    "# grow one tree for each bootstrap sample and make predictions on testing data\n",
    "for sample in samples:\n",
    "    X_train_boot = X_train.iloc[sample, :]\n",
    "    y_train_boot = y_train.iloc[sample]\n",
    "    treereg.fit(X_train_boot, y_train_boot)\n",
    "    y_pred_boot = treereg.predict(X_test_boot)\n",
    "    predictions.append(y_pred_boot)\n",
    "\n",
    "# convert predictions from list to NumPy array\n",
    "predictions = np.array(predictions)\n",
    "predictions"
   ]
  },
  {
   "cell_type": "code",
   "execution_count": 41,
   "metadata": {},
   "outputs": [
    {
     "data": {
      "text/plain": [
       "array([48.65, 52.2 , 37.87, 49.4 , 53.6 , 43.22, 52.6 , 33.9 , 40.02,\n",
       "       40.77, 66.55, 53.35, 22.2 , 41.69, 52.35, 58.5 , 61.65, 43.97,\n",
       "       54.95, 49.85, 52.2 , 51.25, 58.5 , 56.75, 52.05, 44.92, 45.45,\n",
       "       36.52, 44.06, 58.5 , 24.35])"
      ]
     },
     "execution_count": 41,
     "metadata": {},
     "output_type": "execute_result"
    }
   ],
   "source": [
    "# average the predictions\n",
    "np.mean(predictions, axis=0)"
   ]
  },
  {
   "cell_type": "code",
   "execution_count": 42,
   "metadata": {},
   "outputs": [
    {
     "name": "stdout",
     "output_type": "stream",
     "text": [
      "Bagged RMSE: 15.280480907818102\n",
      "Single Tree RMSE: 13.871030382454208\n"
     ]
    }
   ],
   "source": [
    "# calculate RMSE for bagged regression trees\n",
    "y_pred_boot = np.mean(predictions, axis=0)\n",
    "print(\"Bagged RMSE:\",np.sqrt(mean_squared_error(y_test_boot, y_pred_boot)))\n",
    "\n",
    "#calculate RMSE for single decision tree with same exact parameters as each tree in the bag\n",
    "single_tree = DecisionTreeRegressor(max_depth=None, random_state=123)\n",
    "single_tree.fit(X_train,y_train)\n",
    "y_pred_single = single_tree.predict(X_test)\n",
    "print(\"Single Tree RMSE:\",np.sqrt(mean_squared_error(y_test_boot, y_pred_single)))"
   ]
  },
  {
   "cell_type": "markdown",
   "metadata": {},
   "source": [
    "Pretty cool, huh?\n",
    "\n",
    "Now let's implement this with much less code using scikit-learn (and lets make 500 trees, instead of 10):"
   ]
  },
  {
   "cell_type": "code",
   "execution_count": 43,
   "metadata": {},
   "outputs": [
    {
     "data": {
      "text/plain": [
       "array([54.927 , 51.135 , 38.1698, 51.22  , 55.056 , 40.8102, 49.419 ,\n",
       "       40.095 , 38.6674, 44.4902, 67.488 , 46.595 , 23.8294, 42.2078,\n",
       "       54.486 , 64.797 , 58.58  , 42.3912, 51.383 , 51.487 , 55.886 ,\n",
       "       49.079 , 64.725 , 55.209 , 53.907 , 43.2242, 49.019 , 39.268 ,\n",
       "       34.8514, 57.554 , 21.976 ])"
      ]
     },
     "execution_count": 43,
     "metadata": {},
     "output_type": "execute_result"
    }
   ],
   "source": [
    "bagreg = BaggingRegressor(DecisionTreeRegressor(), n_estimators=500, bootstrap=True, oob_score=True, random_state=1234)\n",
    "# fit and predict\n",
    "bagreg.fit(X_train, y_train)\n",
    "y_pred_bag = bagreg.predict(X_test)\n",
    "y_pred_bag"
   ]
  },
  {
   "cell_type": "code",
   "execution_count": 44,
   "metadata": {},
   "outputs": [
    {
     "name": "stdout",
     "output_type": "stream",
     "text": [
      "Bagged RMSE with 500 trees: 14.893432653267658\n"
     ]
    }
   ],
   "source": [
    "# calculate RMSE\n",
    "print(\"Bagged RMSE with 500 trees:\",np.sqrt(mean_squared_error(y_test, y_pred_bag)))"
   ]
  },
  {
   "cell_type": "markdown",
   "metadata": {},
   "source": [
    "### Estimating out-of-sample error (no cross-validation needed!)\n",
    "\n",
    "For bagged models, out-of-sample error can be estimated without using **train/test split** or **cross-validation**!\n",
    "\n",
    "On average, each bagged tree uses about **two-thirds** of the observations. For each tree, the **remaining observations** are called \"out-of-bag\" observations."
   ]
  },
  {
   "cell_type": "code",
   "execution_count": 45,
   "metadata": {},
   "outputs": [
    {
     "data": {
      "text/plain": [
       "array([47, 38, 53, 24, 15, 49, 23, 26, 30, 43, 30, 26, 58, 69, 47, 50, 37,\n",
       "       34, 38, 67, 11,  0,  3,  2, 19, 12, 65, 14, 71, 60, 46, 28, 13, 12,\n",
       "       69, 31, 45, 16, 41, 56, 70, 56, 44, 47, 49, 18, 46, 37, 38,  7, 67,\n",
       "        5, 47, 47, 15, 34, 10, 28,  4, 55, 23, 50, 62, 55,  0, 33, 21, 71,\n",
       "       68, 52, 64, 41])"
      ]
     },
     "execution_count": 45,
     "metadata": {},
     "output_type": "execute_result"
    }
   ],
   "source": [
    "# show the first bootstrap sample\n",
    "samples[0]"
   ]
  },
  {
   "cell_type": "code",
   "execution_count": 46,
   "metadata": {},
   "outputs": [
    {
     "name": "stdout",
     "output_type": "stream",
     "text": [
      "{0, 2, 3, 4, 5, 7, 10, 11, 12, 13, 14, 15, 16, 18, 19, 21, 23, 24, 26, 28, 30, 31, 33, 34, 37, 38, 41, 43, 44, 45, 46, 47, 49, 50, 52, 53, 55, 56, 58, 60, 62, 64, 65, 67, 68, 69, 70, 71}\n",
      "{1, 2, 3, 8, 11, 12, 14, 15, 16, 17, 18, 19, 20, 21, 22, 24, 25, 26, 27, 28, 30, 33, 35, 36, 37, 38, 39, 41, 42, 44, 45, 46, 47, 49, 54, 55, 56, 57, 59, 61, 62, 64, 67, 68, 69}\n",
      "{1, 2, 3, 4, 5, 8, 9, 11, 13, 14, 16, 17, 19, 20, 23, 24, 26, 27, 29, 31, 32, 33, 34, 35, 41, 42, 43, 44, 46, 47, 48, 49, 50, 51, 52, 53, 55, 56, 57, 58, 60, 61, 63, 65, 68, 69, 71}\n",
      "{0, 2, 4, 5, 6, 12, 15, 16, 17, 18, 19, 20, 25, 26, 30, 33, 34, 35, 36, 37, 38, 39, 40, 42, 45, 46, 47, 48, 49, 50, 51, 52, 54, 55, 57, 58, 60, 63, 67, 69, 70}\n",
      "{0, 1, 2, 3, 5, 6, 10, 12, 13, 15, 17, 18, 19, 21, 22, 23, 24, 25, 26, 30, 34, 35, 36, 37, 40, 41, 42, 43, 44, 45, 46, 48, 50, 51, 53, 54, 55, 56, 58, 60, 63, 65, 67, 70}\n",
      "{3, 4, 5, 7, 8, 12, 13, 14, 15, 16, 17, 18, 19, 20, 21, 23, 24, 26, 27, 28, 30, 31, 33, 34, 40, 41, 43, 45, 46, 47, 48, 49, 50, 51, 52, 53, 55, 56, 57, 58, 59, 61, 64, 65, 67, 68, 70, 71}\n",
      "{1, 5, 6, 7, 8, 9, 11, 13, 14, 16, 17, 20, 21, 22, 23, 25, 28, 32, 33, 35, 36, 37, 39, 40, 43, 44, 45, 46, 48, 49, 50, 51, 52, 53, 54, 56, 57, 58, 59, 62, 63, 64, 66, 67, 68, 70}\n",
      "{2, 5, 7, 8, 10, 11, 12, 13, 14, 17, 18, 19, 20, 22, 24, 25, 26, 29, 30, 35, 37, 39, 42, 43, 44, 45, 47, 48, 49, 50, 51, 52, 53, 54, 57, 58, 59, 61, 62, 64, 66, 67, 69, 70, 71}\n",
      "{0, 1, 3, 5, 6, 7, 8, 9, 10, 11, 12, 15, 16, 18, 20, 21, 22, 23, 24, 25, 26, 29, 30, 31, 32, 35, 37, 39, 41, 42, 43, 44, 45, 46, 47, 48, 49, 51, 53, 56, 57, 58, 59, 61, 62, 63, 65, 66, 67, 69}\n",
      "{1, 2, 3, 5, 6, 7, 8, 9, 13, 15, 16, 17, 19, 20, 21, 22, 24, 25, 26, 27, 28, 30, 31, 32, 33, 34, 36, 37, 42, 43, 44, 45, 47, 48, 49, 50, 51, 52, 55, 57, 58, 59, 64, 65, 66, 67, 69, 71}\n"
     ]
    }
   ],
   "source": [
    "# show the \"in-bag\" observations for each sample\n",
    "for sample in samples:\n",
    "    print(set(sample))"
   ]
  },
  {
   "cell_type": "code",
   "execution_count": 47,
   "metadata": {},
   "outputs": [
    {
     "name": "stdout",
     "output_type": "stream",
     "text": [
      "Samples not in bootstrapped set: [1, 6, 8, 9, 17, 20, 22, 25, 27, 29, 32, 35, 36, 39, 40, 42, 48, 51, 54, 57, 59]\n",
      "Samples not in bootstrapped set: [0, 4, 5, 6, 7, 9, 10, 13, 23, 29, 31, 32, 34, 40, 43, 48, 50, 51, 52, 53, 58, 60]\n",
      "Samples not in bootstrapped set: [0, 6, 7, 10, 12, 15, 18, 21, 22, 25, 28, 30, 36, 37, 38, 39, 40, 45, 54, 59]\n",
      "Samples not in bootstrapped set: [1, 3, 7, 8, 9, 10, 11, 13, 14, 21, 22, 23, 24, 27, 28, 29, 31, 32, 41, 43, 44, 53, 56, 59]\n",
      "Samples not in bootstrapped set: [4, 7, 8, 9, 11, 14, 16, 20, 27, 28, 29, 31, 32, 33, 38, 39, 47, 49, 52, 57, 59]\n",
      "Samples not in bootstrapped set: [0, 1, 2, 6, 9, 10, 11, 22, 25, 29, 32, 35, 36, 37, 38, 39, 42, 44, 54, 60]\n",
      "Samples not in bootstrapped set: [0, 2, 3, 4, 10, 12, 15, 18, 19, 24, 26, 27, 29, 30, 31, 34, 38, 41, 42, 47, 55, 60]\n",
      "Samples not in bootstrapped set: [0, 1, 3, 4, 6, 9, 15, 16, 21, 23, 27, 28, 31, 32, 33, 34, 36, 38, 40, 41, 46, 55, 56, 60]\n",
      "Samples not in bootstrapped set: [2, 4, 13, 14, 17, 19, 27, 28, 33, 34, 36, 38, 40, 50, 52, 54, 55, 60]\n",
      "Samples not in bootstrapped set: [0, 4, 10, 11, 12, 14, 18, 23, 29, 35, 38, 39, 40, 41, 46, 53, 54, 56, 60]\n"
     ]
    }
   ],
   "source": [
    "# show the \"out-of-bag\" observations for each sample\n",
    "all_samples = range(61) #the the sampled data was simply the 61 rows of the training dataset \n",
    "for sample in samples:\n",
    "    sample_difference = set(all_samples) - set(sample) #need to cast both samples into a set, take their set difference\n",
    "    print(\"Samples not in bootstrapped set:\",sorted(sample_difference))"
   ]
  },
  {
   "cell_type": "markdown",
   "metadata": {},
   "source": [
    "Here's how to calculate **\"out-of-bag error\":**\n",
    "  1. For every observation in the training data, predict its response value using **only** the trees in which that observation was out-of-bag. Average those predictions (for regression) or take a majority vote (for classification).\n",
    "  2. Compare all predictions to the actual response values in order to compute the out-of-bag error.\n",
    "\n",
    "When *b* is sufficiently large, the **out-of-bag error** is an accurate estimate of **out-of-sample error**."
   ]
  },
  {
   "cell_type": "code",
   "execution_count": 48,
   "metadata": {},
   "outputs": [
    {
     "data": {
      "text/plain": [
       "0.3424530844776572"
      ]
     },
     "execution_count": 48,
     "metadata": {},
     "output_type": "execute_result"
    }
   ],
   "source": [
    "# compute the out-of-bag R-squared score (not MSE, unfortunately!) for b=500\n",
    "bagreg.oob_score_"
   ]
  },
  {
   "cell_type": "markdown",
   "metadata": {},
   "source": [
    "### Estimating feature importance across many trees\n",
    "\n",
    "Bagging increases **predictive accuracy**, but decreases **model interpretability** because it's no longer possible to visualize the tree to understand the importance of each feature.\n",
    "\n",
    "However, we can still obtain an overall summary of **feature importance** from bagged models:\n",
    "  * **Bagged regression trees:** calculate the total amount that **MSE** is decreased due to splits over a given feature, average over all trees\n",
    "  - **Bagged classification trees:** calculate the total amount that **Gini index** is decreased due to splits over a given feature, average over all trees"
   ]
  },
  {
   "cell_type": "markdown",
   "metadata": {},
   "source": [
    "### Random Forests are even better than Bagged Trees\n",
    "\n",
    "Random Forests are a **slight variation of bagged trees** that have even better performance:\n",
    "  - Just like bagging, we create an ensemble of decision trees using bootstrapped samples of the training set.\n",
    "  - However, when building each tree, each time a split is considered, a **random sample of _m_ features** is chosen as split candidates from the **full set of _p_ features**. The split is only allowed to use **one of those _m_ features**.\n",
    "    - A new random sample of features is chosen for **every single tree at every single split**.\n",
    "    - For **classification**, *m* is typically chosen to be the square root of *p* (the total number of features).\n",
    "    - For **regression**, *m* is typically chosen to be somewhere between *p*/3 and *p*.\n",
    "    \n",
    "Why do all of this fancy stuff?\n",
    "  - Lets suppose there is **one very predictive feature** in the data set. When using bagged trees, most of the trees will use that feature at the top split, resulting in an ensemble of trees that are **highly correlated**.\n",
    "  - Averaging highly correlated quantities does not significantly reduce variance (which is the entire goal of bagging).\n",
    "  - By randomly leaving out candidate features from each split, **Random Forests \"decorrelate\" the trees**, such that the averaging process reduces the variance of the resulting model."
   ]
  },
  {
   "cell_type": "markdown",
   "metadata": {},
   "source": [
    "### Random Forests vs. Bagged Trees vs. Single Tree\n",
    "\n",
    "Let's look back at the cement slump test data and compare the test data performance across the 3 methods we've talked about so far:"
   ]
  },
  {
   "cell_type": "code",
   "execution_count": 49,
   "metadata": {},
   "outputs": [
    {
     "name": "stdout",
     "output_type": "stream",
     "text": [
      "Single Tree RMSE: 5.839359834763745\n",
      "Bag RMSE: 4.395423548152909\n",
      "Random Forest RMSE: 4.466990813103641\n"
     ]
    }
   ],
   "source": [
    "#Our data\n",
    "X_cem = cement_data[feature_names_cem]\n",
    "y_cem = cement_data[target_name]\n",
    "X_train,X_test,y_train,y_test = train_test_split(X_cem,y_cem,test_size=0.4)\n",
    "#Single Tree\n",
    "best_single_tree = DecisionTreeRegressor(max_depth=3, random_state=123)\n",
    "best_single_tree.fit(X_train, y_train)\n",
    "y_pred_single = best_single_tree.predict(X_test)\n",
    "\n",
    "#Bag of 500 trees\n",
    "bagreg = BaggingRegressor(DecisionTreeRegressor(), n_estimators=500, bootstrap=True, oob_score=True, random_state=123)\n",
    "bagreg.fit(X_train, y_train)\n",
    "y_pred_bag = bagreg.predict(X_test)\n",
    "\n",
    "#Random forest of 500 trees\n",
    "rf = RandomForestRegressor(n_estimators=500, bootstrap=True, oob_score=True, random_state=123)\n",
    "rf.fit(X_train, y_train)\n",
    "y_pred_rf = rf.predict(X_test)\n",
    "\n",
    "print(\"Single Tree RMSE:\",np.sqrt(mean_squared_error(y_test,y_pred_single)))\n",
    "print(\"Bag RMSE:\",np.sqrt(mean_squared_error(y_test,y_pred_bag)))\n",
    "print(\"Random Forest RMSE:\",np.sqrt(mean_squared_error(y_test,y_pred_rf)))"
   ]
  },
  {
   "cell_type": "markdown",
   "metadata": {},
   "source": [
    "### Tuning Random Forests: # of trees and maximum features used\n",
    "\n",
    "2 important parameters that should be tuned when creating a random forest model are:\n",
    "  * The number of trees to grow (called **n_estimators** in scikit-learn)\n",
    "  * The number of features that should be considered at each split (called **max_features** in scikit-learn)\n",
    "\n",
    "Lets tune each feature separately below, starting with **n_estimators**:"
   ]
  },
  {
   "cell_type": "code",
   "execution_count": 50,
   "metadata": {
    "collapsed": true
   },
   "outputs": [],
   "source": [
    "# list of values to try for n_estimators\n",
    "estimator_range = range(20, 500, 20)\n",
    "\n",
    "# list to store the average RMSE for each value of n_estimators\n",
    "RMSE_scores = []\n",
    "\n",
    "for estimator in estimator_range:\n",
    "    rfreg = RandomForestRegressor(n_estimators=estimator, bootstrap=True, oob_score=True, random_state=1)\n",
    "    rfreg.fit(X_train,y_train)\n",
    "    preds = rfreg.predict(X_test)\n",
    "    rmse = np.sqrt(mean_squared_error(y_test,preds))\n",
    "    RMSE_scores.append(rmse)"
   ]
  },
  {
   "cell_type": "code",
   "execution_count": 51,
   "metadata": {},
   "outputs": [
    {
     "data": {
      "text/plain": [
       "<matplotlib.text.Text at 0x260268f6f98>"
      ]
     },
     "execution_count": 51,
     "metadata": {},
     "output_type": "execute_result"
    },
    {
     "data": {
      "image/png": "[encoded data removed]",
      "text/plain": [
       "<matplotlib.figure.Figure at 0x26025894390>"
      ]
     },
     "metadata": {},
     "output_type": "display_data"
    }
   ],
   "source": [
    "# plot n_estimators (x-axis) versus RMSE (y-axis)\n",
    "plt.plot(estimator_range, RMSE_scores)\n",
    "plt.xlabel('n_estimators')\n",
    "plt.ylabel('RMSE (lower is better)')"
   ]
  },
  {
   "cell_type": "markdown",
   "metadata": {},
   "source": [
    "**n_estimators** should be a large enough value such that the error seems to be stable.\n",
    "\n",
    "Now lets do the same thing with **max_features**:"
   ]
  },
  {
   "cell_type": "code",
   "execution_count": 52,
   "metadata": {
    "collapsed": true
   },
   "outputs": [],
   "source": [
    "# list of values to try for max_features\n",
    "feature_range = range(1, len(feature_names_cem)+1)\n",
    "\n",
    "# list to store the average RMSE for each value of max_features\n",
    "RMSE_scores = []\n",
    "\n",
    "for feature in feature_range:\n",
    "    rfreg = RandomForestRegressor(n_estimators=220, bootstrap=True, \n",
    "                                  oob_score=True, max_features=feature, random_state=1234)\n",
    "    rfreg.fit(X_train,y_train)\n",
    "    preds = rfreg.predict(X_test)\n",
    "    rmse = np.sqrt(mean_squared_error(y_test,preds))\n",
    "    RMSE_scores.append(rmse)"
   ]
  },
  {
   "cell_type": "code",
   "execution_count": 53,
   "metadata": {},
   "outputs": [
    {
     "data": {
      "text/plain": [
       "<matplotlib.text.Text at 0x260268986d8>"
      ]
     },
     "execution_count": 53,
     "metadata": {},
     "output_type": "execute_result"
    },
    {
     "data": {
      "image/png": "[encoded data removed]",
      "text/plain": [
       "<matplotlib.figure.Figure at 0x26026939cf8>"
      ]
     },
     "metadata": {},
     "output_type": "display_data"
    }
   ],
   "source": [
    "# plot n_estimators (x-axis) versus RMSE (y-axis)\n",
    "plt.plot(feature_range, RMSE_scores)\n",
    "plt.xlabel('max_features')\n",
    "plt.ylabel('RMSE (lower is better)')"
   ]
  },
  {
   "cell_type": "markdown",
   "metadata": {},
   "source": [
    "So it looks like using all of the features is best. Let's build the optimal classifier we can given what we know and see the overall performance on the test set:"
   ]
  },
  {
   "cell_type": "code",
   "execution_count": 54,
   "metadata": {},
   "outputs": [
    {
     "name": "stdout",
     "output_type": "stream",
     "text": [
      "Best RMSE: 4.466990813103641\n"
     ]
    }
   ],
   "source": [
    "rfreg_best = RandomForestRegressor(n_estimators=500, max_features=7, bootstrap=True, oob_score=True, random_state=123)\n",
    "rfreg_best.fit(X_train,y_train)\n",
    "preds = rfreg_best.predict(X_test)\n",
    "rmse = np.sqrt(mean_squared_error(y_test,preds))\n",
    "print(\"Best RMSE:\",rmse)"
   ]
  },
  {
   "cell_type": "markdown",
   "metadata": {},
   "source": [
    "And lets take a look at the feature importances:"
   ]
  },
  {
   "cell_type": "code",
   "execution_count": 55,
   "metadata": {},
   "outputs": [
    {
     "data": {
      "text/html": [
       "<div>\n",
       "<style>\n",
       "    .dataframe thead tr:only-child th {\n",
       "        text-align: right;\n",
       "    }\n",
       "\n",
       "    .dataframe thead th {\n",
       "        text-align: left;\n",
       "    }\n",
       "\n",
       "    .dataframe tbody tr th {\n",
       "        vertical-align: top;\n",
       "    }\n",
       "</style>\n",
       "<table border=\"1\" class=\"dataframe\">\n",
       "  <thead>\n",
       "    <tr style=\"text-align: right;\">\n",
       "      <th></th>\n",
       "      <th>feature</th>\n",
       "      <th>importance</th>\n",
       "    </tr>\n",
       "  </thead>\n",
       "  <tbody>\n",
       "    <tr>\n",
       "      <th>0</th>\n",
       "      <td>cement</td>\n",
       "      <td>0.347856</td>\n",
       "    </tr>\n",
       "    <tr>\n",
       "      <th>2</th>\n",
       "      <td>fly_ash</td>\n",
       "      <td>0.249775</td>\n",
       "    </tr>\n",
       "    <tr>\n",
       "      <th>3</th>\n",
       "      <td>water</td>\n",
       "      <td>0.202397</td>\n",
       "    </tr>\n",
       "    <tr>\n",
       "      <th>6</th>\n",
       "      <td>fine_aggr</td>\n",
       "      <td>0.089076</td>\n",
       "    </tr>\n",
       "    <tr>\n",
       "      <th>1</th>\n",
       "      <td>slag</td>\n",
       "      <td>0.049123</td>\n",
       "    </tr>\n",
       "    <tr>\n",
       "      <th>5</th>\n",
       "      <td>coarse_aggr</td>\n",
       "      <td>0.031942</td>\n",
       "    </tr>\n",
       "    <tr>\n",
       "      <th>4</th>\n",
       "      <td>sp</td>\n",
       "      <td>0.029831</td>\n",
       "    </tr>\n",
       "  </tbody>\n",
       "</table>\n",
       "</div>"
      ],
      "text/plain": [
       "       feature  importance\n",
       "0       cement    0.347856\n",
       "2      fly_ash    0.249775\n",
       "3        water    0.202397\n",
       "6    fine_aggr    0.089076\n",
       "1         slag    0.049123\n",
       "5  coarse_aggr    0.031942\n",
       "4           sp    0.029831"
      ]
     },
     "execution_count": 55,
     "metadata": {},
     "output_type": "execute_result"
    }
   ],
   "source": [
    "# compute feature importances\n",
    "pd.DataFrame({'feature':feature_names_cem, 'importance':rfreg_best.feature_importances_}).sort_values(by='importance',ascending=False)"
   ]
  },
  {
   "cell_type": "markdown",
   "metadata": {},
   "source": [
    "#### Exercise Time\n",
    "  * Build a Random Forest Regression Model to predict Flow using the concrete slump test dataset.\n",
    "    * What is the test-set RMSE?\n",
    "    * What are the feature importances? Are they in a different ranked order than those for the compressive_strength model?\n",
    "  * Build a Random Forest Classification Model on the occupancy data, using the `datatraining.txt` data\n",
    "    * What is the test-set Accuracy when testing on `datatest.txt`? When testing on `datatest2.txt`?\n",
    "    * What are the feature importances?"
   ]
  },
  {
   "cell_type": "code",
   "execution_count": 57,
   "metadata": {},
   "outputs": [
    {
     "name": "stdout",
     "output_type": "stream",
     "text": [
      "test error for slump:  6.589180495082388\n",
      "test error for comp strength:  19.552190321571846\n"
     ]
    }
   ],
   "source": [
    "#get data\n",
    "X_slump = cement_data[cement_data.columns.tolist()[:7]]\n",
    "y_slump = cement_data.slump_cm\n",
    "#y_compstrength = cement_data[cement_data.columns.tolist()[-1]]\n",
    "y_compstrength = cement_data['compressive_strength_bins']\n",
    "#split into train/test\n",
    "X_slump_train,X_slump_test, y_slump_train,y_slump_test = train_test_split(X_slump,y_slump,\\\n",
    "                                                                          test_size=0.3,\\\n",
    "                                                                          random_state=2)\n",
    "X_comp_train,X_comp_test, y_comp_train,y_comp_test = train_test_split(X_slump,y_compstrength,\\\n",
    "                                                                          test_size=0.3,\\\n",
    "                                                                      random_state=2)\n",
    "#generate random forests\n",
    "rf_slump = RandomForestRegressor(n_estimators=100)\n",
    "rf_comp = RandomForestRegressor(n_estimators=100)\n",
    "\n",
    "#train random forests\n",
    "rf_slump.fit(X_slump_train,y_slump_train)\n",
    "rf_comp.fit(X_comp_train,y_comp_train)\n",
    "\n",
    "\n",
    "#get rmse on test set\n",
    "print( \"test error for slump: \",np.sqrt(mean_squared_error(y_slump_test,\\\n",
    "                                                          rf_slump.predict(X_slump_test))))\n",
    "\n",
    "print( \"test error for comp strength: \",np.sqrt(mean_squared_error(y_comp_test,\\\n",
    "                                                       rf_slump.predict(X_comp_test))))"
   ]
  },
  {
   "cell_type": "code",
   "execution_count": 58,
   "metadata": {},
   "outputs": [
    {
     "name": "stdout",
     "output_type": "stream",
     "text": [
      "('cement', 0.05735748947562743)\n",
      "('slag', 0.2341414029928036)\n",
      "('fly_ash', 0.06210639411548922)\n",
      "('water', 0.36946917367551085)\n",
      "('sp', 0.038875493409118785)\n",
      "('coarse_aggr', 0.1432263682479341)\n",
      "('fine_aggr', 0.09482367808351601)\n",
      "\n",
      "('cement', 0.394625987138602)\n",
      "('slag', 0.0778100673973288)\n",
      "('fly_ash', 0.3165632667276351)\n",
      "('water', 0.10884139637695192)\n",
      "('sp', 0.02703909707937072)\n",
      "('coarse_aggr', 0.03002304017695612)\n",
      "('fine_aggr', 0.0450971451031553)\n"
     ]
    }
   ],
   "source": [
    "for importance in zip(X_slump.columns.tolist(),rf_slump.feature_importances_):\n",
    "    print (importance)\n",
    "\n",
    "print ()   \n",
    "\n",
    "for importance in zip(X_slump.columns.tolist(),rf_comp.feature_importances_):\n",
    "    print (importance)\n"
   ]
  },
  {
   "cell_type": "markdown",
   "metadata": {},
   "source": [
    "  * Build a Random Forest Classification Model on the occupancy data, using the `datatraining.txt` data\n",
    "    * What is the test-set Accuracy when testing on `datatest.txt`? When testing on `datatest2.txt`?\n",
    "    * What are the feature importances?"
   ]
  },
  {
   "cell_type": "code",
   "execution_count": 59,
   "metadata": {},
   "outputs": [
    {
     "name": "stdout",
     "output_type": "stream",
     "text": [
      "Test set accuracy:  0.949718574108818\n"
     ]
    }
   ],
   "source": [
    "from sklearn.ensemble import RandomForestClassifier\n",
    "from sklearn.metrics import accuracy_score\n",
    "\n",
    "X_occ_train = occupancy_data_train[occupancy_data_train.columns.tolist()[1:-1]]\n",
    "y_occ_train = occupancy_data_train.occupancy\n",
    "\n",
    "X_occ_test = occupancy_data_test[occupancy_data_test.columns.tolist()[1:-1]]\n",
    "y_occ_test = occupancy_data_test.occupancy\n",
    "\n",
    "rf_occ = RandomForestClassifier(n_estimators = 100)\n",
    "rf_occ.fit(X_occ_train,y_occ_train)\n",
    "\n",
    "print( \"Test set accuracy: \", accuracy_score(y_occ_test,rf_occ.predict(X_occ_test)))"
   ]
  },
  {
   "cell_type": "code",
   "execution_count": 60,
   "metadata": {},
   "outputs": [
    {
     "name": "stdout",
     "output_type": "stream",
     "text": [
      "('temperature', 0.09985909842578296)\n",
      "('humidity', 0.02713568765761417)\n",
      "('light', 0.5554979553698484)\n",
      "('co2', 0.28870773240697767)\n",
      "('humidityratio', 0.028799526139776675)\n"
     ]
    }
   ],
   "source": [
    "for importance in zip(X_occ_train.columns.tolist(),rf_occ.feature_importances_):\n",
    "    print( importance)"
   ]
  },
  {
   "cell_type": "code",
   "execution_count": null,
   "metadata": {
    "collapsed": true
   },
   "outputs": [],
   "source": [
    "new_data = pd.read_csv(\"datatest2.txt\")\n",
    "new_data.head()"
   ]
  },
  {
   "cell_type": "code",
   "execution_count": null,
   "metadata": {
    "collapsed": true
   },
   "outputs": [],
   "source": [
    "#get new data\n",
    "new_samples = new_data[new_data.columns.tolist()[1:-1]]\n",
    "#predict on new data\n",
    "new_predictions = rf_occ.predict(new_samples)\n",
    "#what are my predictions?\n",
    "accuracy_score(new_data[\"Occupancy\"],new_predictions)"
   ]
  },
  {
   "cell_type": "markdown",
   "metadata": {},
   "source": [
    "### Comparing Random Forests with Single Decision Trees\n",
    "\n",
    "**Advantages of Random Forests:**\n",
    "  * Performance is competitive with the best supervised learning methods\n",
    "  - Provides a more reliable estimate of feature importance\n",
    "  - Allows you to estimate out-of-sample error without using train/test split or cross-validation\n",
    "\n",
    "**Disadvantages of Random Forests:**\n",
    "  - Less interpretable\n",
    "  - Slower to train\n",
    "  - Slower to predict"
   ]
  },
  {
   "cell_type": "markdown",
   "metadata": {},
   "source": [
    "### Comparing Ensembles to Individual Models\n",
    "**Advantages of ensembling:**\n",
    "  - Increases predictive accuracy\n",
    "  - Easy to get started (especially with Random Forests)\n",
    "\n",
    "**Disadvantages of ensembling:**\n",
    "  - Decreases interpretability\n",
    "  - Takes longer to train/predict\n",
    "  - More complex to automate and maintain\n",
    "  - Sometimes marginal gains in accuracy may not be worth the added complexity"
   ]
  }
 ],
 "metadata": {
  "kernelspec": {
   "display_name": "Python 3",
   "language": "python",
   "name": "python3"
  },
  "language_info": {
   "codemirror_mode": {
    "name": "ipython",
    "version": 3
   },
   "file_extension": ".py",
   "mimetype": "text/x-python",
   "name": "python",
   "nbconvert_exporter": "python",
   "pygments_lexer": "ipython3",
   "version": "3.6.1"
  }
 },
 "nbformat": 4,
 "nbformat_minor": 1
}
