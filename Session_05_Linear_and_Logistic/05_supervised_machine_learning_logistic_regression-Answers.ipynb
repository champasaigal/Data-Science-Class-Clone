{
 "cells": [
  {
   "cell_type": "markdown",
   "metadata": {
    "slideshow": {
     "slide_type": "slide"
    }
   },
   "source": [
    "## Logistic Regression Agenda\n",
    "\n",
    "  * Attempt to use linear regression for classification\n",
    "  * Logistic regression is a better alternative for classification\n",
    "  * Brief overview of probability, odds, e, log, and log-odds\n",
    "  * What is the logistic regression model?\n",
    "  * Interpreting logistic regression coefficients\n",
    "  * Compare logistic regression with other models\n",
    "  \n",
    "By the end of this portion of the class you will be able to:\n",
    "  * Use logistic regression for a classification problem in the future\n",
    "  * interpret the coefficients of a trained logistic regression model"
   ]
  },
  {
   "cell_type": "markdown",
   "metadata": {
    "slideshow": {
     "slide_type": "slide"
    }
   },
   "source": [
    "### Predicting a categorical response"
   ]
  },
  {
   "cell_type": "markdown",
   "metadata": {
    "slideshow": {
     "slide_type": "slide"
    }
   },
   "source": [
    "In the first part of today's lesson, we were attempting to predict a **continuous response**. However, what we want to do now is see if we can apply the same sort of logic to predict an outcome that has only 2 distinct possibilities, or what is known as a **categorical response.**\n",
    "\n",
    "In machine learning parlance, we looked at **regression** when we were using linear regression, but we are now going to try to use the same approach for what is known as a **classification** problem (problems with only a discrete, finite number of outcomes; in our case, just 2).\n",
    "\n",
    "As always, we are going to import all of the functionality we need before we get started:"
   ]
  },
  {
   "cell_type": "code",
   "execution_count": 1,
   "metadata": {
    "collapsed": true,
    "slideshow": {
     "slide_type": "fragment"
    }
   },
   "outputs": [],
   "source": [
    "#data handling/modeling\n",
    "import pandas as pd\n",
    "import numpy as np\n",
    "from sklearn.linear_model import LinearRegression, LogisticRegression\n",
    "from sklearn.model_selection import train_test_split\n",
    "from sklearn import metrics\n",
    "import scipy.stats as stats\n",
    "\n",
    "# visualization\n",
    "%matplotlib inline\n",
    "import seaborn as sns\n",
    "import matplotlib.pyplot as plt"
   ]
  },
  {
   "cell_type": "markdown",
   "metadata": {},
   "source": [
    "Now we are going to import a slightly different dataset. This dataset is also from the famed [UCI Machine Learning Repository](https://archive.ics.uci.edu/ml/index.html) and can be found [here](https://archive.ics.uci.edu/ml/datasets/Vertebral+Column).\n",
    "\n",
    "This dataset contains 6 biomechanical features used to classify orthopaedic patients into 2 classes - normal and abnormal:\n",
    "  * pelvic incidence\n",
    "  * pelvic tilt\n",
    "  * lumbar lordosis angle\n",
    "  * sacral slope\n",
    "  * pelvic radius\n",
    "  * grade of spondylolisthesis\n",
    "   \n",
    "![Pelvic measurements](nbimages/pelvic_measurements.png)\n",
    "\n",
    "![Grade of spondylolisthesis](nbimages/grades.png)\n",
    "Lets load the data in:"
   ]
  },
  {
   "cell_type": "code",
   "execution_count": 4,
   "metadata": {},
   "outputs": [
    {
     "data": {
      "text/plain": [
       "AB    210\n",
       "NO    100\n",
       "Name: outcome, dtype: int64"
      ]
     },
     "execution_count": 4,
     "metadata": {},
     "output_type": "execute_result"
    }
   ],
   "source": [
    "# read in the data set, located in the same folder as notbook. assign column names\n",
    "vertebral_data = pd.read_csv(\"vertebral_column_2_categories.dat\", sep=\" \",\n",
    "                             names=[\"pelvic_incidence\",\"pelvic_tilt\",\"lumbar_lordosis_angle\"\\\n",
    "                                    ,\"sacral_slope\",\"pelvic_radius\",\"spondy_grade\",\"outcome\"])\n",
    "# count the number of observations for each category of Outcome, which is the target variable\n",
    "vertebral_data.outcome.value_counts()"
   ]
  },
  {
   "cell_type": "markdown",
   "metadata": {},
   "source": [
    "In order to use linear regression for this task, we have to convert our **categorical** target into a number:"
   ]
  },
  {
   "cell_type": "code",
   "execution_count": 6,
   "metadata": {},
   "outputs": [
    {
     "data": {
      "text/plain": [
       "1    210\n",
       "0    100\n",
       "Name: outcome_number, dtype: int64"
      ]
     },
     "execution_count": 6,
     "metadata": {},
     "output_type": "execute_result"
    }
   ],
   "source": [
    "# Convert to integer\n",
    "vertebral_data[\"outcome_number\"] = (vertebral_data.outcome=='AB').astype(int)\n",
    "# return and confirm that 1 is abnormal, 0 is normal\n",
    "vertebral_data.outcome_number.value_counts()"
   ]
  },
  {
   "cell_type": "markdown",
   "metadata": {},
   "source": [
    "Cool, so now our outcome is no longer a value, but a number. Let's plot `pelvic_incidence` relative to this new numeric `outcome_number`:"
   ]
  },
  {
   "cell_type": "code",
   "execution_count": 7,
   "metadata": {},
   "outputs": [
    {
     "data": {
      "text/plain": [
       "<seaborn.axisgrid.PairGrid at 0x23d79950e80>"
      ]
     },
     "execution_count": 7,
     "metadata": {},
     "output_type": "execute_result"
    },
    {
     "data": {
      "image/png": "[encoded data removed]",
      "text/plain": [
       "<matplotlib.figure.Figure at 0x23d797b0668>"
      ]
     },
     "metadata": {},
     "output_type": "display_data"
    }
   ],
   "source": [
    "# visualize categorical data for one predictor\n",
    "sns.pairplot(vertebral_data,x_vars=[\"pelvic_incidence\"],y_vars=\"outcome_number\", size=6, aspect=0.8)"
   ]
  },
  {
   "cell_type": "markdown",
   "metadata": {
    "slideshow": {
     "slide_type": "subslide"
    }
   },
   "source": [
    "And now lets do a simple linear regression on that feature like we did before:"
   ]
  },
  {
   "cell_type": "code",
   "execution_count": 8,
   "metadata": {
    "slideshow": {
     "slide_type": "fragment"
    }
   },
   "outputs": [],
   "source": [
    "# fit a linear regression model and store the predictions\n",
    "feature_cols = ['pelvic_incidence']\n",
    "X = vertebral_data[feature_cols]\n",
    "y = vertebral_data.outcome_number\n",
    "# Instantiate and fit the Linear regression object\n",
    "linreg = LinearRegression()\n",
    "linreg.fit(X, y)\n",
    "# predict outcomes\n",
    "outcome_pred = linreg.predict(X)"
   ]
  },
  {
   "cell_type": "code",
   "execution_count": 9,
   "metadata": {
    "slideshow": {
     "slide_type": "subslide"
    }
   },
   "outputs": [
    {
     "data": {
      "text/plain": [
       "[<matplotlib.lines.Line2D at 0x23d799d1668>]"
      ]
     },
     "execution_count": 9,
     "metadata": {},
     "output_type": "execute_result"
    },
    {
     "data": {
      "image/png": "[encoded data removed]",
      "text/plain": [
       "<matplotlib.figure.Figure at 0x23d799d1390>"
      ]
     },
     "metadata": {},
     "output_type": "display_data"
    }
   ],
   "source": [
    "# scatter plot that includes the regression line\n",
    "plt.scatter(vertebral_data.pelvic_incidence, vertebral_data.outcome_number)\n",
    "plt.plot(vertebral_data.pelvic_incidence, outcome_pred, color='red')"
   ]
  },
  {
   "cell_type": "markdown",
   "metadata": {
    "slideshow": {
     "slide_type": "fragment"
    }
   },
   "source": [
    "Lets examine the predictions:"
   ]
  },
  {
   "cell_type": "code",
   "execution_count": 11,
   "metadata": {},
   "outputs": [
    {
     "data": {
      "text/plain": [
       "array([ 0.70173614,  0.47167114,  0.75740477,  0.76191585,  0.57389026,\n",
       "        0.4830928 ,  0.60959496,  0.53223477,  0.51706986,  0.44892378])"
      ]
     },
     "execution_count": 11,
     "metadata": {},
     "output_type": "execute_result"
    }
   ],
   "source": [
    "outcome_pred[:10]"
   ]
  },
  {
   "cell_type": "markdown",
   "metadata": {},
   "source": [
    "Looking at the scatter plot above, if **pelvic_incidence=35**, what class do we predict for the outcome?     **0**\n",
    "\n",
    "So, we predict the 0 class for **lower** values of `pelvic_incidence`, and the 1 class for **higher** values of `pelvic_incidence`. What's our cutoff value? Around **pelvic_incidence equals about 45 or 50**, because that's where the linear regression line crosses the midpoint (0.5) between predicting class 0 and class 1.\n",
    "\n",
    "So, we'll say that if **outcome_pred >= 0.5**, we predict a class of **1**, else we predict a class of **0**."
   ]
  },
  {
   "cell_type": "code",
   "execution_count": 11,
   "metadata": {
    "scrolled": true
   },
   "outputs": [
    {
     "data": {
      "text/plain": [
       "array([0.70173614, 0.47167114, 0.75740477, 0.76191585, 0.57389026,\n",
       "       0.4830928 , 0.60959496, 0.53223477, 0.51706986, 0.44892378,\n",
       "       0.57389026, 0.39651849, 0.56630781, 0.61093869, 0.64673938,\n",
       "       0.52215682, 0.70941457, 0.39699839, 0.46821584, 0.4972979 ,\n",
       "       0.51831761, 0.62389604, 0.70212006, 0.53386643, 0.44354888,\n",
       "       0.61621761, 0.34776045, 0.51505427, 0.52436437, 0.73868859,\n",
       "       0.58454408, 0.54202477, 0.52810761, 0.46783192, 0.66881487,\n",
       "       0.398918  , 0.4047728 , 0.43942172, 0.63272624, 0.59990094,\n",
       "       0.43740613, 0.54250467, 0.61362614, 0.73302575, 0.63454987,\n",
       "       0.5854079 , 0.56064496, 0.49365065, 0.48606819, 0.49768182,\n",
       "       0.62744732, 0.81115379, 0.57868928, 0.3861526 , 0.491923  ,\n",
       "       0.55421428, 0.51284673, 0.54653584, 0.51140702, 0.55853339,\n",
       "       0.81067389, 0.9575239 , 0.52417241, 0.8424434 , 0.82766242,\n",
       "       0.90233517, 0.85012183, 0.8228634 , 0.7885984 , 0.65921683,\n",
       "       0.79320546, 0.93084135, 0.91231713, 0.62955889, 0.78994213,\n",
       "       0.77074605, 0.92940164, 0.66094447, 0.74377556, 0.55498212,\n",
       "       0.83687654, 0.80712262, 0.94734997, 0.87517272, 0.82939007,\n",
       "       0.53290663, 0.67063849, 0.52781967, 0.64011673, 0.78005615,\n",
       "       0.88054762, 0.77775262, 0.91596438, 0.65441781, 1.00061909,\n",
       "       0.64885095, 1.02451821, 0.81393722, 0.84215546, 0.65844898,\n",
       "       0.90866987, 0.86403899, 0.77247369, 0.57456212, 0.83975595,\n",
       "       0.72074026, 0.72074026, 0.84954595, 0.70307987, 0.7552932 ,\n",
       "       0.71008644, 0.91260507, 0.50008133, 0.76633095, 0.87411693,\n",
       "       1.34288518, 0.77324154, 0.92258703, 0.72582722, 0.67985261,\n",
       "       0.6221684 , 0.90185527, 0.86528674, 0.72707497, 0.81393722,\n",
       "       0.55805349, 0.77516114, 0.86874203, 0.96549027, 0.83812428,\n",
       "       0.57734555, 0.76652291, 0.7650832 , 0.88141144, 0.59778937,\n",
       "       0.83697252, 0.94159115, 0.89724821, 0.78831046, 0.91356487,\n",
       "       0.76441134, 0.95579625, 0.9153885 , 0.67870085, 0.673038  ,\n",
       "       0.91874782, 0.91817193, 0.62543173, 0.72793879, 0.85741634,\n",
       "       0.8752687 , 0.55776555, 0.70528742, 0.6466434 , 0.49211496,\n",
       "       0.73792075, 0.85962389, 0.52119702, 0.64424389, 0.71363771,\n",
       "       0.98007929, 0.74233585, 1.2306841 , 1.20937645, 0.61448996,\n",
       "       0.90012762, 0.64376398, 0.79109389, 1.01223272, 0.52148496,\n",
       "       0.71882065, 0.84925801, 0.64069261, 0.58464006, 0.68618732,\n",
       "       0.63963683, 0.7401283 , 0.87248527, 0.8708536 , 0.75634899,\n",
       "       0.46053741, 0.71699703, 0.82084781, 0.77823252, 0.8747888 ,\n",
       "       0.97470439, 0.87498076, 0.67668526, 0.91913174, 0.88774615,\n",
       "       0.516398  , 0.92671419, 0.81153771, 0.77103399, 0.7939733 ,\n",
       "       0.78053605, 0.70883869, 0.66142438, 0.81518497, 0.81950409,\n",
       "       0.7049035 , 0.74473536, 0.82919811, 0.80357134, 0.63944487,\n",
       "       0.86567066, 1.01319252, 0.80789046, 0.93832782, 0.5599731 ,\n",
       "       0.46639221, 0.62389604, 0.52254075, 0.56054898, 0.53540212,\n",
       "       0.39181545, 0.5854079 , 0.46274496, 0.59222251, 0.71402163,\n",
       "       0.52378849, 0.62418398, 0.63522173, 0.76287565, 0.9589636 ,\n",
       "       0.67006261, 0.71066232, 0.68743506, 0.46197712, 0.51371055,\n",
       "       0.72649908, 0.61420202, 0.51063918, 0.48721996, 0.45890574,\n",
       "       0.71037438, 0.69012251, 0.69319389, 0.75903644, 0.63858104,\n",
       "       0.49653006, 0.59135869, 0.47195908, 0.42934378, 0.70173614,\n",
       "       0.55565398, 0.54442428, 0.57504202, 0.55095094, 0.58387222,\n",
       "       0.44383682, 0.48789182, 0.50871957, 0.70903065, 0.79704468,\n",
       "       0.7450233 , 0.62226438, 0.57820937, 0.48405261, 0.70739899,\n",
       "       0.61640957, 0.81643271, 0.50488035, 0.42108947, 0.61986487,\n",
       "       0.55910928, 0.5418328 , 0.60412408, 0.64529967, 0.4532429 ,\n",
       "       0.58924712, 0.50488035, 0.47455055, 0.44114937, 0.51131104,\n",
       "       0.74262379, 0.58943908, 0.72793879, 0.48462849, 0.56515604,\n",
       "       0.57753751, 0.71354173, 0.61199447, 0.56707565, 0.66468771,\n",
       "       0.74751879, 0.68925869, 0.41389094, 0.81249752, 0.52321261,\n",
       "       0.44633231, 0.58703957, 0.43039957, 0.56611584, 0.54058506,\n",
       "       0.54240869, 0.47742996, 0.53425035, 0.73513732, 0.89254517,\n",
       "       0.58320035, 0.95109321, 0.62082467, 0.42675231, 0.52945133,\n",
       "       0.5565178 , 0.61448996, 0.68657124, 0.531083  , 0.42156937])"
      ]
     },
     "execution_count": 11,
     "metadata": {},
     "output_type": "execute_result"
    }
   ],
   "source": [
    "outcome_pred"
   ]
  },
  {
   "cell_type": "code",
   "execution_count": 12,
   "metadata": {
    "slideshow": {
     "slide_type": "fragment"
    }
   },
   "outputs": [
    {
     "data": {
      "text/plain": [
       "array([1, 0, 1, 1, 1, 0, 1, 1, 1, 0, 1, 0, 1, 1, 1, 1, 1, 0, 0, 0, 1, 1,\n",
       "       1, 1, 0, 1, 0, 1, 1, 1, 1, 1, 1, 0, 1, 0, 0, 0, 1, 1, 0, 1, 1, 1,\n",
       "       1, 1, 1, 0, 0, 0, 1, 1, 1, 0, 0, 1, 1, 1, 1, 1, 1, 1, 1, 1, 1, 1,\n",
       "       1, 1, 1, 1, 1, 1, 1, 1, 1, 1, 1, 1, 1, 1, 1, 1, 1, 1, 1, 1, 1, 1,\n",
       "       1, 1, 1, 1, 1, 1, 1, 1, 1, 1, 1, 1, 1, 1, 1, 1, 1, 1, 1, 1, 1, 1,\n",
       "       1, 1, 1, 1, 1, 1, 1, 1, 1, 1, 1, 1, 1, 1, 1, 1, 1, 1, 1, 1, 1, 1,\n",
       "       1, 1, 1, 1, 1, 1, 1, 1, 1, 1, 1, 1, 1, 1, 1, 1, 1, 1, 1, 1, 1, 1,\n",
       "       0, 1, 1, 1, 1, 1, 1, 1, 1, 1, 1, 1, 1, 1, 1, 1, 1, 1, 1, 1, 1, 1,\n",
       "       1, 1, 1, 1, 0, 1, 1, 1, 1, 1, 1, 1, 1, 1, 1, 1, 1, 1, 1, 1, 1, 1,\n",
       "       1, 1, 1, 1, 1, 1, 1, 1, 1, 1, 1, 1, 0, 1, 1, 1, 1, 0, 1, 0, 1, 1,\n",
       "       1, 1, 1, 1, 1, 1, 1, 1, 0, 1, 1, 1, 1, 0, 0, 1, 1, 1, 1, 1, 0, 1,\n",
       "       0, 0, 1, 1, 1, 1, 1, 1, 0, 0, 1, 1, 1, 1, 1, 1, 0, 1, 1, 1, 1, 0,\n",
       "       1, 1, 1, 1, 1, 0, 1, 1, 0, 0, 1, 1, 1, 1, 0, 1, 1, 1, 1, 1, 1, 1,\n",
       "       1, 0, 1, 1, 0, 1, 0, 1, 1, 1, 0, 1, 1, 1, 1, 1, 1, 0, 1, 1, 1, 1,\n",
       "       1, 0])"
      ]
     },
     "execution_count": 12,
     "metadata": {},
     "output_type": "execute_result"
    }
   ],
   "source": [
    "# transform predictions to 1 or 0\n",
    "outcome_pred_class = np.where(outcome_pred >= 0.5, 1, 0)\n",
    "outcome_pred_class"
   ]
  },
  {
   "cell_type": "code",
   "execution_count": 13,
   "metadata": {
    "slideshow": {
     "slide_type": "subslide"
    }
   },
   "outputs": [
    {
     "data": {
      "text/plain": [
       "[<matplotlib.lines.Line2D at 0x23d7bebbda0>]"
      ]
     },
     "execution_count": 13,
     "metadata": {},
     "output_type": "execute_result"
    },
    {
     "data": {
      "image/png": "[encoded data removed]",
      "text/plain": [
       "<matplotlib.figure.Figure at 0x23d79810cf8>"
      ]
     },
     "metadata": {},
     "output_type": "display_data"
    }
   ],
   "source": [
    "# plot the class predictions\n",
    "plt.scatter(vertebral_data.pelvic_incidence, vertebral_data.outcome_number)\n",
    "plt.plot(vertebral_data.pelvic_incidence, outcome_pred_class, color='red')"
   ]
  },
  {
   "cell_type": "markdown",
   "metadata": {
    "slideshow": {
     "slide_type": "subslide"
    }
   },
   "source": [
    "What went wrong? This is a line plot, and it connects points in the order they are found. Let's sort the DataFrame to fix this:"
   ]
  },
  {
   "cell_type": "code",
   "execution_count": 14,
   "metadata": {
    "slideshow": {
     "slide_type": "fragment"
    }
   },
   "outputs": [],
   "source": [
    "# add predicted class to DataFrame\n",
    "vertebral_data['outcome_pred_class'] = outcome_pred_class\n",
    "\n",
    "# sort DataFrame by pelvic_incidence so that the line plot makes sense\n",
    "vertebral_data.sort_values('pelvic_incidence', inplace=True)"
   ]
  },
  {
   "cell_type": "code",
   "execution_count": 15,
   "metadata": {
    "slideshow": {
     "slide_type": "fragment"
    }
   },
   "outputs": [
    {
     "data": {
      "text/plain": [
       "[<matplotlib.lines.Line2D at 0x23d7beb89e8>]"
      ]
     },
     "execution_count": 15,
     "metadata": {},
     "output_type": "execute_result"
    },
    {
     "data": {
      "image/png": "[encoded data removed]",
      "text/plain": [
       "<matplotlib.figure.Figure at 0x23d7bf015c0>"
      ]
     },
     "metadata": {},
     "output_type": "display_data"
    }
   ],
   "source": [
    "# plot the class predictions again\n",
    "plt.scatter(vertebral_data.pelvic_incidence, vertebral_data.outcome_number)\n",
    "plt.plot(vertebral_data.pelvic_incidence, vertebral_data.outcome_pred_class, color='red')"
   ]
  },
  {
   "cell_type": "markdown",
   "metadata": {
    "slideshow": {
     "slide_type": "slide"
    }
   },
   "source": [
    "### Use Logistic Regression Instead of Linear Regression on Categorical Outcome Variables\n",
    "\n",
    "Logistic regression can do exactly what we just did:"
   ]
  },
  {
   "cell_type": "code",
   "execution_count": 26,
   "metadata": {
    "collapsed": true,
    "slideshow": {
     "slide_type": "subslide"
    }
   },
   "outputs": [],
   "source": [
    "from sklearn.linear_model import LogisticRegression\n",
    "\n",
    "# create logistic regression object\n",
    "logreg = LogisticRegression(C=1e9)\n",
    "# create X and y\n",
    "feature_cols = ['pelvic_incidence']\n",
    "X = vertebral_data[feature_cols]\n",
    "y = vertebral_data.outcome_number\n",
    "#fit the model\n",
    "logreg.fit(X, y)\n",
    "# create predictions\n",
    "outcome_pred_class_log = logreg.predict(X)"
   ]
  },
  {
   "cell_type": "code",
   "execution_count": 27,
   "metadata": {
    "slideshow": {
     "slide_type": "fragment"
    }
   },
   "outputs": [
    {
     "data": {
      "text/plain": [
       "array([0, 0, 0, 0, 0, 0, 0, 0, 0, 0, 0, 0, 0, 0, 0, 0, 0, 0, 0, 0, 0, 0,\n",
       "       0, 0, 0, 0, 0, 0, 0, 0, 0, 0, 0, 0, 0, 0, 0, 0, 0, 0, 0, 0, 0, 0,\n",
       "       0, 0, 0, 0, 0, 0, 0, 0, 0, 0, 0, 0, 0, 1, 1, 1, 1, 1, 1, 1, 1, 1,\n",
       "       1, 1, 1, 1, 1, 1, 1, 1, 1, 1, 1, 1, 1, 1, 1, 1, 1, 1, 1, 1, 1, 1,\n",
       "       1, 1, 1, 1, 1, 1, 1, 1, 1, 1, 1, 1, 1, 1, 1, 1, 1, 1, 1, 1, 1, 1,\n",
       "       1, 1, 1, 1, 1, 1, 1, 1, 1, 1, 1, 1, 1, 1, 1, 1, 1, 1, 1, 1, 1, 1,\n",
       "       1, 1, 1, 1, 1, 1, 1, 1, 1, 1, 1, 1, 1, 1, 1, 1, 1, 1, 1, 1, 1, 1,\n",
       "       1, 1, 1, 1, 1, 1, 1, 1, 1, 1, 1, 1, 1, 1, 1, 1, 1, 1, 1, 1, 1, 1,\n",
       "       1, 1, 1, 1, 1, 1, 1, 1, 1, 1, 1, 1, 1, 1, 1, 1, 1, 1, 1, 1, 1, 1,\n",
       "       1, 1, 1, 1, 1, 1, 1, 1, 1, 1, 1, 1, 1, 1, 1, 1, 1, 1, 1, 1, 1, 1,\n",
       "       1, 1, 1, 1, 1, 1, 1, 1, 1, 1, 1, 1, 1, 1, 1, 1, 1, 1, 1, 1, 1, 1,\n",
       "       1, 1, 1, 1, 1, 1, 1, 1, 1, 1, 1, 1, 1, 1, 1, 1, 1, 1, 1, 1, 1, 1,\n",
       "       1, 1, 1, 1, 1, 1, 1, 1, 1, 1, 1, 1, 1, 1, 1, 1, 1, 1, 1, 1, 1, 1,\n",
       "       1, 1, 1, 1, 1, 1, 1, 1, 1, 1, 1, 1, 1, 1, 1, 1, 1, 1, 1, 1, 1, 1,\n",
       "       1, 1])"
      ]
     },
     "execution_count": 27,
     "metadata": {},
     "output_type": "execute_result"
    }
   ],
   "source": [
    "# print the class predictions\n",
    "outcome_pred_class_log"
   ]
  },
  {
   "cell_type": "code",
   "execution_count": 25,
   "metadata": {
    "slideshow": {
     "slide_type": "subslide"
    }
   },
   "outputs": [
    {
     "data": {
      "text/plain": [
       "[<matplotlib.lines.Line2D at 0x23d7c115cf8>]"
      ]
     },
     "execution_count": 25,
     "metadata": {},
     "output_type": "execute_result"
    },
    {
     "data": {
      "image/png": "[encoded data removed]",
      "text/plain": [
       "<matplotlib.figure.Figure at 0x23d7c115f28>"
      ]
     },
     "metadata": {},
     "output_type": "display_data"
    }
   ],
   "source": [
    "# plot the class predictions\n",
    "plt.scatter(vertebral_data.pelvic_incidence, vertebral_data.outcome_number)\n",
    "plt.plot(vertebral_data.pelvic_incidence, outcome_pred_class_log, color='red')"
   ]
  },
  {
   "cell_type": "markdown",
   "metadata": {
    "slideshow": {
     "slide_type": "fragment"
    }
   },
   "source": [
    "What if we wanted the **predicted probabilities** instead of just the **class predictions**, to understand how confident we are in a given prediction?"
   ]
  },
  {
   "cell_type": "code",
   "execution_count": 19,
   "metadata": {
    "slideshow": {
     "slide_type": "subslide"
    }
   },
   "outputs": [
    {
     "data": {
      "text/plain": [
       "array([[0.7223927 , 0.2776073 ],\n",
       "       [0.67727872, 0.32272128],\n",
       "       [0.67030645, 0.32969355],\n",
       "       [0.66445824, 0.33554176],\n",
       "       [0.6638586 , 0.3361414 ],\n",
       "       [0.66145477, 0.33854523],\n",
       "       [0.65407185, 0.34592815],\n",
       "       [0.6424256 , 0.3575744 ],\n",
       "       [0.63311007, 0.36688993],\n",
       "       [0.6324854 , 0.3675146 ],\n",
       "       [0.6257109 , 0.3742891 ],\n",
       "       [0.6223049 , 0.3776951 ],\n",
       "       [0.62091378, 0.37908622],\n",
       "       [0.6116323 , 0.3883677 ],\n",
       "       [0.60894689, 0.39105311],\n",
       "       [0.60663984, 0.39336016],\n",
       "       [0.60342772, 0.39657228],\n",
       "       [0.60304165, 0.39695835],\n",
       "       [0.59969046, 0.40030954],\n",
       "       [0.59620048, 0.40379952],\n",
       "       [0.59036232, 0.40963768],\n",
       "       [0.58266932, 0.41733068],\n",
       "       [0.58044503, 0.41955497],\n",
       "       [0.5784797 , 0.4215203 ],\n",
       "       [0.5774305 , 0.4225695 ],\n",
       "       [0.57243742, 0.42756258],\n",
       "       [0.57046234, 0.42953766],\n",
       "       [0.56993527, 0.43006473],\n",
       "       [0.56518464, 0.43481536],\n",
       "       [0.5647882 , 0.4352118 ],\n",
       "       [0.56121657, 0.43878343],\n",
       "       [0.55724066, 0.44275934],\n",
       "       [0.54940041, 0.45059959],\n",
       "       [0.54806901, 0.45193099],\n",
       "       [0.54726984, 0.45273016],\n",
       "       [0.54527085, 0.45472915],\n",
       "       [0.5436706 , 0.4563294 ],\n",
       "       [0.54273671, 0.45726329],\n",
       "       [0.53712726, 0.46287274],\n",
       "       [0.53685989, 0.46314011],\n",
       "       [0.53472024, 0.46527976],\n",
       "       [0.53070501, 0.46929499],\n",
       "       [0.52963359, 0.47036641],\n",
       "       [0.52909777, 0.47090223],\n",
       "       [0.52574746, 0.47425254],\n",
       "       [0.51904019, 0.48095981],\n",
       "       [0.51904019, 0.48095981],\n",
       "       [0.5136693 , 0.4863307 ],\n",
       "       [0.5109826 , 0.4890174 ],\n",
       "       [0.5100421 , 0.4899579 ],\n",
       "       [0.50990773, 0.49009227],\n",
       "       [0.50789212, 0.49210788],\n",
       "       [0.50668262, 0.49331738],\n",
       "       [0.50480103, 0.49519897],\n",
       "       [0.5029193 , 0.4970807 ],\n",
       "       [0.5019784 , 0.4980216 ],\n",
       "       [0.50023099, 0.49976901],\n",
       "       [0.49619855, 0.50380145],\n",
       "       [0.49579532, 0.50420468],\n",
       "       [0.49485449, 0.50514551],\n",
       "       [0.49431688, 0.50568312],\n",
       "       [0.4933761 , 0.5066239 ],\n",
       "       [0.49256976, 0.50743024],\n",
       "       [0.49203222, 0.50796778],\n",
       "       [0.49176345, 0.50823655],\n",
       "       [0.48692667, 0.51307333],\n",
       "       [0.4865237 , 0.5134763 ],\n",
       "       [0.48464343, 0.51535657],\n",
       "       [0.48236083, 0.51763917],\n",
       "       [0.48075002, 0.51924998],\n",
       "       [0.47981056, 0.52018944],\n",
       "       [0.47846873, 0.52153127],\n",
       "       [0.47793208, 0.52206792],\n",
       "       [0.47632245, 0.52367755],\n",
       "       [0.46908569, 0.53091431],\n",
       "       [0.46734533, 0.53265467],\n",
       "       [0.46707765, 0.53292235],\n",
       "       [0.46654235, 0.53345765],\n",
       "       [0.46640854, 0.53359146],\n",
       "       [0.46373332, 0.53626668],\n",
       "       [0.46079299, 0.53920701],\n",
       "       [0.45465409, 0.54534591],\n",
       "       [0.45012537, 0.54987463],\n",
       "       [0.44906097, 0.55093903],\n",
       "       [0.44812999, 0.55187001],\n",
       "       [0.44693356, 0.55306644],\n",
       "       [0.44520647, 0.55479353],\n",
       "       [0.44480809, 0.55519191],\n",
       "       [0.44414429, 0.55585571],\n",
       "       [0.443348  , 0.556652  ],\n",
       "       [0.44215411, 0.55784589],\n",
       "       [0.44135855, 0.55864145],\n",
       "       [0.44122598, 0.55877402],\n",
       "       [0.43500524, 0.56499476],\n",
       "       [0.43368424, 0.56631576],\n",
       "       [0.43342016, 0.56657984],\n",
       "       [0.43236419, 0.56763581],\n",
       "       [0.42302046, 0.57697954],\n",
       "       [0.42302046, 0.57697954],\n",
       "       [0.42210211, 0.57789789],\n",
       "       [0.42144648, 0.57855352],\n",
       "       [0.41830332, 0.58169668],\n",
       "       [0.41804169, 0.58195831],\n",
       "       [0.41712633, 0.58287367],\n",
       "       [0.41647286, 0.58352714],\n",
       "       [0.41034482, 0.58965518],\n",
       "       [0.40943446, 0.59056554],\n",
       "       [0.40852472, 0.59147528],\n",
       "       [0.40839481, 0.59160519],\n",
       "       [0.40735597, 0.59264403],\n",
       "       [0.40735597, 0.59264403],\n",
       "       [0.40515121, 0.59484879],\n",
       "       [0.4021744 , 0.5978256 ],\n",
       "       [0.40191588, 0.59808412],\n",
       "       [0.39933374, 0.60066626],\n",
       "       [0.39817359, 0.60182641],\n",
       "       [0.39072499, 0.60927501],\n",
       "       [0.38791273, 0.61208727],\n",
       "       [0.38231071, 0.61768929],\n",
       "       [0.37509999, 0.62490001],\n",
       "       [0.37333724, 0.62666276],\n",
       "       [0.37195458, 0.62804542],\n",
       "       [0.36982186, 0.63017814],\n",
       "       [0.36907034, 0.63092966],\n",
       "       [0.36869482, 0.63130518],\n",
       "       [0.36869482, 0.63130518],\n",
       "       [0.36644505, 0.63355495],\n",
       "       [0.36619543, 0.63380457],\n",
       "       [0.3617147 , 0.6382853 ],\n",
       "       [0.36047427, 0.63952573],\n",
       "       [0.3587408 , 0.6412592 ],\n",
       "       [0.35861712, 0.64138288],\n",
       "       [0.35651746, 0.64348254],\n",
       "       [0.35651746, 0.64348254],\n",
       "       [0.3561475 , 0.6438525 ],\n",
       "       [0.35454634, 0.64545366],\n",
       "       [0.35196672, 0.64803328],\n",
       "       [0.34927351, 0.65072649],\n",
       "       [0.34525169, 0.65474831],\n",
       "       [0.34294607, 0.65705393],\n",
       "       [0.34209849, 0.65790151],\n",
       "       [0.33787575, 0.66212425],\n",
       "       [0.33679404, 0.66320596],\n",
       "       [0.33655389, 0.66344611],\n",
       "       [0.33595389, 0.66404611],\n",
       "       [0.33523458, 0.66476542],\n",
       "       [0.33141125, 0.66858875],\n",
       "       [0.33081584, 0.66918416],\n",
       "       [0.32950785, 0.67049215],\n",
       "       [0.32784695, 0.67215305],\n",
       "       [0.32772848, 0.67227152],\n",
       "       [0.32512768, 0.67487232],\n",
       "       [0.31832279, 0.68167721],\n",
       "       [0.31344285, 0.68655715],\n",
       "       [0.31251796, 0.68748204],\n",
       "       [0.31044241, 0.68955759],\n",
       "       [0.30986722, 0.69013278],\n",
       "       [0.30597154, 0.69402846],\n",
       "       [0.30108413, 0.69891587],\n",
       "       [0.29961532, 0.70038468],\n",
       "       [0.29893879, 0.70106121],\n",
       "       [0.29612939, 0.70387061],\n",
       "       [0.29188854, 0.70811146],\n",
       "       [0.2895603 , 0.7104397 ],\n",
       "       [0.28823482, 0.71176518],\n",
       "       [0.2810097 , 0.7189903 ],\n",
       "       [0.28057537, 0.71942463],\n",
       "       [0.27959964, 0.72040036],\n",
       "       [0.2775466 , 0.7224534 ],\n",
       "       [0.27657735, 0.72342265],\n",
       "       [0.27314812, 0.72685188],\n",
       "       [0.26375136, 0.73624864],\n",
       "       [0.26375136, 0.73624864],\n",
       "       [0.26333394, 0.73666606],\n",
       "       [0.26229225, 0.73770775],\n",
       "       [0.26032037, 0.73967963],\n",
       "       [0.25990646, 0.74009354],\n",
       "       [0.25763762, 0.74236238],\n",
       "       [0.25609811, 0.74390189],\n",
       "       [0.2558933 , 0.7441067 ],\n",
       "       [0.25548401, 0.74451599],\n",
       "       [0.25476877, 0.74523123],\n",
       "       [0.25446264, 0.74553736],\n",
       "       [0.25415676, 0.74584324],\n",
       "       [0.25111127, 0.74888873],\n",
       "       [0.25101017, 0.74898983],\n",
       "       [0.25060605, 0.74939395],\n",
       "       [0.24748884, 0.75251116],\n",
       "       [0.24559119, 0.75440881],\n",
       "       [0.2436043 , 0.7563957 ],\n",
       "       [0.2436043 , 0.7563957 ],\n",
       "       [0.23839195, 0.76160805],\n",
       "       [0.23770928, 0.76229072],\n",
       "       [0.23712521, 0.76287479],\n",
       "       [0.23625096, 0.76374904],\n",
       "       [0.23625096, 0.76374904],\n",
       "       [0.23114787, 0.76885213],\n",
       "       [0.22905237, 0.77094763],\n",
       "       [0.22631059, 0.77368941],\n",
       "       [0.22555834, 0.77444166],\n",
       "       [0.22415264, 0.77584736],\n",
       "       [0.22200937, 0.77799063],\n",
       "       [0.22173089, 0.77826911],\n",
       "       [0.22061949, 0.77938051],\n",
       "       [0.21969637, 0.78030363],\n",
       "       [0.21941998, 0.78058002],\n",
       "       [0.21703506, 0.78296494],\n",
       "       [0.2097256 , 0.7902744 ],\n",
       "       [0.20874704, 0.79125296],\n",
       "       [0.20777183, 0.79222817],\n",
       "       [0.20627132, 0.79372868],\n",
       "       [0.20364296, 0.79635704],\n",
       "       [0.2027724 , 0.7972276 ],\n",
       "       [0.20138528, 0.79861472],\n",
       "       [0.20078065, 0.79921935],\n",
       "       [0.19966138, 0.80033862],\n",
       "       [0.1994896 , 0.8005104 ],\n",
       "       [0.1957385 , 0.8042615 ],\n",
       "       [0.1954847 , 0.8045153 ],\n",
       "       [0.19421942, 0.80578058],\n",
       "       [0.19354715, 0.80645285],\n",
       "       [0.19187422, 0.80812578],\n",
       "       [0.18963329, 0.81036671],\n",
       "       [0.18922052, 0.81077948],\n",
       "       [0.18765823, 0.81234177],\n",
       "       [0.18724876, 0.81275124],\n",
       "       [0.18071094, 0.81928906],\n",
       "       [0.18047225, 0.81952775],\n",
       "       [0.17936161, 0.82063839],\n",
       "       [0.17841389, 0.82158611],\n",
       "       [0.1766866 , 0.8233134 ],\n",
       "       [0.17606176, 0.82393824],\n",
       "       [0.17357977, 0.82642023],\n",
       "       [0.16839746, 0.83160254],\n",
       "       [0.16562989, 0.83437011],\n",
       "       [0.16503632, 0.83496368],\n",
       "       [0.1628989 , 0.8371011 ],\n",
       "       [0.16253264, 0.83746736],\n",
       "       [0.16224012, 0.83775988],\n",
       "       [0.16151065, 0.83848935],\n",
       "       [0.16042143, 0.83957857],\n",
       "       [0.16042143, 0.83957857],\n",
       "       [0.15948224, 0.84051776],\n",
       "       [0.15854752, 0.84145248],\n",
       "       [0.1562656 , 0.8437344 ],\n",
       "       [0.15527571, 0.84472429],\n",
       "       [0.15380048, 0.84619952],\n",
       "       [0.15033418, 0.84966582],\n",
       "       [0.14923863, 0.85076137],\n",
       "       [0.14910215, 0.85089785],\n",
       "       [0.14385934, 0.85614066],\n",
       "       [0.14379313, 0.85620687],\n",
       "       [0.14300061, 0.85699939],\n",
       "       [0.14188409, 0.85811591],\n",
       "       [0.14025539, 0.85974461],\n",
       "       [0.140061  , 0.859939  ],\n",
       "       [0.13552598, 0.86447402],\n",
       "       [0.13533711, 0.86466289],\n",
       "       [0.13496004, 0.86503996],\n",
       "       [0.13026024, 0.86973976],\n",
       "       [0.12886561, 0.87113439],\n",
       "       [0.12611453, 0.87388547],\n",
       "       [0.12534621, 0.87465379],\n",
       "       [0.12511061, 0.87488939],\n",
       "       [0.12323945, 0.87676055],\n",
       "       [0.12196703, 0.87803297],\n",
       "       [0.12099156, 0.87900844],\n",
       "       [0.12002282, 0.87997718],\n",
       "       [0.11962587, 0.88037413],\n",
       "       [0.11951267, 0.88048733],\n",
       "       [0.11939956, 0.88060044],\n",
       "       [0.11934304, 0.88065696],\n",
       "       [0.11626985, 0.88373015],\n",
       "       [0.11577356, 0.88422644],\n",
       "       [0.11219008, 0.88780992],\n",
       "       [0.10954018, 0.89045982],\n",
       "       [0.1069967 , 0.8930033 ],\n",
       "       [0.10546524, 0.89453476],\n",
       "       [0.10455567, 0.89544433],\n",
       "       [0.10430425, 0.89569575],\n",
       "       [0.1010352 , 0.8989648 ],\n",
       "       [0.09919455, 0.90080545],\n",
       "       [0.09905051, 0.90094949],\n",
       "       [0.09857173, 0.90142827],\n",
       "       [0.09766772, 0.90233228],\n",
       "       [0.09738379, 0.90261621],\n",
       "       [0.09630218, 0.90369782],\n",
       "       [0.09602179, 0.90397821],\n",
       "       [0.09583527, 0.90416473],\n",
       "       [0.09417112, 0.90582888],\n",
       "       [0.09221736, 0.90778264],\n",
       "       [0.09096479, 0.90903521],\n",
       "       [0.09030009, 0.90969991],\n",
       "       [0.08691372, 0.91308628],\n",
       "       [0.08547388, 0.91452612],\n",
       "       [0.08298565, 0.91701435],\n",
       "       [0.08140382, 0.91859618],\n",
       "       [0.07945535, 0.92054465],\n",
       "       [0.07875036, 0.92124964],\n",
       "       [0.07816723, 0.92183277],\n",
       "       [0.07557302, 0.92442698],\n",
       "       [0.07204509, 0.92795491],\n",
       "       [0.07005789, 0.92994211],\n",
       "       [0.06292254, 0.93707746],\n",
       "       [0.05919385, 0.94080615],\n",
       "       [0.05889513, 0.94110487],\n",
       "       [0.05547545, 0.94452455],\n",
       "       [0.02042636, 0.97957364],\n",
       "       [0.01816987, 0.98183013],\n",
       "       [0.00977418, 0.99022582]])"
      ]
     },
     "execution_count": 19,
     "metadata": {},
     "output_type": "execute_result"
    }
   ],
   "source": [
    "# store the predicted probabilites of both classes\n",
    "outcome_probs = logreg.predict_proba(X)\n",
    "outcome_probs"
   ]
  },
  {
   "cell_type": "code",
   "execution_count": 20,
   "metadata": {
    "scrolled": true
   },
   "outputs": [
    {
     "data": {
      "text/plain": [
       "array([0.2776073 , 0.32272128, 0.32969355, 0.33554176, 0.3361414 ,\n",
       "       0.33854523, 0.34592815, 0.3575744 , 0.36688993, 0.3675146 ,\n",
       "       0.3742891 , 0.3776951 , 0.37908622, 0.3883677 , 0.39105311,\n",
       "       0.39336016, 0.39657228, 0.39695835, 0.40030954, 0.40379952,\n",
       "       0.40963768, 0.41733068, 0.41955497, 0.4215203 , 0.4225695 ,\n",
       "       0.42756258, 0.42953766, 0.43006473, 0.43481536, 0.4352118 ,\n",
       "       0.43878343, 0.44275934, 0.45059959, 0.45193099, 0.45273016,\n",
       "       0.45472915, 0.4563294 , 0.45726329, 0.46287274, 0.46314011,\n",
       "       0.46527976, 0.46929499, 0.47036641, 0.47090223, 0.47425254,\n",
       "       0.48095981, 0.48095981, 0.4863307 , 0.4890174 , 0.4899579 ,\n",
       "       0.49009227, 0.49210788, 0.49331738, 0.49519897, 0.4970807 ,\n",
       "       0.4980216 , 0.49976901, 0.50380145, 0.50420468, 0.50514551,\n",
       "       0.50568312, 0.5066239 , 0.50743024, 0.50796778, 0.50823655,\n",
       "       0.51307333, 0.5134763 , 0.51535657, 0.51763917, 0.51924998,\n",
       "       0.52018944, 0.52153127, 0.52206792, 0.52367755, 0.53091431,\n",
       "       0.53265467, 0.53292235, 0.53345765, 0.53359146, 0.53626668,\n",
       "       0.53920701, 0.54534591, 0.54987463, 0.55093903, 0.55187001,\n",
       "       0.55306644, 0.55479353, 0.55519191, 0.55585571, 0.556652  ,\n",
       "       0.55784589, 0.55864145, 0.55877402, 0.56499476, 0.56631576,\n",
       "       0.56657984, 0.56763581, 0.57697954, 0.57697954, 0.57789789,\n",
       "       0.57855352, 0.58169668, 0.58195831, 0.58287367, 0.58352714,\n",
       "       0.58965518, 0.59056554, 0.59147528, 0.59160519, 0.59264403,\n",
       "       0.59264403, 0.59484879, 0.5978256 , 0.59808412, 0.60066626,\n",
       "       0.60182641, 0.60927501, 0.61208727, 0.61768929, 0.62490001,\n",
       "       0.62666276, 0.62804542, 0.63017814, 0.63092966, 0.63130518,\n",
       "       0.63130518, 0.63355495, 0.63380457, 0.6382853 , 0.63952573,\n",
       "       0.6412592 , 0.64138288, 0.64348254, 0.64348254, 0.6438525 ,\n",
       "       0.64545366, 0.64803328, 0.65072649, 0.65474831, 0.65705393,\n",
       "       0.65790151, 0.66212425, 0.66320596, 0.66344611, 0.66404611,\n",
       "       0.66476542, 0.66858875, 0.66918416, 0.67049215, 0.67215305,\n",
       "       0.67227152, 0.67487232, 0.68167721, 0.68655715, 0.68748204,\n",
       "       0.68955759, 0.69013278, 0.69402846, 0.69891587, 0.70038468,\n",
       "       0.70106121, 0.70387061, 0.70811146, 0.7104397 , 0.71176518,\n",
       "       0.7189903 , 0.71942463, 0.72040036, 0.7224534 , 0.72342265,\n",
       "       0.72685188, 0.73624864, 0.73624864, 0.73666606, 0.73770775,\n",
       "       0.73967963, 0.74009354, 0.74236238, 0.74390189, 0.7441067 ,\n",
       "       0.74451599, 0.74523123, 0.74553736, 0.74584324, 0.74888873,\n",
       "       0.74898983, 0.74939395, 0.75251116, 0.75440881, 0.7563957 ,\n",
       "       0.7563957 , 0.76160805, 0.76229072, 0.76287479, 0.76374904,\n",
       "       0.76374904, 0.76885213, 0.77094763, 0.77368941, 0.77444166,\n",
       "       0.77584736, 0.77799063, 0.77826911, 0.77938051, 0.78030363,\n",
       "       0.78058002, 0.78296494, 0.7902744 , 0.79125296, 0.79222817,\n",
       "       0.79372868, 0.79635704, 0.7972276 , 0.79861472, 0.79921935,\n",
       "       0.80033862, 0.8005104 , 0.8042615 , 0.8045153 , 0.80578058,\n",
       "       0.80645285, 0.80812578, 0.81036671, 0.81077948, 0.81234177,\n",
       "       0.81275124, 0.81928906, 0.81952775, 0.82063839, 0.82158611,\n",
       "       0.8233134 , 0.82393824, 0.82642023, 0.83160254, 0.83437011,\n",
       "       0.83496368, 0.8371011 , 0.83746736, 0.83775988, 0.83848935,\n",
       "       0.83957857, 0.83957857, 0.84051776, 0.84145248, 0.8437344 ,\n",
       "       0.84472429, 0.84619952, 0.84966582, 0.85076137, 0.85089785,\n",
       "       0.85614066, 0.85620687, 0.85699939, 0.85811591, 0.85974461,\n",
       "       0.859939  , 0.86447402, 0.86466289, 0.86503996, 0.86973976,\n",
       "       0.87113439, 0.87388547, 0.87465379, 0.87488939, 0.87676055,\n",
       "       0.87803297, 0.87900844, 0.87997718, 0.88037413, 0.88048733,\n",
       "       0.88060044, 0.88065696, 0.88373015, 0.88422644, 0.88780992,\n",
       "       0.89045982, 0.8930033 , 0.89453476, 0.89544433, 0.89569575,\n",
       "       0.8989648 , 0.90080545, 0.90094949, 0.90142827, 0.90233228,\n",
       "       0.90261621, 0.90369782, 0.90397821, 0.90416473, 0.90582888,\n",
       "       0.90778264, 0.90903521, 0.90969991, 0.91308628, 0.91452612,\n",
       "       0.91701435, 0.91859618, 0.92054465, 0.92124964, 0.92183277,\n",
       "       0.92442698, 0.92795491, 0.92994211, 0.93707746, 0.94080615,\n",
       "       0.94110487, 0.94452455, 0.97957364, 0.98183013, 0.99022582])"
      ]
     },
     "execution_count": 20,
     "metadata": {},
     "output_type": "execute_result"
    }
   ],
   "source": [
    "# store the predicted probabilites of class 1 only\n",
    "outcome_probs = logreg.predict_proba(X)[:, 1]\n",
    "outcome_probs"
   ]
  },
  {
   "cell_type": "code",
   "execution_count": 28,
   "metadata": {
    "slideshow": {
     "slide_type": "fragment"
    }
   },
   "outputs": [
    {
     "data": {
      "text/plain": [
       "[<matplotlib.lines.Line2D at 0x23d7c22ef28>]"
      ]
     },
     "execution_count": 28,
     "metadata": {},
     "output_type": "execute_result"
    },
    {
     "data": {
      "image/png": "[encoded data removed]",
      "text/plain": [
       "<matplotlib.figure.Figure at 0x23d7c1a54e0>"
      ]
     },
     "metadata": {},
     "output_type": "display_data"
    }
   ],
   "source": [
    "# plot the predicted probabilities, and the 50% line\n",
    "plt.scatter(vertebral_data.pelvic_incidence, vertebral_data.outcome_number)\n",
    "plt.plot(vertebral_data.pelvic_incidence, outcome_probs, color='red')\n",
    "plt.plot(vertebral_data.pelvic_incidence,np.ones(outcome_probs.shape)*.5,'k--')"
   ]
  },
  {
   "cell_type": "code",
   "execution_count": 29,
   "metadata": {
    "slideshow": {
     "slide_type": "subslide"
    }
   },
   "outputs": [
    {
     "name": "stdout",
     "output_type": "stream",
     "text": [
      "Pelvic incidence of 15: [[0.82575878 0.17424122]]\n"
     ]
    }
   ],
   "source": [
    "# examine some example predictions\n",
    "print(\"Pelvic incidence of 15:\", logreg.predict_proba(15))"
   ]
  },
  {
   "cell_type": "code",
   "execution_count": 30,
   "metadata": {},
   "outputs": [
    {
     "name": "stdout",
     "output_type": "stream",
     "text": [
      "Pelvic incidence of 25: [[0.73462052 0.26537948]]\n"
     ]
    }
   ],
   "source": [
    "print(\"Pelvic incidence of 25:\", logreg.predict_proba(25))"
   ]
  },
  {
   "cell_type": "code",
   "execution_count": 31,
   "metadata": {},
   "outputs": [
    {
     "name": "stdout",
     "output_type": "stream",
     "text": [
      "Pelvic incidence of 50: [[0.4192194 0.5807806]]\n"
     ]
    }
   ],
   "source": [
    "print(\"Pelvic incidence of 50:\", logreg.predict_proba(50))"
   ]
  },
  {
   "cell_type": "markdown",
   "metadata": {
    "slideshow": {
     "slide_type": "fragment"
    }
   },
   "source": [
    "What are these numbers? \n",
    "\n",
    "The first number in each entry indicates the predicted probability of **class 0**, and the second number in each entry indicates the predicted probability of **class 1**."
   ]
  },
  {
   "cell_type": "markdown",
   "metadata": {
    "slideshow": {
     "slide_type": "slide"
    }
   },
   "source": [
    "### Review: Probability, odds, e, log, log-odds\n",
    "\n",
    "$$probability = \\frac {one\\ outcome} {all\\ outcomes}$$\n",
    "\n",
    "$$odds = \\frac {one\\ outcome} {all\\ other\\ outcomes}$$\n",
    "\n",
    "Examples:\n",
    "\n",
    "- Dice roll of 1: probability = 1/6, odds = 1/5\n",
    "- Even dice roll: probability = 3/6, odds = 3/3 = 1\n",
    "- Dice roll less than 5: probability = 4/6, odds = 4/2 = 2\n",
    "\n",
    "$$odds = \\frac {probability} {1 - probability}$$\n",
    "\n",
    "$$probability = \\frac {odds} {1 + odds}$$"
   ]
  },
  {
   "cell_type": "code",
   "execution_count": 32,
   "metadata": {
    "slideshow": {
     "slide_type": "subslide"
    }
   },
   "outputs": [
    {
     "data": {
      "text/html": [
       "<div>\n",
       "<style>\n",
       "    .dataframe thead tr:only-child th {\n",
       "        text-align: right;\n",
       "    }\n",
       "\n",
       "    .dataframe thead th {\n",
       "        text-align: left;\n",
       "    }\n",
       "\n",
       "    .dataframe tbody tr th {\n",
       "        vertical-align: top;\n",
       "    }\n",
       "</style>\n",
       "<table border=\"1\" class=\"dataframe\">\n",
       "  <thead>\n",
       "    <tr style=\"text-align: right;\">\n",
       "      <th></th>\n",
       "      <th>probability</th>\n",
       "      <th>odds</th>\n",
       "    </tr>\n",
       "  </thead>\n",
       "  <tbody>\n",
       "    <tr>\n",
       "      <th>0</th>\n",
       "      <td>0.100</td>\n",
       "      <td>0.111111</td>\n",
       "    </tr>\n",
       "    <tr>\n",
       "      <th>1</th>\n",
       "      <td>0.200</td>\n",
       "      <td>0.250000</td>\n",
       "    </tr>\n",
       "    <tr>\n",
       "      <th>2</th>\n",
       "      <td>0.250</td>\n",
       "      <td>0.333333</td>\n",
       "    </tr>\n",
       "    <tr>\n",
       "      <th>3</th>\n",
       "      <td>0.300</td>\n",
       "      <td>0.428571</td>\n",
       "    </tr>\n",
       "    <tr>\n",
       "      <th>4</th>\n",
       "      <td>0.400</td>\n",
       "      <td>0.666667</td>\n",
       "    </tr>\n",
       "    <tr>\n",
       "      <th>5</th>\n",
       "      <td>0.500</td>\n",
       "      <td>1.000000</td>\n",
       "    </tr>\n",
       "    <tr>\n",
       "      <th>6</th>\n",
       "      <td>0.600</td>\n",
       "      <td>1.500000</td>\n",
       "    </tr>\n",
       "    <tr>\n",
       "      <th>7</th>\n",
       "      <td>0.700</td>\n",
       "      <td>2.333333</td>\n",
       "    </tr>\n",
       "    <tr>\n",
       "      <th>8</th>\n",
       "      <td>0.800</td>\n",
       "      <td>4.000000</td>\n",
       "    </tr>\n",
       "    <tr>\n",
       "      <th>9</th>\n",
       "      <td>0.900</td>\n",
       "      <td>9.000000</td>\n",
       "    </tr>\n",
       "    <tr>\n",
       "      <th>10</th>\n",
       "      <td>0.990</td>\n",
       "      <td>99.000000</td>\n",
       "    </tr>\n",
       "    <tr>\n",
       "      <th>11</th>\n",
       "      <td>0.999</td>\n",
       "      <td>999.000000</td>\n",
       "    </tr>\n",
       "  </tbody>\n",
       "</table>\n",
       "</div>"
      ],
      "text/plain": [
       "    probability        odds\n",
       "0         0.100    0.111111\n",
       "1         0.200    0.250000\n",
       "2         0.250    0.333333\n",
       "3         0.300    0.428571\n",
       "4         0.400    0.666667\n",
       "5         0.500    1.000000\n",
       "6         0.600    1.500000\n",
       "7         0.700    2.333333\n",
       "8         0.800    4.000000\n",
       "9         0.900    9.000000\n",
       "10        0.990   99.000000\n",
       "11        0.999  999.000000"
      ]
     },
     "execution_count": 32,
     "metadata": {},
     "output_type": "execute_result"
    }
   ],
   "source": [
    "# create a table of probability versus odds\n",
    "prob_table = pd.DataFrame({'probability':[0.1, 0.2, 0.25, 0.3, 0.4, 0.5, 0.6, 0.7, 0.8, 0.9, 0.99, 0.999]})\n",
    "prob_table['odds'] = prob_table.probability/(1 - prob_table.probability)\n",
    "prob_table"
   ]
  },
  {
   "cell_type": "markdown",
   "metadata": {
    "slideshow": {
     "slide_type": "subslide"
    }
   },
   "source": [
    "What is **e**? It is the base rate of growth shared by all continually growing processes:"
   ]
  },
  {
   "cell_type": "code",
   "execution_count": 33,
   "metadata": {
    "slideshow": {
     "slide_type": "fragment"
    }
   },
   "outputs": [
    {
     "data": {
      "text/plain": [
       "2.7182818284590451"
      ]
     },
     "execution_count": 33,
     "metadata": {},
     "output_type": "execute_result"
    }
   ],
   "source": [
    "# exponential function: e^1\n",
    "np.exp(1)"
   ]
  },
  {
   "cell_type": "markdown",
   "metadata": {
    "slideshow": {
     "slide_type": "subslide"
    }
   },
   "source": [
    "What is a **(natural) log**? It gives you the time needed to reach a certain level of growth ([wiki](https://en.wikipedia.org/wiki/Natural_logarithm)):"
   ]
  },
  {
   "cell_type": "code",
   "execution_count": 34,
   "metadata": {
    "slideshow": {
     "slide_type": "fragment"
    }
   },
   "outputs": [
    {
     "data": {
      "text/plain": [
       "1.0"
      ]
     },
     "execution_count": 34,
     "metadata": {},
     "output_type": "execute_result"
    }
   ],
   "source": [
    "# time needed to grow 1 unit to 2.718 units\n",
    "np.log(np.exp(1))"
   ]
  },
  {
   "cell_type": "markdown",
   "metadata": {
    "slideshow": {
     "slide_type": "fragment"
    }
   },
   "source": [
    "It is also the **inverse** of the exponential function ([review your properties of logarithms here](http://www.purplemath.com/modules/logrules.htm)):"
   ]
  },
  {
   "cell_type": "code",
   "execution_count": 35,
   "metadata": {
    "slideshow": {
     "slide_type": "fragment"
    }
   },
   "outputs": [
    {
     "data": {
      "text/plain": [
       "5.0"
      ]
     },
     "execution_count": 35,
     "metadata": {},
     "output_type": "execute_result"
    }
   ],
   "source": [
    "np.log(np.exp(5))"
   ]
  },
  {
   "cell_type": "code",
   "execution_count": 36,
   "metadata": {
    "slideshow": {
     "slide_type": "subslide"
    }
   },
   "outputs": [
    {
     "data": {
      "text/html": [
       "<div>\n",
       "<style>\n",
       "    .dataframe thead tr:only-child th {\n",
       "        text-align: right;\n",
       "    }\n",
       "\n",
       "    .dataframe thead th {\n",
       "        text-align: left;\n",
       "    }\n",
       "\n",
       "    .dataframe tbody tr th {\n",
       "        vertical-align: top;\n",
       "    }\n",
       "</style>\n",
       "<table border=\"1\" class=\"dataframe\">\n",
       "  <thead>\n",
       "    <tr style=\"text-align: right;\">\n",
       "      <th></th>\n",
       "      <th>probability</th>\n",
       "      <th>odds</th>\n",
       "      <th>log_odds</th>\n",
       "    </tr>\n",
       "  </thead>\n",
       "  <tbody>\n",
       "    <tr>\n",
       "      <th>0</th>\n",
       "      <td>0.100</td>\n",
       "      <td>0.111111</td>\n",
       "      <td>-2.197225</td>\n",
       "    </tr>\n",
       "    <tr>\n",
       "      <th>1</th>\n",
       "      <td>0.200</td>\n",
       "      <td>0.250000</td>\n",
       "      <td>-1.386294</td>\n",
       "    </tr>\n",
       "    <tr>\n",
       "      <th>2</th>\n",
       "      <td>0.250</td>\n",
       "      <td>0.333333</td>\n",
       "      <td>-1.098612</td>\n",
       "    </tr>\n",
       "    <tr>\n",
       "      <th>3</th>\n",
       "      <td>0.300</td>\n",
       "      <td>0.428571</td>\n",
       "      <td>-0.847298</td>\n",
       "    </tr>\n",
       "    <tr>\n",
       "      <th>4</th>\n",
       "      <td>0.400</td>\n",
       "      <td>0.666667</td>\n",
       "      <td>-0.405465</td>\n",
       "    </tr>\n",
       "    <tr>\n",
       "      <th>5</th>\n",
       "      <td>0.500</td>\n",
       "      <td>1.000000</td>\n",
       "      <td>0.000000</td>\n",
       "    </tr>\n",
       "    <tr>\n",
       "      <th>6</th>\n",
       "      <td>0.600</td>\n",
       "      <td>1.500000</td>\n",
       "      <td>0.405465</td>\n",
       "    </tr>\n",
       "    <tr>\n",
       "      <th>7</th>\n",
       "      <td>0.700</td>\n",
       "      <td>2.333333</td>\n",
       "      <td>0.847298</td>\n",
       "    </tr>\n",
       "    <tr>\n",
       "      <th>8</th>\n",
       "      <td>0.800</td>\n",
       "      <td>4.000000</td>\n",
       "      <td>1.386294</td>\n",
       "    </tr>\n",
       "    <tr>\n",
       "      <th>9</th>\n",
       "      <td>0.900</td>\n",
       "      <td>9.000000</td>\n",
       "      <td>2.197225</td>\n",
       "    </tr>\n",
       "    <tr>\n",
       "      <th>10</th>\n",
       "      <td>0.990</td>\n",
       "      <td>99.000000</td>\n",
       "      <td>4.595120</td>\n",
       "    </tr>\n",
       "    <tr>\n",
       "      <th>11</th>\n",
       "      <td>0.999</td>\n",
       "      <td>999.000000</td>\n",
       "      <td>6.906755</td>\n",
       "    </tr>\n",
       "  </tbody>\n",
       "</table>\n",
       "</div>"
      ],
      "text/plain": [
       "    probability        odds  log_odds\n",
       "0         0.100    0.111111 -2.197225\n",
       "1         0.200    0.250000 -1.386294\n",
       "2         0.250    0.333333 -1.098612\n",
       "3         0.300    0.428571 -0.847298\n",
       "4         0.400    0.666667 -0.405465\n",
       "5         0.500    1.000000  0.000000\n",
       "6         0.600    1.500000  0.405465\n",
       "7         0.700    2.333333  0.847298\n",
       "8         0.800    4.000000  1.386294\n",
       "9         0.900    9.000000  2.197225\n",
       "10        0.990   99.000000  4.595120\n",
       "11        0.999  999.000000  6.906755"
      ]
     },
     "execution_count": 36,
     "metadata": {},
     "output_type": "execute_result"
    }
   ],
   "source": [
    "# add log-odds to the table\n",
    "prob_table['log_odds'] = np.log(prob_table.odds)\n",
    "prob_table"
   ]
  },
  {
   "cell_type": "markdown",
   "metadata": {
    "slideshow": {
     "slide_type": "slide"
    }
   },
   "source": [
    "### Ok, but what is logistic regression?"
   ]
  },
  {
   "cell_type": "markdown",
   "metadata": {
    "slideshow": {
     "slide_type": "subslide"
    }
   },
   "source": [
    "[**Linear regression:**](https://en.wikipedia.org/wiki/Linear_regression) continuous response is modeled as a linear combination of the features used :\n",
    "\n",
    "$$y = \\beta_0 + \\beta_1x + ... \\beta_nx$$\n",
    "\n",
    "[**Logistic regression:**](https://en.wikipedia.org/wiki/Logistic_regression) log-odds of a categorical response being \"true\" (or the number 1) is modeled as a linear combination of the features. This is called the [**logit function**](https://en.wikipedia.org/wiki/Logit):\n",
    "\n",
    "$$\\log \\left({p\\over 1-p}\\right) = \\beta_0 + \\beta_1x + ... \\beta_nx$$\n",
    "\n",
    "The equation can be rearranged into the [**logistic function**](https://en.wikipedia.org/wiki/Logistic_function):\n",
    "\n",
    "$$p = \\frac{e^{\\beta_0 + \\beta_1x + ... + \\beta_nx}} {1 + e^{\\beta_0 + \\beta_1x + ... + \\beta_nx}}$$\n",
    "\n",
    "Here's what that looks like:\n",
    "\n",
    "![logistic curve](images/logistic_curve.png)"
   ]
  },
  {
   "cell_type": "markdown",
   "metadata": {
    "slideshow": {
     "slide_type": "subslide"
    }
   },
   "source": [
    "In other words:\n",
    "\n",
    "- Logistic regression outputs the **probabilities of a specific class**\n",
    "- Those probabilities can be converted into **class predictions**:\n",
    "\n",
    "$f(x)= \n",
    "\\begin{cases}\n",
    "    1,& \\text{if } p\\geq 0.5\\\\\n",
    "    0,              & \\text{otherwise}\n",
    "\\end{cases}$\n",
    "\n",
    "The **logistic function** has some nice properties:\n",
    "\n",
    "- Takes on an \"s\" shape (which allows it to be differentiable, a really important math property for functions to have)\n",
    "- Output is bounded by 0 and 1\n",
    "\n",
    "Some things to note:\n",
    "\n",
    "- **Multinomial logistic regression** is used when there are more than 2 classes.\n",
    "- Coefficients are estimated using **maximum likelihood estimation**, meaning that we choose parameters that maximize the likelihood of the observed data. We do this using fancy math involving taking derivatives, and thats why that S-shaped curve is so important."
   ]
  },
  {
   "cell_type": "markdown",
   "metadata": {
    "slideshow": {
     "slide_type": "slide"
    }
   },
   "source": [
    "### Interpreting Logistic Regression Coefficients"
   ]
  },
  {
   "cell_type": "code",
   "execution_count": 37,
   "metadata": {
    "slideshow": {
     "slide_type": "subslide"
    }
   },
   "outputs": [
    {
     "data": {
      "text/plain": [
       "[<matplotlib.lines.Line2D at 0x10a608278>]"
      ]
     },
     "execution_count": 37,
     "metadata": {},
     "output_type": "execute_result"
    },
    {
     "data": {
      "image/png": "[encoded data removed]",
      "text/plain": [
       "<matplotlib.figure.Figure at 0x10a6080f0>"
      ]
     },
     "metadata": {},
     "output_type": "display_data"
    }
   ],
   "source": [
    "# plot the predicted probabilities again\n",
    "plt.scatter(vertebral_data.pelvic_incidence, vertebral_data.outcome_number)\n",
    "plt.plot(vertebral_data.pelvic_incidence, outcome_probs, color='red')"
   ]
  },
  {
   "cell_type": "code",
   "execution_count": 32,
   "metadata": {
    "slideshow": {
     "slide_type": "subslide"
    }
   },
   "outputs": [
    {
     "name": "stdout",
     "output_type": "stream",
     "text": [
      "Log odds: [0.59481302]\n"
     ]
    }
   ],
   "source": [
    "# compute predicted log-odds for pelvic_incidence=55 using the equation\n",
    "logodds = logreg.intercept_ + logreg.coef_[0] * 55\n",
    "print(\"Log odds:\",logodds)"
   ]
  },
  {
   "cell_type": "code",
   "execution_count": 33,
   "metadata": {
    "slideshow": {
     "slide_type": "fragment"
    }
   },
   "outputs": [
    {
     "name": "stdout",
     "output_type": "stream",
     "text": [
      "odds: [1.81269197]\n"
     ]
    }
   ],
   "source": [
    "# convert log-odds to odds\n",
    "odds = np.exp(logodds)\n",
    "print(\"odds:\",odds)"
   ]
  },
  {
   "cell_type": "code",
   "execution_count": 35,
   "metadata": {
    "slideshow": {
     "slide_type": "fragment"
    }
   },
   "outputs": [
    {
     "name": "stdout",
     "output_type": "stream",
     "text": [
      "probability: [0.64446871]\n"
     ]
    }
   ],
   "source": [
    "# convert odds to probability, this is the number you would see in the plot above where x= 55\n",
    "prob = odds/(1 + odds)\n",
    "print(\"probability:\",prob)"
   ]
  },
  {
   "cell_type": "code",
   "execution_count": 41,
   "metadata": {
    "slideshow": {
     "slide_type": "fragment"
    }
   },
   "outputs": [
    {
     "data": {
      "text/plain": [
       "array([ 0.64446871])"
      ]
     },
     "execution_count": 41,
     "metadata": {},
     "output_type": "execute_result"
    }
   ],
   "source": [
    "# compute predicted probability for al=2 using the predict_proba method\n",
    "logreg.predict_proba(55)[:, 1]"
   ]
  },
  {
   "cell_type": "code",
   "execution_count": 36,
   "metadata": {
    "slideshow": {
     "slide_type": "subslide"
    }
   },
   "outputs": [
    {
     "data": {
      "text/plain": [
       "(['pelvic_incidence'], array([0.05376688]))"
      ]
     },
     "execution_count": 36,
     "metadata": {},
     "output_type": "execute_result"
    }
   ],
   "source": [
    "# examine the coefficient for al\n",
    "feature_cols, logreg.coef_[0]"
   ]
  },
  {
   "cell_type": "markdown",
   "metadata": {
    "slideshow": {
     "slide_type": "fragment"
    }
   },
   "source": [
    "**Interpretation:** A 1 unit increase in `pelvic_incidence` is associated with a ~0.054 unit increase in the log-odds of `outcome`, where a positive outcome is having a vertebral abnormality (not positive in the real world, but positive in how we coded our outcome feature)."
   ]
  },
  {
   "cell_type": "code",
   "execution_count": 37,
   "metadata": {
    "slideshow": {
     "slide_type": "fragment"
    }
   },
   "outputs": [
    {
     "data": {
      "text/plain": [
       "0.6566903741190347"
      ]
     },
     "execution_count": 37,
     "metadata": {},
     "output_type": "execute_result"
    }
   ],
   "source": [
    "# increasing pelvic_incidence by 1 (so that pelvic_incidence=56) increases the log-odds by about 0.054\n",
    "logodds = 0.59481302 + 0.053766875792266015\n",
    "odds = np.exp(logodds)\n",
    "prob = odds/(1 + odds)\n",
    "prob"
   ]
  },
  {
   "cell_type": "code",
   "execution_count": 38,
   "metadata": {
    "slideshow": {
     "slide_type": "skip"
    }
   },
   "outputs": [
    {
     "data": {
      "text/plain": [
       "array([0.65669037])"
      ]
     },
     "execution_count": 38,
     "metadata": {},
     "output_type": "execute_result"
    }
   ],
   "source": [
    "# compute predicted probability for al=3 using the predict_proba method\n",
    "logreg.predict_proba(56)[:, 1]"
   ]
  },
  {
   "cell_type": "markdown",
   "metadata": {
    "slideshow": {
     "slide_type": "subslide"
    }
   },
   "source": [
    "**Positive coefficients increase the log-odds of the response (and thus increase the probability), and negative coefficients decrease the log-odds of the response (and thus decrease the probability).**"
   ]
  },
  {
   "cell_type": "code",
   "execution_count": 45,
   "metadata": {
    "slideshow": {
     "slide_type": "subslide"
    }
   },
   "outputs": [
    {
     "data": {
      "text/plain": [
       "array([-2.36236515])"
      ]
     },
     "execution_count": 45,
     "metadata": {},
     "output_type": "execute_result"
    }
   ],
   "source": [
    "# examine the intercept\n",
    "logreg.intercept_"
   ]
  },
  {
   "cell_type": "markdown",
   "metadata": {
    "slideshow": {
     "slide_type": "fragment"
    }
   },
   "source": [
    "**Interpretation:** For a 'pelvic_incidence' value of 0, the log-odds of 'outcome' is -2.36."
   ]
  },
  {
   "cell_type": "code",
   "execution_count": 46,
   "metadata": {
    "slideshow": {
     "slide_type": "fragment"
    }
   },
   "outputs": [
    {
     "data": {
      "text/plain": [
       "array([ 0.08608793])"
      ]
     },
     "execution_count": 46,
     "metadata": {},
     "output_type": "execute_result"
    }
   ],
   "source": [
    "# convert log-odds to probability\n",
    "logodds = logreg.intercept_\n",
    "odds = np.exp(logodds)\n",
    "prob = odds/(1 + odds)\n",
    "prob"
   ]
  },
  {
   "cell_type": "markdown",
   "metadata": {
    "slideshow": {
     "slide_type": "fragment"
    }
   },
   "source": [
    "That makes sense from the plot above, because the probability of outcome=1 should be very low for such a low `pelvic_incidence` value."
   ]
  },
  {
   "cell_type": "markdown",
   "metadata": {
    "slideshow": {
     "slide_type": "subslide"
    }
   },
   "source": [
    "![logistic betas example](nbimages/logisticbetas.png)"
   ]
  },
  {
   "cell_type": "markdown",
   "metadata": {
    "slideshow": {
     "slide_type": "fragment"
    }
   },
   "source": [
    "Changing the $\\beta_0$ value shifts the curve **horizontally**, whereas changing the $\\beta_1$ value changes the **slope** of the curve.\n",
    "\n",
    "The non-bias $\\beta$ coefficients are effectively estimates of how certain you are of the outcome given how much evidence that specific feature gives you. A really high magnitude (positive or negative) value means you are very certain of the outcome, given you know that feature's value."
   ]
  },
  {
   "cell_type": "markdown",
   "metadata": {},
   "source": [
    "### How do we measure model performance for classification problems?\n",
    "\n",
    "Now that we have a trained model just as we did before with linear regression, what is our **evaluation metric/loss function**?\n",
    "\n",
    "There are a few metrics we could use. For this class, we are going to stick with the accuracy metric, getting into more metrics in later lessons.\n",
    "  \n",
    "#### Accuracy\n",
    "- Will result in a ratio between 0 and 1\n",
    "<img src=\"images/accuracy.png\" width=\"400px;\"/>\n",
    "\n",
    "Let's compute our classification accuracy after training on the whole dataset, using our just-trained one-feature model and the scikit-learn method `accuracy_score`:"
   ]
  },
  {
   "cell_type": "code",
   "execution_count": 43,
   "metadata": {},
   "outputs": [
    {
     "name": "stdout",
     "output_type": "stream",
     "text": [
      "Model accuracy: 0.6258064516129033\n"
     ]
    }
   ],
   "source": [
    "y = vertebral_data.outcome_number\n",
    "y_pred = outcome_pred_class\n",
    "print(\"Model accuracy:\",metrics.accuracy_score(y,y_pred))"
   ]
  },
  {
   "cell_type": "markdown",
   "metadata": {},
   "source": [
    "62% is ok, but its not really fantastic. Can we do better? (YES WE CAN!)"
   ]
  },
  {
   "cell_type": "markdown",
   "metadata": {},
   "source": [
    "#### Exercise Time!!\n",
    "  * Generate the logistic regression model incorporating all of the features we have available to predict `outcome_number` and get the accuracy when training and testing on all data. How much better is this than the case where we trained our model using only `pelvic_incidence`?\n",
    "  * Use train/test split with 70% training, 30% testing and get the test error of the model trained on all features using `train_test_split` like we did during linear regression \n",
    "  * Inspect all of the model coefficients of the model trained on all features. Which feature is the most important for the prediction? Which is the least important?\n",
    "  * What are some problems you can see in using the data like we have been? (Look at the fraction of positive and negative outcomes in the dataset)"
   ]
  },
  {
   "cell_type": "code",
   "execution_count": 45,
   "metadata": {},
   "outputs": [
    {
     "data": {
      "text/plain": [
       "LogisticRegression(C=1.0, class_weight=None, dual=False, fit_intercept=True,\n",
       "          intercept_scaling=1, max_iter=100, multi_class='ovr', n_jobs=1,\n",
       "          penalty='l2', random_state=None, solver='liblinear', tol=0.0001,\n",
       "          verbose=0, warm_start=False)"
      ]
     },
     "execution_count": 45,
     "metadata": {},
     "output_type": "execute_result"
    }
   ],
   "source": [
    "y = vertebral_data['outcome_number']\n",
    "X = vertebral_data.drop(['outcome','outcome_pred_class', 'outcome_number'], axis=1)\n",
    "\n",
    "X_train, X_test, y_train,y_test = train_test_split(X,y,test_size=0.3 )\n",
    "\n",
    "\n",
    "logreg = LogisticRegression()\n",
    "logreg.fit(X_train, y_train)"
   ]
  },
  {
   "cell_type": "code",
   "execution_count": 47,
   "metadata": {},
   "outputs": [
    {
     "data": {
      "text/html": [
       "<div>\n",
       "<style>\n",
       "    .dataframe thead tr:only-child th {\n",
       "        text-align: right;\n",
       "    }\n",
       "\n",
       "    .dataframe thead th {\n",
       "        text-align: left;\n",
       "    }\n",
       "\n",
       "    .dataframe tbody tr th {\n",
       "        vertical-align: top;\n",
       "    }\n",
       "</style>\n",
       "<table border=\"1\" class=\"dataframe\">\n",
       "  <thead>\n",
       "    <tr style=\"text-align: right;\">\n",
       "      <th></th>\n",
       "      <th>pelvic_incidence</th>\n",
       "      <th>pelvic_tilt</th>\n",
       "      <th>lumbar_lordosis_angle</th>\n",
       "      <th>sacral_slope</th>\n",
       "      <th>pelvic_radius</th>\n",
       "      <th>spondy_grade</th>\n",
       "    </tr>\n",
       "  </thead>\n",
       "  <tbody>\n",
       "    <tr>\n",
       "      <th>26</th>\n",
       "      <td>26.15</td>\n",
       "      <td>10.76</td>\n",
       "      <td>14.0</td>\n",
       "      <td>15.39</td>\n",
       "      <td>125.20</td>\n",
       "      <td>-10.09</td>\n",
       "    </tr>\n",
       "    <tr>\n",
       "      <th>53</th>\n",
       "      <td>30.15</td>\n",
       "      <td>11.92</td>\n",
       "      <td>34.0</td>\n",
       "      <td>18.23</td>\n",
       "      <td>112.68</td>\n",
       "      <td>11.46</td>\n",
       "    </tr>\n",
       "  </tbody>\n",
       "</table>\n",
       "</div>"
      ],
      "text/plain": [
       "    pelvic_incidence  pelvic_tilt  lumbar_lordosis_angle  sacral_slope  \\\n",
       "26             26.15        10.76                   14.0         15.39   \n",
       "53             30.15        11.92                   34.0         18.23   \n",
       "\n",
       "    pelvic_radius  spondy_grade  \n",
       "26         125.20        -10.09  \n",
       "53         112.68         11.46  "
      ]
     },
     "execution_count": 47,
     "metadata": {},
     "output_type": "execute_result"
    }
   ],
   "source": [
    "X.head(2)"
   ]
  },
  {
   "cell_type": "code",
   "execution_count": 48,
   "metadata": {},
   "outputs": [
    {
     "data": {
      "text/plain": [
       "array([[ 0.01883671,  0.09230202, -0.00710426, -0.05182301, -0.02188669,\n",
       "         0.14438494]])"
      ]
     },
     "execution_count": 48,
     "metadata": {},
     "output_type": "execute_result"
    }
   ],
   "source": [
    "logreg.coef_"
   ]
  },
  {
   "cell_type": "code",
   "execution_count": 49,
   "metadata": {},
   "outputs": [
    {
     "name": "stdout",
     "output_type": "stream",
     "text": [
      "Accuracy:  0.8494623655913979\n"
     ]
    }
   ],
   "source": [
    "outcome_predictions = logreg.predict(X_test)\n",
    "print('Accuracy: ', metrics.accuracy_score(y_test, outcome_predictions))"
   ]
  },
  {
   "cell_type": "markdown",
   "metadata": {
    "slideshow": {
     "slide_type": "slide"
    }
   },
   "source": [
    "### Comparing Logistic Regression with Other Models\n",
    "\n",
    "Logistic regression has some really awesome advantages:\n",
    "\n",
    "  * It is a highly interpretable method (if you remember what the conversions from log-odds to probability are)\n",
    "  * Model training and prediction are fast\n",
    "  * No tuning is required (excluding regularization, which we will talk about later)\n",
    "  * No need to scale features\n",
    "  * Outputs well-calibrated predicted probabilities (the probabilities behave like probabilities)\n",
    "\n",
    "However, logistic regression also has some disadvantages:\n",
    "\n",
    "  * It presumes a linear relationship between the features and the log-odds of the response\n",
    "  * Compared to other, more fancypants modeling approaches, performance is (generally) not competitive with the best supervised learning methods\n",
    "  * Like linear regression for regression, it is sensitive to irrelevant features\n",
    "  * Unless you explicitly code them (we will see how to do that later), logistic regression can't automatically learn feature interactions"
   ]
  }
 ],
 "metadata": {
  "kernelspec": {
   "display_name": "Python 3",
   "language": "python",
   "name": "python3"
  },
  "language_info": {
   "codemirror_mode": {
    "name": "ipython",
    "version": 3
   },
   "file_extension": ".py",
   "mimetype": "text/x-python",
   "name": "python",
   "nbconvert_exporter": "python",
   "pygments_lexer": "ipython3",
   "version": "3.6.1"
  }
 },
 "nbformat": 4,
 "nbformat_minor": 1
}
